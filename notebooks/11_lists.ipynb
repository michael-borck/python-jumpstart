{
  "cells": [
    {
      "cell_type": "markdown",
      "metadata": {
        "id": "view-in-github",
        "colab_type": "text"
      },
      "source": [
        "<a href=\"https://colab.research.google.com/github/michael-borck/just_enough_python/blob/main/11_lists.ipynb\" target=\"_parent\"><img src=\"https://colab.research.google.com/assets/colab-badge.svg\" alt=\"Open In Colab\"/></a>"
      ]
    },
    {
      "cell_type": "markdown",
      "source": [
        "<!--NAVIGATION-->\n",
        "<[Making Decisions](10_making_decisions.ipynb) | [Contents](00_contents.ipynb) | [Going Loopy](12_going_loopy.ipynb) >"
      ],
      "metadata": {
        "id": "HXZiCbM4-qm2"
      }
    },
    {
      "cell_type": "markdown",
      "source": [
        "# Lists\n",
        "\n",
        "The list is a data structure in Python that acts as a container to hold or \n",
        "store multiple data. A list is an ordered sequence of elements. Each element is associated with a number we call that number is called an index. The first position in a list starts with index 0 (not 1!).\n",
        "\n",
        "We declare lists using square brackets `[ ]`. Elements in the list are comma separated. To create a list you need a name and the initial values.\n",
        "\n",
        "A common pattern is to create create an empty list in Python. You have to add \n",
        "elements one by one like this:"
      ],
      "metadata": {
        "id": "06KzqOkE6sk1"
      }
    },
    {
      "cell_type": "code",
      "source": [
        "# start with empty list\n",
        "my_list = []\n",
        "\n",
        "# add to the list\n",
        "my_list.append(20)\n",
        "print(my_list)"
      ],
      "metadata": {
        "id": "AVd3kvPFKH5C",
        "outputId": "2d0d71d8-f24c-47c0-8c24-15dd34fba144",
        "colab": {
          "base_uri": "https://localhost:8080/"
        }
      },
      "execution_count": 21,
      "outputs": [
        {
          "output_type": "stream",
          "name": "stdout",
          "text": [
            "[20]\n"
          ]
        }
      ]
    },
    {
      "cell_type": "markdown",
      "source": [
        "We can combine list by extending one list with another."
      ],
      "metadata": {
        "id": "Z0WFJhssKpkt"
      }
    },
    {
      "cell_type": "code",
      "source": [
        "# extend a list\n",
        "another_list = [11,22]\n",
        "my_list.extend(another_list)\n",
        "print(my_list)\n"
      ],
      "metadata": {
        "id": "H4yYweYqKnhg",
        "outputId": "06f7aaa3-2e13-43fc-ec5c-852447931de2",
        "colab": {
          "base_uri": "https://localhost:8080/"
        }
      },
      "execution_count": 22,
      "outputs": [
        {
          "output_type": "stream",
          "name": "stdout",
          "text": [
            "[20, 11, 22]\n"
          ]
        }
      ]
    },
    {
      "cell_type": "markdown",
      "source": [
        "We can get help on any list method.\n",
        "\n",
        "> We call it a method rather than a function because it needs a list object.  We can tell this because of the dot `.`."
      ],
      "metadata": {
        "id": "dmA_06ntLaVU"
      }
    },
    {
      "cell_type": "code",
      "source": [
        "help(my_list.extend)"
      ],
      "metadata": {
        "id": "aaueiUk7LPkU",
        "outputId": "79a895c0-9095-41db-dd1d-7d890c5ed639",
        "colab": {
          "base_uri": "https://localhost:8080/"
        }
      },
      "execution_count": 23,
      "outputs": [
        {
          "output_type": "stream",
          "name": "stdout",
          "text": [
            "Help on built-in function extend:\n",
            "\n",
            "extend(iterable, /) method of builtins.list instance\n",
            "    Extend list by appending elements from the iterable.\n",
            "\n"
          ]
        }
      ]
    },
    {
      "cell_type": "markdown",
      "source": [
        "We can access an element of the list by index."
      ],
      "metadata": {
        "id": "scYpsGRxOPMm"
      }
    },
    {
      "cell_type": "code",
      "source": [
        "# Access the second element\n",
        "my_list[1]"
      ],
      "metadata": {
        "id": "2lQTXKPDOUVb",
        "outputId": "c2254a65-3912-40fc-e347-adb751b165f8",
        "colab": {
          "base_uri": "https://localhost:8080/"
        }
      },
      "execution_count": 24,
      "outputs": [
        {
          "output_type": "execute_result",
          "data": {
            "text/plain": [
              "11"
            ]
          },
          "metadata": {},
          "execution_count": 24
        }
      ]
    },
    {
      "cell_type": "markdown",
      "source": [
        "We can insert a value into a list, all we need is the index location.  The cell below inserts the value 99 into the second position (index 1) of the list."
      ],
      "metadata": {
        "id": "Rfs6HToyLfwr"
      }
    },
    {
      "cell_type": "code",
      "source": [
        "# insert into list\n",
        "my_list.insert(1,99)\n",
        "print(my_list)"
      ],
      "metadata": {
        "id": "AL3W1T96LImh",
        "outputId": "468fa0a7-00d4-4583-abeb-28b054a85d8a",
        "colab": {
          "base_uri": "https://localhost:8080/"
        }
      },
      "execution_count": 25,
      "outputs": [
        {
          "output_type": "stream",
          "name": "stdout",
          "text": [
            "[20, 99, 11, 22]\n"
          ]
        }
      ]
    },
    {
      "cell_type": "markdown",
      "source": [
        "We can sort a list.\n",
        "\n",
        "> We say here *the list is sorting itself*"
      ],
      "metadata": {
        "id": "J9Lq5QqLL19Z"
      }
    },
    {
      "cell_type": "code",
      "source": [
        "# sort list\n",
        "my_list.sort()\n",
        "print(my_list)"
      ],
      "metadata": {
        "id": "yzEX-TmaLJma",
        "outputId": "e115ac43-7d51-426d-f99b-7be8bb2c89a5",
        "colab": {
          "base_uri": "https://localhost:8080/"
        }
      },
      "execution_count": 26,
      "outputs": [
        {
          "output_type": "stream",
          "name": "stdout",
          "text": [
            "[11, 20, 22, 99]\n"
          ]
        }
      ]
    },
    {
      "cell_type": "markdown",
      "source": [
        "Let's sort in reverse order"
      ],
      "metadata": {
        "id": "dwST5cApMN-m"
      }
    },
    {
      "cell_type": "code",
      "source": [
        "# sort revers order\n",
        "my_list.sort(reverse=True)\n",
        "print(my_list)"
      ],
      "metadata": {
        "id": "APmmDFPfMPFe",
        "outputId": "614c6620-32fd-4f65-c48e-cbab4ee2b04c",
        "colab": {
          "base_uri": "https://localhost:8080/"
        }
      },
      "execution_count": 27,
      "outputs": [
        {
          "output_type": "stream",
          "name": "stdout",
          "text": [
            "[99, 22, 20, 11]\n"
          ]
        }
      ]
    },
    {
      "cell_type": "markdown",
      "source": [
        "We pop an element off the list.  By default it *pops* the right most element, but we can specify and index."
      ],
      "metadata": {
        "id": "qamu1tNLMV6L"
      }
    },
    {
      "cell_type": "code",
      "source": [
        "# remove values from list\n",
        "my_list.pop() # remove right most value\n",
        "print(my_list)\n",
        "\n",
        "# remove the first element\n",
        "my_list.pop(0)\n",
        "print(my_list)"
      ],
      "metadata": {
        "id": "PHZeUj-oMWem",
        "outputId": "ec5fced0-c73f-41ae-d7d2-a50a072134de",
        "colab": {
          "base_uri": "https://localhost:8080/"
        }
      },
      "execution_count": 28,
      "outputs": [
        {
          "output_type": "stream",
          "name": "stdout",
          "text": [
            "[99, 22, 20]\n",
            "[22, 20]\n"
          ]
        }
      ]
    },
    {
      "cell_type": "markdown",
      "source": [
        "If we not sure of the index we can remove elements by *value*.  Let remove the value 20 from the list.\n"
      ],
      "metadata": {
        "id": "pHqXHVbQMzpj"
      }
    },
    {
      "cell_type": "code",
      "source": [
        "# pop removes by index, use remove() to remove by value\n",
        "my_list.remove(20) # remove the first value found\n",
        "print(my_list)"
      ],
      "metadata": {
        "id": "emgkX3FzMywr",
        "outputId": "ba038b0f-d1b0-4834-cd65-bc3ff01ac7fb",
        "colab": {
          "base_uri": "https://localhost:8080/"
        }
      },
      "execution_count": 29,
      "outputs": [
        {
          "output_type": "stream",
          "name": "stdout",
          "text": [
            "[22]\n"
          ]
        }
      ]
    },
    {
      "cell_type": "markdown",
      "source": [
        "If the *value* is not in the list, throw an exception."
      ],
      "metadata": {
        "id": "XNfM7FvYN4Na"
      }
    },
    {
      "cell_type": "code",
      "source": [
        "my_list.remove(20) # exception if not found"
      ],
      "metadata": {
        "id": "gkpxHNODMdxn",
        "outputId": "f956554c-cfb2-4dfb-8942-b6547b48347a",
        "colab": {
          "base_uri": "https://localhost:8080/",
          "height": 168
        }
      },
      "execution_count": 30,
      "outputs": [
        {
          "output_type": "error",
          "ename": "ValueError",
          "evalue": "ignored",
          "traceback": [
            "\u001b[0;31m---------------------------------------------------------------------------\u001b[0m",
            "\u001b[0;31mValueError\u001b[0m                                Traceback (most recent call last)",
            "\u001b[0;32m<ipython-input-30-55494eb51c8f>\u001b[0m in \u001b[0;36m<module>\u001b[0;34m()\u001b[0m\n\u001b[0;32m----> 1\u001b[0;31m \u001b[0mmy_list\u001b[0m\u001b[0;34m.\u001b[0m\u001b[0mremove\u001b[0m\u001b[0;34m(\u001b[0m\u001b[0;36m20\u001b[0m\u001b[0;34m)\u001b[0m \u001b[0;31m# exception if not found\u001b[0m\u001b[0;34m\u001b[0m\u001b[0;34m\u001b[0m\u001b[0m\n\u001b[0m",
            "\u001b[0;31mValueError\u001b[0m: list.remove(x): x not in list"
          ]
        }
      ]
    },
    {
      "cell_type": "markdown",
      "source": [
        "We discuss how to handle [exceptions](13_errors_and_exceptions.ipynb) later.\n",
        "\n",
        "We can have a list of lists."
      ],
      "metadata": {
        "id": "QY-ryd3XOB50"
      }
    },
    {
      "cell_type": "code",
      "source": [
        "list1 = [1,11,111,1111]\n",
        "list2 = [2,22,222,2222]\n",
        "list_of_lists = [list1, list2]\n",
        "print(list_of_lists)"
      ],
      "metadata": {
        "id": "J6KoO_ppOqbW",
        "outputId": "77cf85d1-6a35-4d5d-c5a0-ec43ce8f5d48",
        "colab": {
          "base_uri": "https://localhost:8080/"
        }
      },
      "execution_count": 31,
      "outputs": [
        {
          "output_type": "stream",
          "name": "stdout",
          "text": [
            "[[1, 11, 111, 1111], [2, 22, 222, 2222]]\n"
          ]
        }
      ]
    },
    {
      "cell_type": "markdown",
      "source": [
        "How can we access `111`?\n",
        "\n",
        "Here the first element is `[1, 11, 111, 1111]`.  \n",
        "\n",
        "That is `list_of_lists[0]` is `[1, 11, 1111, 1111]`.  \n",
        "\n",
        "We want the 3rd element sp `list_of_lists[0][2]`\n"
      ],
      "metadata": {
        "id": "K2iqoXpkO-jP"
      }
    },
    {
      "cell_type": "code",
      "source": [
        "list_of_lists[0][2]"
      ],
      "metadata": {
        "id": "SeRjKfOuP131",
        "outputId": "2a7b358a-1769-49ed-c018-438b4d353370",
        "colab": {
          "base_uri": "https://localhost:8080/"
        }
      },
      "execution_count": 32,
      "outputs": [
        {
          "output_type": "execute_result",
          "data": {
            "text/plain": [
              "111"
            ]
          },
          "metadata": {},
          "execution_count": 32
        }
      ]
    },
    {
      "cell_type": "markdown",
      "source": [
        "List can contain different types of values\n"
      ],
      "metadata": {
        "id": "rBlFHF1PQgUd"
      }
    },
    {
      "cell_type": "code",
      "source": [
        "mixed_list = ['Apples', 23.7, 'a', 12, [1,2,3]]\n",
        "print(mixed_list)"
      ],
      "metadata": {
        "id": "0wMrQ3qKQfGm",
        "outputId": "16011b08-559b-44b1-c453-b876be2823fc",
        "colab": {
          "base_uri": "https://localhost:8080/"
        }
      },
      "execution_count": 36,
      "outputs": [
        {
          "output_type": "stream",
          "name": "stdout",
          "text": [
            "['Apples', 23.7, 'a', 12, [1, 2, 3]]\n"
          ]
        }
      ]
    },
    {
      "cell_type": "markdown",
      "source": [
        "What are all the methods of a list?"
      ],
      "metadata": {
        "id": "rnAN_hnwQDSn"
      }
    },
    {
      "cell_type": "code",
      "source": [
        "help(list)"
      ],
      "metadata": {
        "id": "8xHeNfckP8CD",
        "outputId": "ecc606b2-362b-4d10-fc91-bdc31ceefaca",
        "colab": {
          "base_uri": "https://localhost:8080/"
        }
      },
      "execution_count": 33,
      "outputs": [
        {
          "output_type": "stream",
          "name": "stdout",
          "text": [
            "Help on class list in module builtins:\n",
            "\n",
            "class list(object)\n",
            " |  list(iterable=(), /)\n",
            " |  \n",
            " |  Built-in mutable sequence.\n",
            " |  \n",
            " |  If no argument is given, the constructor creates a new empty list.\n",
            " |  The argument must be an iterable if specified.\n",
            " |  \n",
            " |  Methods defined here:\n",
            " |  \n",
            " |  __add__(self, value, /)\n",
            " |      Return self+value.\n",
            " |  \n",
            " |  __contains__(self, key, /)\n",
            " |      Return key in self.\n",
            " |  \n",
            " |  __delitem__(self, key, /)\n",
            " |      Delete self[key].\n",
            " |  \n",
            " |  __eq__(self, value, /)\n",
            " |      Return self==value.\n",
            " |  \n",
            " |  __ge__(self, value, /)\n",
            " |      Return self>=value.\n",
            " |  \n",
            " |  __getattribute__(self, name, /)\n",
            " |      Return getattr(self, name).\n",
            " |  \n",
            " |  __getitem__(...)\n",
            " |      x.__getitem__(y) <==> x[y]\n",
            " |  \n",
            " |  __gt__(self, value, /)\n",
            " |      Return self>value.\n",
            " |  \n",
            " |  __iadd__(self, value, /)\n",
            " |      Implement self+=value.\n",
            " |  \n",
            " |  __imul__(self, value, /)\n",
            " |      Implement self*=value.\n",
            " |  \n",
            " |  __init__(self, /, *args, **kwargs)\n",
            " |      Initialize self.  See help(type(self)) for accurate signature.\n",
            " |  \n",
            " |  __iter__(self, /)\n",
            " |      Implement iter(self).\n",
            " |  \n",
            " |  __le__(self, value, /)\n",
            " |      Return self<=value.\n",
            " |  \n",
            " |  __len__(self, /)\n",
            " |      Return len(self).\n",
            " |  \n",
            " |  __lt__(self, value, /)\n",
            " |      Return self<value.\n",
            " |  \n",
            " |  __mul__(self, value, /)\n",
            " |      Return self*value.\n",
            " |  \n",
            " |  __ne__(self, value, /)\n",
            " |      Return self!=value.\n",
            " |  \n",
            " |  __repr__(self, /)\n",
            " |      Return repr(self).\n",
            " |  \n",
            " |  __reversed__(self, /)\n",
            " |      Return a reverse iterator over the list.\n",
            " |  \n",
            " |  __rmul__(self, value, /)\n",
            " |      Return value*self.\n",
            " |  \n",
            " |  __setitem__(self, key, value, /)\n",
            " |      Set self[key] to value.\n",
            " |  \n",
            " |  __sizeof__(self, /)\n",
            " |      Return the size of the list in memory, in bytes.\n",
            " |  \n",
            " |  append(self, object, /)\n",
            " |      Append object to the end of the list.\n",
            " |  \n",
            " |  clear(self, /)\n",
            " |      Remove all items from list.\n",
            " |  \n",
            " |  copy(self, /)\n",
            " |      Return a shallow copy of the list.\n",
            " |  \n",
            " |  count(self, value, /)\n",
            " |      Return number of occurrences of value.\n",
            " |  \n",
            " |  extend(self, iterable, /)\n",
            " |      Extend list by appending elements from the iterable.\n",
            " |  \n",
            " |  index(self, value, start=0, stop=9223372036854775807, /)\n",
            " |      Return first index of value.\n",
            " |      \n",
            " |      Raises ValueError if the value is not present.\n",
            " |  \n",
            " |  insert(self, index, object, /)\n",
            " |      Insert object before index.\n",
            " |  \n",
            " |  pop(self, index=-1, /)\n",
            " |      Remove and return item at index (default last).\n",
            " |      \n",
            " |      Raises IndexError if list is empty or index is out of range.\n",
            " |  \n",
            " |  remove(self, value, /)\n",
            " |      Remove first occurrence of value.\n",
            " |      \n",
            " |      Raises ValueError if the value is not present.\n",
            " |  \n",
            " |  reverse(self, /)\n",
            " |      Reverse *IN PLACE*.\n",
            " |  \n",
            " |  sort(self, /, *, key=None, reverse=False)\n",
            " |      Stable sort *IN PLACE*.\n",
            " |  \n",
            " |  ----------------------------------------------------------------------\n",
            " |  Static methods defined here:\n",
            " |  \n",
            " |  __new__(*args, **kwargs) from builtins.type\n",
            " |      Create and return a new object.  See help(type) for accurate signature.\n",
            " |  \n",
            " |  ----------------------------------------------------------------------\n",
            " |  Data and other attributes defined here:\n",
            " |  \n",
            " |  __hash__ = None\n",
            "\n"
          ]
        }
      ]
    },
    {
      "cell_type": "markdown",
      "source": [
        "# Conclusion\n",
        "\n",
        "Lists are very useful wat to structure our data. We can append, extend, pop, remove, sort etc. a list.\n"
      ],
      "metadata": {
        "id": "u-7Xt8iGtpop"
      }
    },
    {
      "cell_type": "markdown",
      "source": [
        "<!--NAVIGATION-->\n",
        "<[Making Decisions](10_making_decisions.ipynb) | [Contents](00_contents.ipynb) | [Going Loopy](12_going_loopy.ipynb) >"
      ],
      "metadata": {
        "id": "6yVvb2M4-9zj"
      }
    }
  ],
  "metadata": {
    "kernelspec": {
      "display_name": "Python 3",
      "language": "python",
      "name": "python3"
    },
    "language_info": {
      "codemirror_mode": {
        "name": "ipython",
        "version": 3
      },
      "file_extension": ".py",
      "mimetype": "text/x-python",
      "name": "python",
      "nbconvert_exporter": "python",
      "pygments_lexer": "ipython3",
      "version": "3.8.5"
    },
    "colab": {
      "name": "11_lists.ipynb",
      "provenance": [],
      "include_colab_link": true
    }
  },
  "nbformat": 4,
  "nbformat_minor": 0
}