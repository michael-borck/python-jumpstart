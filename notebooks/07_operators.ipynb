{
  "cells": [
    {
      "cell_type": "markdown",
      "metadata": {
        "id": "view-in-github",
        "colab_type": "text"
      },
      "source": [
        "<a href=\"https://colab.research.google.com/github/michael-borck/just_enough_python/blob/main/07_operators.ipynb\" target=\"_parent\"><img src=\"https://colab.research.google.com/assets/colab-badge.svg\" alt=\"Open In Colab\"/></a>"
      ]
    },
    {
      "cell_type": "markdown",
      "source": [
        "<!--NAVIGATION-->\n",
        "< [Input](06_input.ipynb) | [Contents](00_contents.ipynb) |[Functions](08_functions.ipynb) >"
      ],
      "metadata": {
        "id": "g_tYmKieDeEt"
      }
    },
    {
      "cell_type": "markdown",
      "source": [
        "# Operators\n",
        "\n",
        "Operators allow us to do things with data. We can perform arithmetic or test something about a variable, e.g., a value within a range or part of a list. We can make more complex expressions using `and`, `or` and `not`. We use operators to\n",
        "* perform arithmetic \n",
        "* [make decisions](09_making_decisions.ipynb)\n",
        "* [repeat things](11_going_loopy.ipynb)\n",
        "* [fixing errors](12_fixing_errors.ipynb)\n",
        "\n",
        "Here is a table of arithmetic operators\n",
        "\n",
        "\n",
        "| Operation | Description           | Example       |  Result  |\n",
        "|:---------:|-----------------------|---------------|----------|\n",
        "| ```+```   | Addition              | ```3 + 2.2``` | ```5.2```|\n",
        "| ```-```   | Subtraction           | ```5 - 2```   | ```3```  |\n",
        "| ```*```   | Multiplication        | ```3 * 8```   | ```24``` |\n",
        "| ```**```  | Raise to the power of | ```3 ** 2```  | ```9```  |\n",
        "| ```/```   | Division              | ```5/2```     | ```2.5```|\n",
        "| ```//```  | Integer Division      | ```5/2```     | ```2```  |\n",
        "| ```%```   | Modulo                | ```5%2```     | ```1```  |\n",
        "\n",
        "\n",
        "Use the cell below to try out some of the examples from the above table."
      ],
      "metadata": {
        "id": "dn3ZwpT_0A6i"
      }
    },
    {
      "cell_type": "code",
      "source": [
        "3 + 2.2"
      ],
      "metadata": {
        "colab": {
          "base_uri": "https://localhost:8080/"
        },
        "id": "MGdpKOp1THfY",
        "outputId": "c2947758-5f36-41ac-9e02-bda4b566701f"
      },
      "execution_count": null,
      "outputs": [
        {
          "output_type": "execute_result",
          "data": {
            "text/plain": [
              "5.2"
            ]
          },
          "metadata": {},
          "execution_count": 1
        }
      ]
    },
    {
      "cell_type": "markdown",
      "source": [
        "`3 + 2.2` is called an expression.  We can print an expression."
      ],
      "metadata": {
        "id": "WHqie6SgTITU"
      }
    },
    {
      "cell_type": "code",
      "source": [
        "print(3 + 2.2)"
      ],
      "metadata": {
        "colab": {
          "base_uri": "https://localhost:8080/"
        },
        "id": "DEE43b9YTjO-",
        "outputId": "f6b5fd09-cbc1-452e-ec98-cb92d395a81b"
      },
      "execution_count": null,
      "outputs": [
        {
          "output_type": "stream",
          "name": "stdout",
          "text": [
            "5.2\n"
          ]
        }
      ]
    },
    {
      "cell_type": "markdown",
      "source": [
        "We can store the result of an expression in a variable"
      ],
      "metadata": {
        "id": "9AwcxyjlTmS2"
      }
    },
    {
      "cell_type": "code",
      "source": [
        "total = 3 + 2.2\n",
        "print(total)"
      ],
      "metadata": {
        "colab": {
          "base_uri": "https://localhost:8080/"
        },
        "id": "movQNqjwTukk",
        "outputId": "c4729ca9-e0c4-4648-8c5e-a4c1d90db25c"
      },
      "execution_count": null,
      "outputs": [
        {
          "output_type": "stream",
          "name": "stdout",
          "text": [
            "5.2\n"
          ]
        }
      ]
    },
    {
      "cell_type": "markdown",
      "source": [
        "We can use `variables` in expressions"
      ],
      "metadata": {
        "id": "9Zp-B1i4T9-9"
      }
    },
    {
      "cell_type": "code",
      "source": [
        "year = 2022\n",
        "birth_year = 2000\n",
        "age = year - birth_year\n",
        "print(age)"
      ],
      "metadata": {
        "colab": {
          "base_uri": "https://localhost:8080/"
        },
        "id": "JFpF64zuT5Ob",
        "outputId": "b361aec0-06ab-43ae-974f-0d1cb410f571"
      },
      "execution_count": null,
      "outputs": [
        {
          "output_type": "stream",
          "name": "stdout",
          "text": [
            "22\n"
          ]
        }
      ]
    },
    {
      "cell_type": "markdown",
      "source": [
        "Lets use the `input()` from and get some informaiton from the user"
      ],
      "metadata": {
        "id": "coIGc9AOU3B6"
      }
    },
    {
      "cell_type": "code",
      "source": [
        "year = input('What year is it? ')\n",
        "birth_year = input('What year were you born? ')\n",
        "age = year - birth_year\n",
        "print(age)"
      ],
      "metadata": {
        "colab": {
          "base_uri": "https://localhost:8080/",
          "height": 258
        },
        "id": "WXhbEx52VJ8G",
        "outputId": "93570de5-d639-4c94-94f8-11f62482e3f0"
      },
      "execution_count": null,
      "outputs": [
        {
          "name": "stdout",
          "output_type": "stream",
          "text": [
            "What year is it? 2022\n",
            "What year were you born? 2000\n"
          ]
        },
        {
          "output_type": "error",
          "ename": "TypeError",
          "evalue": "ignored",
          "traceback": [
            "\u001b[0;31m---------------------------------------------------------------------------\u001b[0m",
            "\u001b[0;31mTypeError\u001b[0m                                 Traceback (most recent call last)",
            "\u001b[0;32m<ipython-input-7-77929a36b737>\u001b[0m in \u001b[0;36m<module>\u001b[0;34m()\u001b[0m\n\u001b[1;32m      1\u001b[0m \u001b[0myear\u001b[0m \u001b[0;34m=\u001b[0m \u001b[0minput\u001b[0m\u001b[0;34m(\u001b[0m\u001b[0;34m'What year is it? '\u001b[0m\u001b[0;34m)\u001b[0m\u001b[0;34m\u001b[0m\u001b[0;34m\u001b[0m\u001b[0m\n\u001b[1;32m      2\u001b[0m \u001b[0mbirth_year\u001b[0m \u001b[0;34m=\u001b[0m \u001b[0minput\u001b[0m\u001b[0;34m(\u001b[0m\u001b[0;34m'What year were you born? '\u001b[0m\u001b[0;34m)\u001b[0m\u001b[0;34m\u001b[0m\u001b[0;34m\u001b[0m\u001b[0m\n\u001b[0;32m----> 3\u001b[0;31m \u001b[0mage\u001b[0m \u001b[0;34m=\u001b[0m \u001b[0myear\u001b[0m \u001b[0;34m-\u001b[0m \u001b[0mbirth_year\u001b[0m\u001b[0;34m\u001b[0m\u001b[0;34m\u001b[0m\u001b[0m\n\u001b[0m\u001b[1;32m      4\u001b[0m \u001b[0mprint\u001b[0m\u001b[0;34m(\u001b[0m\u001b[0mage\u001b[0m\u001b[0;34m)\u001b[0m\u001b[0;34m\u001b[0m\u001b[0;34m\u001b[0m\u001b[0m\n",
            "\u001b[0;31mTypeError\u001b[0m: unsupported operand type(s) for -: 'str' and 'str'"
          ]
        }
      ]
    },
    {
      "cell_type": "markdown",
      "source": [
        "What happened?  You may have already guessed, but if not, here is the clue from the error message: \n",
        "\n",
        "`TypeError: unsupported operand type(s) for -: 'str' and 'str'`\n",
        "\n",
        "The error seems to be with `str`, the string type in Python.  Let us confirm our suspicions"
      ],
      "metadata": {
        "id": "d0u75U35V3pe"
      }
    },
    {
      "cell_type": "code",
      "source": [
        "year = input('What year is it? ')\n",
        "print(year)\n",
        "print(type(year))"
      ],
      "metadata": {
        "colab": {
          "base_uri": "https://localhost:8080/"
        },
        "id": "B-l9jTQgWnpA",
        "outputId": "547e27b7-e2f6-4931-e1d2-b1d9e42389e9"
      },
      "execution_count": null,
      "outputs": [
        {
          "output_type": "stream",
          "name": "stdout",
          "text": [
            "What year is it? 2022\n",
            "2022\n",
            "<class 'str'>\n"
          ]
        }
      ]
    },
    {
      "cell_type": "markdown",
      "source": [
        "So the data type of the variable is string. The `input()` function ALWAYS return a `str` data type.\n",
        "\n",
        "There is a way to convert a string to an integer; we can use the `int()` function. If we give the `int()` function a string, it will try to convert it to an integer. We can use the `float()` function to convert a string to a `float`.\n",
        "\n",
        "> We can convert number to string with the `str()` function. This process can be helpful when formatting output."
      ],
      "metadata": {
        "id": "umYK3TTKWzGH"
      }
    },
    {
      "cell_type": "code",
      "source": [
        "# We can make it simplere\n",
        "year = input('What year is it? ')\n",
        "print(year)\n",
        "print(type(year))\n",
        "\n",
        "# lets reassign the value\n",
        "year = int(year)\n",
        "print(year)\n",
        "print(type(year))"
      ],
      "metadata": {
        "colab": {
          "base_uri": "https://localhost:8080/"
        },
        "id": "h_G_4-h5YpUM",
        "outputId": "6a88dc6e-52f9-4ad1-bf8d-17daff25c0ec"
      },
      "execution_count": null,
      "outputs": [
        {
          "output_type": "stream",
          "name": "stdout",
          "text": [
            "What year is it? 2022\n",
            "2022\n",
            "<class 'str'>\n",
            "2022\n",
            "<class 'int'>\n"
          ]
        }
      ]
    },
    {
      "cell_type": "markdown",
      "source": [
        "Okay, let try to calculate `age` again.  In this exmaple we use the output of the `input()` function as the input to the `int()` function."
      ],
      "metadata": {
        "id": "UekIfNdoY3zr"
      }
    },
    {
      "cell_type": "code",
      "source": [
        "year = int(input('What year is it? '))\n",
        "birth_year = int(input('What year were you born? '))\n",
        "age = year - birth_year\n",
        "print(age)"
      ],
      "metadata": {
        "colab": {
          "base_uri": "https://localhost:8080/"
        },
        "id": "Whwrd0edZFwG",
        "outputId": "652b11cd-73f4-4d97-f554-5b6a06b2350b"
      },
      "execution_count": null,
      "outputs": [
        {
          "output_type": "stream",
          "name": "stdout",
          "text": [
            "What year is it? 2022\n",
            "What year were you born? 2000\n",
            "22\n"
          ]
        }
      ]
    },
    {
      "cell_type": "markdown",
      "source": [
        "## Comparision Operators\n",
        "\n",
        "The following table show *operators* used to compare the relationship between numbers.  The comparison result is either `True` or `False`, which is a boolean value.  We call the expression a *boolean expression*.\n",
        "\n",
        "\n",
        "| Operation | Description            | Example           |  Result     |\n",
        "|:---------:|------------------------|-------------------|-------------|\n",
        "| ```<```   | Less than              | ```3 < 2```       | ```False``` |\n",
        "| ```>```   | Greater than           | ```3 > 2```       | ```True```  |\n",
        "| ```<=```  | Less than or equal     | ```3 <= 2```      | ```False``` |\n",
        "| ```>=```  | greater than or equal  | ```3 >= 2```      | ```True```  |\n",
        "| ```==```  | equal to               | ```3 == 2```      | ```False``` |\n",
        "| ```!=```  | not equal to           | ```3 != 2```      | ```True```  |\n",
        "| ```not``` | not                    | ```not(3 == 2)``` | ```True```  |\n",
        "\n",
        "Use the cell below to try some of the *boolean expressions* in the example column."
      ],
      "metadata": {
        "id": "eFwkWzN3ZxXW"
      }
    },
    {
      "cell_type": "code",
      "source": [
        "3 < 2"
      ],
      "metadata": {
        "colab": {
          "base_uri": "https://localhost:8080/"
        },
        "id": "brygcReghoOD",
        "outputId": "898b9033-7f5f-4c71-9b4f-a9776340192f"
      },
      "execution_count": null,
      "outputs": [
        {
          "output_type": "execute_result",
          "data": {
            "text/plain": [
              "False"
            ]
          },
          "metadata": {},
          "execution_count": 2
        }
      ]
    },
    {
      "cell_type": "markdown",
      "source": [
        "We should use the `print()` function"
      ],
      "metadata": {
        "id": "SQnv-L_zhykw"
      }
    },
    {
      "cell_type": "code",
      "source": [
        "print(3 < 2)"
      ],
      "metadata": {
        "colab": {
          "base_uri": "https://localhost:8080/"
        },
        "id": "uDY-IVOFh3d7",
        "outputId": "e3f99e42-5e3c-4d40-a24e-047232dbd1e3"
      },
      "execution_count": null,
      "outputs": [
        {
          "output_type": "stream",
          "name": "stdout",
          "text": [
            "False\n"
          ]
        }
      ]
    },
    {
      "cell_type": "markdown",
      "source": [
        "Save the result of the expression to a variable"
      ],
      "metadata": {
        "id": "elMHvkKeh7ZI"
      }
    },
    {
      "cell_type": "code",
      "source": [
        "result = 3 < 2\n",
        "print(result)"
      ],
      "metadata": {
        "colab": {
          "base_uri": "https://localhost:8080/"
        },
        "id": "RzbHUZI0iAHo",
        "outputId": "ee31bf51-6f31-43b1-fe0b-a83b3920d979"
      },
      "execution_count": null,
      "outputs": [
        {
          "output_type": "stream",
          "name": "stdout",
          "text": [
            "False\n"
          ]
        }
      ]
    },
    {
      "cell_type": "markdown",
      "source": [
        "How about comparing variable?"
      ],
      "metadata": {
        "id": "i5Twi9tgiSOO"
      }
    },
    {
      "cell_type": "code",
      "source": [
        "temperature = 38\n",
        "is_hot = temperature > 35\n",
        "print(is_hot)"
      ],
      "metadata": {
        "colab": {
          "base_uri": "https://localhost:8080/"
        },
        "id": "vbscztZsiPjf",
        "outputId": "0454421b-7996-4a98-d966-1749fb3fafc0"
      },
      "execution_count": null,
      "outputs": [
        {
          "output_type": "stream",
          "name": "stdout",
          "text": [
            "True\n"
          ]
        }
      ]
    },
    {
      "cell_type": "markdown",
      "source": [
        "We will use boolean expressions to \n",
        "* [make decisions](09_making_decisions.ipynb)\n",
        "* [repeat things](11_going_loopy.ipynb)\n",
        "* [fixing errors](12_fixing_errors.ipynb)"
      ],
      "metadata": {
        "id": "HyHLdQmUilc9"
      }
    },
    {
      "cell_type": "markdown",
      "source": [
        "\n",
        "## Other Common Operators\n",
        "\n",
        "Logical operators are used to combine conditional statements.\n",
        "\n",
        "Let `x = 6`\n",
        "\n",
        "| Operation | Description            | Example           | Resut |\n",
        "|:---------:|------------------------|-------------------|-------|\n",
        "| and \t    | Returns True if both statements are true\t | x > 5 and  x < 10 | True |\n",
        "| or\t      | Returns True if one of the statements is true| x < 5 or x > 4\t| True |\n",
        "| not\t      | Reverse the result, returns False if the result is true\t| not(x > 5 and x < 10)| False|\n"
      ],
      "metadata": {
        "id": "BqP-CfNTkPFY"
      }
    },
    {
      "cell_type": "code",
      "source": [
        "x = 6\n",
        "is_between = (x > 5 and x < 10)\n",
        "print(is_between)"
      ],
      "metadata": {
        "colab": {
          "base_uri": "https://localhost:8080/"
        },
        "id": "ivbzQ9bwnvAh",
        "outputId": "68fdf4f6-fb66-4a09-f6dc-909550bc1438"
      },
      "execution_count": null,
      "outputs": [
        {
          "output_type": "stream",
          "name": "stdout",
          "text": [
            "True\n"
          ]
        }
      ]
    },
    {
      "cell_type": "markdown",
      "source": [
        "Identity operators are used to compare if two objects are the same object, with the same memory location:\n",
        "\n",
        "Let \n",
        "* 'x = 1.234`\n",
        "* `y = x`\n",
        "\n",
        "| Operation | Description            | Example           | Result |\n",
        "|:---------:|------------------------|-------------------|----------|\n",
        "| is \t      | Returns True if both variables are the same object| x is y| True |\n",
        "| is not |Returns True if both variables are not the same object| x is not y | False |"
      ],
      "metadata": {
        "id": "3W-fWOo4oMd5"
      }
    },
    {
      "cell_type": "code",
      "source": [
        "x = 1.234\n",
        "y = x\n",
        "print(x is y)"
      ],
      "metadata": {
        "colab": {
          "base_uri": "https://localhost:8080/"
        },
        "id": "YT0lw_jIoNdo",
        "outputId": "ed21e6e5-5c94-43f4-ecc5-6148904800a0"
      },
      "execution_count": null,
      "outputs": [
        {
          "output_type": "stream",
          "name": "stdout",
          "text": [
            "True\n"
          ]
        }
      ]
    },
    {
      "cell_type": "markdown",
      "source": [
        "Membership operators are used to test if a sequence is presented in an object:\n",
        "\n",
        "Let \n",
        "* `x = 2`\n",
        "* `y = [7,2,3,6]`\n",
        "\n",
        "| Operation | Description            | Example           | Result |\n",
        "|:---------:|------------------------|-------------------|--------|\n",
        "| in \t      | Returns True if a sequence with the specified value is present in the object\t| x in y | True |\t\n",
        "| not in\t| Returns True if a sequence with the specified value is not present in the object\t| x not in y| False |"
      ],
      "metadata": {
        "id": "UjzU5CiSoFh6"
      }
    },
    {
      "cell_type": "code",
      "source": [
        "x = 2\n",
        "y = [7, 2, 3, 6]\n",
        "print (x in y)"
      ],
      "metadata": {
        "colab": {
          "base_uri": "https://localhost:8080/"
        },
        "id": "axKzkr6JpoR-",
        "outputId": "18fed38f-5103-4326-ca5b-d600e9251832"
      },
      "execution_count": null,
      "outputs": [
        {
          "output_type": "stream",
          "name": "stdout",
          "text": [
            "True\n"
          ]
        }
      ]
    },
    {
      "cell_type": "markdown",
      "source": [
        "## Conclusion\n",
        "\n",
        "Operators allow us to do things with data. We can perform arithmetic or test something about a variable, e.g., a value within a range or part of a list. We can make more complex expressions using `and`, `or` and `not`. We will use boolean expressions to \n",
        "* [make decisions](09_making_decisions.ipynb)\n",
        "* [repeat things](11_going_loopy.ipynb)\n",
        "* [fixing errors](12_fixing_errors.ipynb)\n"
      ],
      "metadata": {
        "id": "8lTuwPxFCYCT"
      }
    },
    {
      "cell_type": "markdown",
      "source": [
        "<!--NAVIGATION-->\n",
        "< [Input](06_input.ipynb) | [Contents](00_contents.ipynb) |[Functions](08_functions.ipynb) >"
      ],
      "metadata": {
        "id": "PHcHnvkdDuGE"
      }
    },
    {
      "cell_type": "code",
      "source": [
        ""
      ],
      "metadata": {
        "id": "jIAucVOrzuJn"
      },
      "execution_count": null,
      "outputs": []
    }
  ],
  "metadata": {
    "kernelspec": {
      "display_name": "Python 3",
      "language": "python",
      "name": "python3"
    },
    "language_info": {
      "codemirror_mode": {
        "name": "ipython",
        "version": 3
      },
      "file_extension": ".py",
      "mimetype": "text/x-python",
      "name": "python",
      "nbconvert_exporter": "python",
      "pygments_lexer": "ipython3",
      "version": "3.8.5"
    },
    "colab": {
      "name": "07_operators.ipynb",
      "provenance": [],
      "include_colab_link": true
    }
  },
  "nbformat": 4,
  "nbformat_minor": 0
}