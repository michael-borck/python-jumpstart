{
  "cells": [
    {
      "cell_type": "markdown",
      "metadata": {
        "id": "view-in-github",
        "colab_type": "text"
      },
      "source": [
        "<a href=\"https://colab.research.google.com/github/michael-borck/just_enough_python/blob/main/06_input.ipynb\" target=\"_parent\"><img src=\"https://colab.research.google.com/assets/colab-badge.svg\" alt=\"Open In Colab\"/></a>"
      ]
    },
    {
      "cell_type": "markdown",
      "source": [
        "<!--NAVIGATION-->\n",
        "< [Output](05_output.ipynb) | [Contents](00_contents.ipynb) |[Operators](07_operators.ipynb) >"
      ],
      "metadata": {
        "id": "g_tYmKieDeEt"
      }
    },
    {
      "cell_type": "markdown",
      "source": [
        "# Input\n",
        "\n",
        "We know how to create a variable and assign a value, but how can we get the information.  Input may come from the user through the keyboard or external sources like files or databases. \n",
        "\n",
        "In this notebook, we will focus on keyboard input. External sources, like [files](12_files.ipynb) are discussed later.  Python provides us with a built-in `input()`. By default, everything input is a [string](10_strings.ipynb).\n",
        "\n",
        "Typically when using input form the keyboard, we need to display a message telling the user what to input. We often say we need to *prompt* the use. The `input()` function allows us to give it a prompt.\n"
      ],
      "metadata": {
        "id": "dn3ZwpT_0A6i"
      }
    },
    {
      "cell_type": "code",
      "source": [
        "input('How old are you? ') # Notice the sapce after the question mark '?'"
      ],
      "metadata": {
        "id": "vhJQcePOqnwU",
        "outputId": "811f098d-e798-4bd3-d58b-d68079d96ec9",
        "colab": {
          "base_uri": "https://localhost:8080/",
          "height": 53
        }
      },
      "execution_count": 2,
      "outputs": [
        {
          "name": "stdout",
          "output_type": "stream",
          "text": [
            "How old are you? 21\n"
          ]
        },
        {
          "output_type": "execute_result",
          "data": {
            "text/plain": [
              "'21'"
            ],
            "application/vnd.google.colaboratory.intrinsic+json": {
              "type": "string"
            }
          },
          "metadata": {},
          "execution_count": 2
        }
      ]
    },
    {
      "cell_type": "markdown",
      "source": [
        "How does `input()` work?\n",
        "1. The interpreter sees the call to the `input()` function. It takes the prompt text and displays it to the user.\n",
        "2. The interpreter then waits for the user to type in a response. User input is complete when the user presses the return key (also called the enter key)\n",
        "3. Finally, the text the user types in is passed back to your code.\n",
        "\n",
        "Now, because this was the last line in the code-cell, we see what was typed. It would be more useful if we store the *return value*. Storing a value is easily done by assigning the return value to [variable](04_variables.ipynb).\n"
      ],
      "metadata": {
        "id": "n4lV5Qbaq1Tf"
      }
    },
    {
      "cell_type": "code",
      "source": [
        "age = input('How old are you? ')\n",
        "print(age)"
      ],
      "metadata": {
        "id": "DYFL0poYsjtu",
        "outputId": "28e817ac-916a-43cb-a4f3-72c0dad564f7",
        "colab": {
          "base_uri": "https://localhost:8080/"
        }
      },
      "execution_count": 3,
      "outputs": [
        {
          "output_type": "stream",
          "name": "stdout",
          "text": [
            "How old are you? 21\n",
            "21\n"
          ]
        }
      ]
    },
    {
      "cell_type": "markdown",
      "source": [
        "What is the data type of the return value from the `input ()` function? Looking at a couple of code cells above, we notice some quotes `'21'`, which could be a string. But looking at the output from the `print()` function, we can't see any quotes, so maybe it is a number. How can we check? Recall that the data type of variables is the same as the data type of value stored in the variable. How do we find out the type? We can use the function `type()`."
      ],
      "metadata": {
        "id": "X_JTUJL4swNP"
      }
    },
    {
      "cell_type": "code",
      "source": [
        "type(age)"
      ],
      "metadata": {
        "id": "XOl-deqqtdIv",
        "outputId": "f86c134e-f26e-42fb-eb9d-e513f2b39bb6",
        "colab": {
          "base_uri": "https://localhost:8080/"
        }
      },
      "execution_count": 4,
      "outputs": [
        {
          "output_type": "execute_result",
          "data": {
            "text/plain": [
              "str"
            ]
          },
          "metadata": {},
          "execution_count": 4
        }
      ]
    },
    {
      "cell_type": "markdown",
      "source": [
        "So the return type is a string.  This will become import in later notebooks.  But know that the defualt input is always `string`.\n",
        "\n",
        "> We should be using `print()` to display the output."
      ],
      "metadata": {
        "id": "U1xyTGXMtfPw"
      }
    },
    {
      "cell_type": "code",
      "source": [
        "print(type(age))"
      ],
      "metadata": {
        "id": "DXO3nrQcuC08",
        "outputId": "d655a016-dc39-455d-d302-1b2389855715",
        "colab": {
          "base_uri": "https://localhost:8080/"
        }
      },
      "execution_count": 5,
      "outputs": [
        {
          "output_type": "stream",
          "name": "stdout",
          "text": [
            "<class 'str'>\n"
          ]
        }
      ]
    },
    {
      "cell_type": "markdown",
      "source": [
        "Let have a look at the `help()` documentation for `input()`."
      ],
      "metadata": {
        "id": "5D3NJbuEvlPe"
      }
    },
    {
      "cell_type": "code",
      "source": [
        "help(input)"
      ],
      "metadata": {
        "id": "6Suc8lVSvdmF",
        "outputId": "50f4d7c4-6a5d-4d0d-d8d4-3cc5bf2545a4",
        "colab": {
          "base_uri": "https://localhost:8080/"
        }
      },
      "execution_count": 8,
      "outputs": [
        {
          "output_type": "stream",
          "name": "stdout",
          "text": [
            "Help on method raw_input in module ipykernel.kernelbase:\n",
            "\n",
            "raw_input(prompt='') method of google.colab._kernel.Kernel instance\n",
            "    Forward raw_input to frontends\n",
            "    \n",
            "    Raises\n",
            "    ------\n",
            "    StdinNotImplentedError if active frontend doesn't support stdin.\n",
            "\n"
          ]
        }
      ]
    },
    {
      "cell_type": "markdown",
      "source": [
        "## Conclusion\n",
        "\n",
        "The `input()` function allows you to prompt the user and receive input from the keyboard. Input ends when you hit the return key. The return data type is always a string. Information from files or databases is discussed later in this series of notebooks."
      ],
      "metadata": {
        "id": "8lTuwPxFCYCT"
      }
    },
    {
      "cell_type": "markdown",
      "source": [
        "<!--NAVIGATION-->\n",
        "< [Output](05_output.ipynb) | [Contents](00_contents.ipynb) |[Operators](07_operators.ipynb) >"
      ],
      "metadata": {
        "id": "PHcHnvkdDuGE"
      }
    }
  ],
  "metadata": {
    "kernelspec": {
      "display_name": "Python 3",
      "language": "python",
      "name": "python3"
    },
    "language_info": {
      "codemirror_mode": {
        "name": "ipython",
        "version": 3
      },
      "file_extension": ".py",
      "mimetype": "text/x-python",
      "name": "python",
      "nbconvert_exporter": "python",
      "pygments_lexer": "ipython3",
      "version": "3.8.5"
    },
    "colab": {
      "name": "06_input.ipynb",
      "provenance": [],
      "include_colab_link": true
    }
  },
  "nbformat": 4,
  "nbformat_minor": 0
}