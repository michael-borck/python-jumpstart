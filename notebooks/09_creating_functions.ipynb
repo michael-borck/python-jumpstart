{
  "cells": [
    {
      "cell_type": "markdown",
      "metadata": {
        "id": "view-in-github",
        "colab_type": "text"
      },
      "source": [
        "<a href=\"https://colab.research.google.com/github/michael-borck/just_enough_python/blob/main/09_creating_functions.ipynb\" target=\"_parent\"><img src=\"https://colab.research.google.com/assets/colab-badge.svg\" alt=\"Open In Colab\"/></a>"
      ]
    },
    {
      "cell_type": "markdown",
      "source": [
        "<!--NAVIGATION-->\n",
        "<[Using Functions](08_using_functions.ipynb) | [Contents](00_contents.ipynb) | [Making Decisions](10_making_decisions.ipynb) >"
      ],
      "metadata": {
        "id": "HXZiCbM4-qm2"
      }
    },
    {
      "cell_type": "markdown",
      "source": [
        "# Creating Functions\n",
        "\n",
        "As programs get bigger, the code often gets more complicated. Complicated code can be hard to read and even harder to keep up with. One way to deal with this is to make functions.\n",
        "\n",
        "A function is essentially a \"chunk\" of code that you may reuse instead of having to write it out many times. Programmers can use functions to break down an issue into smaller pieces, each of which performs a specific purpose.\n",
        "\n",
        "You can create and use your functions in Python. Before you can *call* your function, we must define it. To define a function in Python, we use the `def` keyword.\n",
        "\n",
        "Let us define a function to print a greeting. We want the function to be called `greeting` and take one argument, the `name` of the person we want to greet. It should then display `'Hello, <name>'`.\n",
        "\n",
        "We will start simple. We already know how to print `'Hello, world!'` let's define a function to enclose our [hello world](01_hello_world.ipynb) code.\n",
        "\n",
        "```Python\n",
        "def greeting():\n",
        "  print('Hello, world!')\n",
        "```\n",
        "\n",
        "Function definitions have a *header* and a *body*.\n",
        "* The **function header** begins with the `def` keyword and ends with a `:` character.\n",
        "* The **body of a function** is indicated by a block. A block of code is a set of statements that should be treated as a unit. In Python, code blocks are denoted by indentation. Notice how `print('Hello, world!')` is indented. If we want more statements in the function body indicated by a block. Then each statement must be at the same indentation level.\n",
        "\n",
        "Let's define and call the function."
      ],
      "metadata": {
        "id": "06KzqOkE6sk1"
      }
    },
    {
      "cell_type": "code",
      "source": [
        "def greeting():\n",
        "  print('Hello, world!')\n",
        "\n",
        "# nothing happend yet, let call the function to see if it works\n",
        "greeting()"
      ],
      "metadata": {
        "colab": {
          "base_uri": "https://localhost:8080/"
        },
        "id": "rcOCkb7XBwAC",
        "outputId": "1d0b8c7b-84ef-4104-8426-cf1c3649491e"
      },
      "execution_count": null,
      "outputs": [
        {
          "output_type": "stream",
          "name": "stdout",
          "text": [
            "Hello, world!\n"
          ]
        }
      ]
    },
    {
      "cell_type": "markdown",
      "source": [
        "Okay, but we need a name.  We could use the `input()` function to prompt the user, but in this case we will supply the `name` as an argument.\n",
        "> When we define a function *name* is a parameter, when call the function *name* is called an argument. "
      ],
      "metadata": {
        "id": "kuUPKTASFBm_"
      }
    },
    {
      "cell_type": "code",
      "source": [
        "def greeting(name):\n",
        "  print('Hello, world!')\n",
        "\n",
        "greeting()"
      ],
      "metadata": {
        "colab": {
          "base_uri": "https://localhost:8080/",
          "height": 204
        },
        "id": "ywlORZYDF91I",
        "outputId": "ba7c8fc1-cac7-46f4-98d7-9f9a3a01e18f"
      },
      "execution_count": null,
      "outputs": [
        {
          "output_type": "error",
          "ename": "TypeError",
          "evalue": "ignored",
          "traceback": [
            "\u001b[0;31m---------------------------------------------------------------------------\u001b[0m",
            "\u001b[0;31mTypeError\u001b[0m                                 Traceback (most recent call last)",
            "\u001b[0;32m<ipython-input-16-dc6af886955a>\u001b[0m in \u001b[0;36m<module>\u001b[0;34m()\u001b[0m\n\u001b[1;32m      2\u001b[0m   \u001b[0mprint\u001b[0m\u001b[0;34m(\u001b[0m\u001b[0;34m'Hello, world!'\u001b[0m\u001b[0;34m)\u001b[0m\u001b[0;34m\u001b[0m\u001b[0;34m\u001b[0m\u001b[0m\n\u001b[1;32m      3\u001b[0m \u001b[0;34m\u001b[0m\u001b[0m\n\u001b[0;32m----> 4\u001b[0;31m \u001b[0mgreeting\u001b[0m\u001b[0;34m(\u001b[0m\u001b[0;34m)\u001b[0m\u001b[0;34m\u001b[0m\u001b[0;34m\u001b[0m\u001b[0m\n\u001b[0m",
            "\u001b[0;31mTypeError\u001b[0m: greeting() missing 1 required positional argument: 'name'"
          ]
        }
      ]
    },
    {
      "cell_type": "markdown",
      "source": [
        "Umm... what happened.  Here is our clue:\n",
        "\n",
        "`TypeError: greeting() missing 1 required positional argument: 'name'`\n",
        "\n",
        "Ahh missing an *argument*,  we need to call it with a name."
      ],
      "metadata": {
        "id": "s0U0d9SjGLhe"
      }
    },
    {
      "cell_type": "code",
      "source": [
        "def greeting(name):\n",
        "  print('Hello, world!')\n",
        "\n",
        "greeting('Michael')"
      ],
      "metadata": {
        "colab": {
          "base_uri": "https://localhost:8080/"
        },
        "id": "I-TAkzeiGeEB",
        "outputId": "8cb2db75-2a1b-4473-f5b5-902d79043b94"
      },
      "execution_count": null,
      "outputs": [
        {
          "output_type": "stream",
          "name": "stdout",
          "text": [
            "Hello, world!\n"
          ]
        }
      ]
    },
    {
      "cell_type": "markdown",
      "source": [
        "Umm... it didn't print the name.\n",
        "\n",
        "We want to replace 'world!' with 'Michael'.  There are a few way we could do this, but I going to use the `+` operator.  We know that `+` will add numbers, but with stings it will concatnate or join two strings.\n"
      ],
      "metadata": {
        "id": "N2VBAy5oGhUv"
      }
    },
    {
      "cell_type": "code",
      "source": [
        "def greeting(name):\n",
        "  print('Hello, ' + name)\n",
        "\n",
        "greeting('Michael')"
      ],
      "metadata": {
        "colab": {
          "base_uri": "https://localhost:8080/"
        },
        "id": "mEnwee3MHMQD",
        "outputId": "fedbee04-6532-4eb9-e286-2a8864e58879"
      },
      "execution_count": null,
      "outputs": [
        {
          "output_type": "stream",
          "name": "stdout",
          "text": [
            "Hello, Michael\n"
          ]
        }
      ]
    },
    {
      "cell_type": "markdown",
      "source": [
        "Where is the exclamination mark `!`"
      ],
      "metadata": {
        "id": "4Of1L-oaHVQG"
      }
    },
    {
      "cell_type": "code",
      "source": [
        "def greeting(name):\n",
        "  print('Hello, ' + name + '!')\n",
        "\n",
        "greeting('Michael')"
      ],
      "metadata": {
        "colab": {
          "base_uri": "https://localhost:8080/"
        },
        "id": "AGxzv-lGHbdq",
        "outputId": "d7b618a9-8924-4fe9-9e10-2e3b507bd9b1"
      },
      "execution_count": null,
      "outputs": [
        {
          "output_type": "stream",
          "name": "stdout",
          "text": [
            "Hello, Michael!\n"
          ]
        }
      ]
    },
    {
      "cell_type": "markdown",
      "source": [
        "We come a long way from [Hello, world!](01_hello_world.ipynb).  We created a function, used an operator, called our function with an argument.\n",
        "\n",
        "The fuction can print any name, but our program can only print a greeting to `Michael`.  Let's make it so out program can greet anyone."
      ],
      "metadata": {
        "id": "WZYBtuSGHncE"
      }
    },
    {
      "cell_type": "code",
      "source": [
        "# Function definitions\n",
        "def greeting(name):\n",
        "  print('Hello, ' + name + '!')\n",
        "\n",
        "\n",
        "# Main program\n",
        "name = input('What is your name? ')\n",
        "greeting(name)"
      ],
      "metadata": {
        "colab": {
          "base_uri": "https://localhost:8080/"
        },
        "id": "aR1NHxMPImo1",
        "outputId": "6a8c5e4f-ee31-45ea-90ff-3f7b1dba9b97"
      },
      "execution_count": null,
      "outputs": [
        {
          "output_type": "stream",
          "name": "stdout",
          "text": [
            "What is your name? Alice\n",
            "Hello, Alice!\n"
          ]
        }
      ]
    },
    {
      "cell_type": "markdown",
      "source": [
        "Functions can retun a value.  To return a value we use the `return` statement."
      ],
      "metadata": {
        "id": "e6JJkEIpRoSh"
      }
    },
    {
      "cell_type": "code",
      "source": [
        "def addtwo(x):\n",
        "  return x + 2\n",
        "\n",
        "addtwo(4)"
      ],
      "metadata": {
        "id": "yUTsN7MySNY4",
        "outputId": "68ad709b-77f5-4c9e-e36a-76fab9243fef",
        "colab": {
          "base_uri": "https://localhost:8080/"
        }
      },
      "execution_count": 1,
      "outputs": [
        {
          "output_type": "execute_result",
          "data": {
            "text/plain": [
              "6"
            ]
          },
          "metadata": {},
          "execution_count": 1
        }
      ]
    },
    {
      "cell_type": "markdown",
      "source": [
        "> Technical aside:  The variable named x in `addtwo()` is a parameter. It will be given a value when the function is called. When the function is called, the integer 4 is the argument that gives x its value. The variable named x can only be referred to within the function `addtwo()` in this program.  Other functions can also have a variable called x.\n",
        "\n",
        "In the above cell we *ignored* the return values. If the return value is important we should store it into a variable."
      ],
      "metadata": {
        "id": "lS3yn9dTSg7f"
      }
    },
    {
      "cell_type": "code",
      "source": [
        "def addtwo(x):\n",
        "  return x + 2\n",
        "\n",
        "result = addtwo(4)\n",
        "# do lots of stuff\n",
        "print(result)"
      ],
      "metadata": {
        "id": "f8PsHusrSyWb",
        "outputId": "bd4319c0-8465-4bfb-c3d1-196bda06574a",
        "colab": {
          "base_uri": "https://localhost:8080/"
        }
      },
      "execution_count": 2,
      "outputs": [
        {
          "output_type": "stream",
          "name": "stdout",
          "text": [
            "6\n"
          ]
        }
      ]
    },
    {
      "cell_type": "markdown",
      "source": [
        "# Conclusion\n",
        "\n",
        "To manage complexity, reuse code, or for readability you can create functions in Python. A function has a *header* and a *body*.  The *header* end with a `:` and the *body* is indented.   We use the `def` keyword to define a function.  To run or execute the function you must call the function.\n",
        "\n",
        "We will discuss how to [import third-party funtcions](16_importing_things.ipynb) in later notebooks.\n"
      ],
      "metadata": {
        "id": "u-7Xt8iGtpop"
      }
    },
    {
      "cell_type": "markdown",
      "source": [
        "<!--NAVIGATION-->\n",
        "<[Using Functions](08_using_functions.ipynb) | [Contents](00_contents.ipynb) | [Making Decisions](10_making_decisions.ipynb) >"
      ],
      "metadata": {
        "id": "6yVvb2M4-9zj"
      }
    }
  ],
  "metadata": {
    "kernelspec": {
      "display_name": "Python 3",
      "language": "python",
      "name": "python3"
    },
    "language_info": {
      "codemirror_mode": {
        "name": "ipython",
        "version": 3
      },
      "file_extension": ".py",
      "mimetype": "text/x-python",
      "name": "python",
      "nbconvert_exporter": "python",
      "pygments_lexer": "ipython3",
      "version": "3.8.5"
    },
    "colab": {
      "name": "09_creating_functions.ipynb",
      "provenance": [],
      "include_colab_link": true
    }
  },
  "nbformat": 4,
  "nbformat_minor": 0
}