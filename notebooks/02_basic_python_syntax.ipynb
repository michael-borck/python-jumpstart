{
  "cells": [
    {
      "cell_type": "markdown",
      "metadata": {
        "id": "view-in-github",
        "colab_type": "text"
      },
      "source": [
        "<a href=\"https://colab.research.google.com/github/michael-borck/just_enough_python/blob/main/02_basic_python_syntax.ipynb\" target=\"_parent\"><img src=\"https://colab.research.google.com/assets/colab-badge.svg\" alt=\"Open In Colab\"/></a>"
      ]
    },
    {
      "cell_type": "markdown",
      "metadata": {
        "id": "goWEgN1OtXwj"
      },
      "source": [
        "<!--NAVIGATION-->\n",
        "< [Hello World](01_hello_world.ipynb) | [Contents](00_contents.ipynb) | [Values](03_values.ipynb) >"
      ]
    },
    {
      "cell_type": "markdown",
      "metadata": {
        "id": "ZrLp8TkXtXwk"
      },
      "source": [
        "# A Quick Tour of Python Language Syntax\n",
        "\n",
        "We are off to a good start. You have written the traditional `Hello World` program and learned to use notebooks. \n",
        "\n",
        "We take a big picture approach and look at a complete program in this notebook.   Some like this approach; others find it confusing. If you find this approach confusing, revisit this notebook after completing others in the series.\n",
        "\n",
        "Having a complete program to refer to makes it easier to discuss the syntax. Syntax refers to the structure of the language (i.e., what constitutes a correctly-formed program). We will look at the semantics – the meaning of the words and symbols in later notebooks. Python's syntax is referred to as \"executable pseudocode\" and is easier to read and understand than more traditional programming languages.\n",
        "\n",
        "This notebook is adapted from:\n",
        "\n",
        "> A Quick Tour of Python Language Syntax, in *A Whirlwind Tour of Python* by Jake VanderPlas (O'Reilly). Copyright 2016 O'Reilly Media, Inc., 978-1-491-96465-1\n",
        "\n",
        "Consider the following code example:"
      ]
    },
    {
      "cell_type": "code",
      "execution_count": null,
      "metadata": {
        "id": "Gvs_iWU6tXwl",
        "outputId": "ee90aa6f-0e2a-4221-e4cf-349cf765cf52"
      },
      "outputs": [
        {
          "name": "stdout",
          "output_type": "stream",
          "text": [
            "lower: [0, 1, 2, 3, 4]\n",
            "upper: [5, 6, 7, 8, 9]\n"
          ]
        }
      ],
      "source": [
        "# set the midpoint\n",
        "midpoint = 5\n",
        "\n",
        "# make two empty lists\n",
        "lower = []; upper = []\n",
        "\n",
        "# split the numbers into lower and upper\n",
        "for i in range(10):\n",
        "    if (i < midpoint):\n",
        "        lower.append(i)\n",
        "    else:\n",
        "        upper.append(i)\n",
        "        \n",
        "print(\"lower:\", lower)\n",
        "print(\"upper:\", upper)"
      ]
    },
    {
      "cell_type": "markdown",
      "metadata": {
        "id": "oQoRIdYdtXwm"
      },
      "source": [
        "This script is a bit silly, but it compactly illustrates several of the essential aspects of Python syntax. Let's walk through it and discuss some of the syntactical features of Python.\n",
        "\n",
        "> *Why not practice some of your notebook skills and run the above program*"
      ]
    },
    {
      "cell_type": "markdown",
      "metadata": {
        "id": "6XHIyUrhtXwn"
      },
      "source": [
        "## Comments Are Marked by ``#``\n",
        "The script starts with a comment:\n",
        "``` python\n",
        "# set the midpoint\n",
        "```\n",
        "Comments in Python are indicated by a pound sign (``#``), and anything on the line following the pound sign is ignored by the interpreter.\n",
        "This means, for example, that you can have stand-alone comments like the one just shown, as well as inline comments that follow a statement. For example:\n",
        "``` python\n",
        "x = x + 2  # move x by two\n",
        "```\n",
        "Python uses multi-line strings as a replacement for multi-line comments (more on this in [Strings](08_strings.ipynb)."
      ]
    },
    {
      "cell_type": "markdown",
      "metadata": {
        "id": "iVy4-CactXwo"
      },
      "source": [
        "## End-of-Line Terminates a Statement\n",
        "The next line in the script is\n",
        "``` python\n",
        "midpoint = 5\n",
        "```\n",
        "This is an assignment operation, where we've created a variable named ``midpoint`` and assigned it the value ``5``.\n",
        "Notice that the end of this statement is simply marked by the end of the line.\n",
        "\n",
        "In Python, if you'd like a statement to continue to the next line, it is possible to use the \"``\\``\" marker to indicate this:"
      ]
    },
    {
      "cell_type": "code",
      "execution_count": null,
      "metadata": {
        "id": "o7Lc_9YptXwo"
      },
      "outputs": [],
      "source": [
        "x = 1 + 2 + 3 + 4 +\\\n",
        "    5 + 6 + 7 + 8"
      ]
    },
    {
      "cell_type": "markdown",
      "metadata": {
        "id": "Q7UQ9N-YtXwp"
      },
      "source": [
        "It is also possible to continue expressions on the next line within parentheses, without using the \"``\\``\" marker:"
      ]
    },
    {
      "cell_type": "code",
      "execution_count": null,
      "metadata": {
        "id": "0eznVYQLtXwp"
      },
      "outputs": [],
      "source": [
        "x = (1 + 2 + 3 + 4 +\n",
        "     5 + 6 + 7 + 8)"
      ]
    },
    {
      "cell_type": "markdown",
      "metadata": {
        "id": "NPQj7pWptXwq"
      },
      "source": [
        "Most Python style guides recommend the second version of line continuation (within parentheses) to the first (use of the \"``\\``\" marker)."
      ]
    },
    {
      "cell_type": "markdown",
      "metadata": {
        "id": "0S4TWNCGtXwq"
      },
      "source": [
        "## Semicolon Can Optionally Terminate a Statement\n",
        "Sometimes it can be useful to put multiple statements on a single line.\n",
        "The next portion of the script is\n",
        "``` python\n",
        "lower = []; upper = []\n",
        "```\n",
        "This shows the example of how the semicolon (``;``) can be used optionally in Python to put two statements on a single line.\n",
        "Functionally, this is entirely equivalent to writing\n",
        "``` python\n",
        "lower = []\n",
        "upper = []\n",
        "```\n",
        "Using a semicolon to put multiple statements on a single line is generally discouraged by most Python style guides, though occasionally it proves convenient."
      ]
    },
    {
      "cell_type": "markdown",
      "metadata": {
        "id": "nFg8kLj9tXwq"
      },
      "source": [
        "## Indentation: Whitespace Matters!\n",
        "Next, we get to the main block of code:\n",
        "``` Python\n",
        "for i in range(10):\n",
        "    if i < midpoint:\n",
        "        lower.append(i)\n",
        "    else:\n",
        "        upper.append(i)\n",
        "```\n",
        "This is a compound statement controlling the flow of the program.  It includes a loop and a conditional – we'll look at these types of statements in a moment.\n",
        "\n",
        "For now, consider that this demonstrates what is perhaps the most controversial feature of Python's syntax: whitespace is meaningful!\n",
        "\n",
        "In programming languages, a *block* of code is a set of statements that should be treated as a unit. In Python, code blocks are denoted by *indentation*:\n",
        "``` python\n",
        "for i in range(100):\n",
        "    # indentation indicates code block\n",
        "    total += i\n",
        "```\n",
        "In Python, indented code blocks are always preceded by a colon (``:``) on the previous line."
      ]
    },
    {
      "cell_type": "markdown",
      "metadata": {
        "id": "fzzBYIpctXwr"
      },
      "source": [
        "The use of indentation helps to enforce the uniform, readable style that many find appealing in Python code.\n",
        "\n",
        "But it might be confusing to the uninitiated; for example, the following two snippets will produce different results:\n",
        "```python\n",
        ">>> if x < 4:         >>> if x < 4:\n",
        "...     y = x * 2     ...     y = x * 2\n",
        "...     print(x)      ... print(x)\n",
        "```\n",
        "In the snippet on the left, ``print(x)`` is in the indented block, and will be executed only if ``x`` is less than ``4``.\n",
        "In the snippet on the right ``print(x)`` is outside the block, and will be executed regardless of the value of ``x``!"
      ]
    },
    {
      "cell_type": "markdown",
      "metadata": {
        "id": "tNCrEDFPtXwr"
      },
      "source": [
        "Python's use of meaningful whitespace often is surprising to programmers who are accustomed to other languages, but in practice it can lead to much more consistent and readable code than languages that do not enforce indentation of code blocks.\n",
        "\n",
        "Finally, you should be aware that the *amount* of whitespace used for indenting code blocks is up to the user, as long as it is consistent throughout the script. By convention, most style guides recommend to indent code blocks by four spaces."
      ]
    },
    {
      "cell_type": "markdown",
      "metadata": {
        "id": "wWbIlQzLtXwr"
      },
      "source": [
        "## Whitespace *Within* Lines Does Not Matter\n",
        "While the mantra of *meaningful whitespace* holds true for whitespace *before* lines (which indicate a code block), white space *within* lines of Python code does not matter.\n",
        "For example, all three of these expressions are equivalent:"
      ]
    },
    {
      "cell_type": "code",
      "execution_count": null,
      "metadata": {
        "id": "bt-6M542tXws"
      },
      "outputs": [],
      "source": [
        "x=1+2\n",
        "x = 1 + 2\n",
        "x             =        1    +                2"
      ]
    },
    {
      "cell_type": "markdown",
      "metadata": {
        "id": "1QfUX70qtXws"
      },
      "source": [
        "Abusing this flexibility can lead to issues with code readibility – in fact, abusing white space is often one of the primary means of intentionally obfuscating code (which some people do for sport).\n",
        "Using whitespace effectively can lead to much more readable code, \n",
        "especially in cases where operators follow each other – compare the following two expressions for exponentiating by a negative number:\n",
        "``` python\n",
        "x=10**-2\n",
        "```\n",
        "to\n",
        "``` python\n",
        "x = 10 ** -2\n",
        "```\n",
        "I find the second version with spaces much more easily readable at a single glance.\n",
        "Most Python style guides recommend using a single space around binary operators, and no space around unary operators.\n",
        "We'll discuss Python's operators further in [Values and Variables](03_values_and_variables.ipynb)."
      ]
    },
    {
      "cell_type": "markdown",
      "metadata": {
        "id": "ZUY3beyMtXws"
      },
      "source": [
        "## Parentheses Are for Grouping or Calling\n",
        "\n",
        "In the previous code snippet, we see two uses of parentheses.\n",
        "First, they can be used in the typical way to group statements or mathematical operations:"
      ]
    },
    {
      "cell_type": "code",
      "execution_count": null,
      "metadata": {
        "id": "D964bj9ntXws",
        "outputId": "174af046-b8fc-4010-9c91-68488c48e03b"
      },
      "outputs": [
        {
          "data": {
            "text/plain": [
              "14"
            ]
          },
          "execution_count": 5,
          "metadata": {},
          "output_type": "execute_result"
        }
      ],
      "source": [
        "2 * (3 + 4)"
      ]
    },
    {
      "cell_type": "markdown",
      "metadata": {
        "id": "56mzAkTqtXwt"
      },
      "source": [
        "They can also be used to indicate that a *function* is being called.\n",
        "In the next snippet, the ``print()`` function is used to display the contents of a variable (see the sidebar).\n",
        "The function call is indicated by a pair of opening and closing parentheses, with the *arguments* to the function contained within:"
      ]
    },
    {
      "cell_type": "code",
      "execution_count": null,
      "metadata": {
        "id": "mV4EE8oltXwt",
        "outputId": "eb898ec1-6061-4f90-c10e-53dc0c65edb1"
      },
      "outputs": [
        {
          "name": "stdout",
          "output_type": "stream",
          "text": [
            "first value: 1\n"
          ]
        }
      ],
      "source": [
        "print('first value:', 1)"
      ]
    },
    {
      "cell_type": "code",
      "execution_count": null,
      "metadata": {
        "id": "LkG9MM_LtXwt",
        "outputId": "67d965cc-5db6-4276-b092-e0bd11cf5a69"
      },
      "outputs": [
        {
          "name": "stdout",
          "output_type": "stream",
          "text": [
            "second value: 2\n"
          ]
        }
      ],
      "source": [
        "print('second value:', 2)"
      ]
    },
    {
      "cell_type": "markdown",
      "metadata": {
        "id": "3lxJT_O0tXwt"
      },
      "source": [
        "Some functions can be called with no arguments at all, in which case the opening and closing parentheses still must be used to indicate a function evaluation.\n",
        "An example of this is the ``sort`` method of lists:"
      ]
    },
    {
      "cell_type": "code",
      "execution_count": null,
      "metadata": {
        "id": "8Dozk72qtXwu",
        "outputId": "7d89dcab-1d32-494d-ea75-2a34ae3d4e16"
      },
      "outputs": [
        {
          "name": "stdout",
          "output_type": "stream",
          "text": [
            "[1, 2, 3, 4]\n"
          ]
        }
      ],
      "source": [
        "L = [4,2,3,1]\n",
        "L.sort()\n",
        "print(L)"
      ]
    },
    {
      "cell_type": "markdown",
      "metadata": {
        "id": "-CIm2uwOtXwu"
      },
      "source": [
        "The \"``()``\" after ``sort`` indicates that the function should be executed, and is required even if no arguments are necessary."
      ]
    },
    {
      "cell_type": "markdown",
      "metadata": {
        "id": "lmRIObFmtXwu"
      },
      "source": [
        "## Finishing Up and Learning More\n",
        "\n",
        "This has been a very brief overview of Python syntax. The remaining notebooks should help you understand the meaning of Python code.\n"
      ]
    },
    {
      "cell_type": "markdown",
      "metadata": {
        "id": "slsgf1ljtXwu"
      },
      "source": [
        "<!--NAVIGATION-->\n",
        "< [Hello World](01_hello_world.ipynb) | [Contents](00_contents.ipynb) | [Values](03_values.ipynb) >"
      ]
    }
  ],
  "metadata": {
    "anaconda-cloud": {},
    "kernelspec": {
      "display_name": "Python 3",
      "language": "python",
      "name": "python3"
    },
    "language_info": {
      "codemirror_mode": {
        "name": "ipython",
        "version": 3
      },
      "file_extension": ".py",
      "mimetype": "text/x-python",
      "name": "python",
      "nbconvert_exporter": "python",
      "pygments_lexer": "ipython3",
      "version": "3.5.1"
    },
    "colab": {
      "name": "02_basic_python_syntax.ipynb",
      "provenance": [],
      "include_colab_link": true
    }
  },
  "nbformat": 4,
  "nbformat_minor": 0
}