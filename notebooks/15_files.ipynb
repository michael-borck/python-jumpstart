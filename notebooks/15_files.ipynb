{
  "cells": [
    {
      "cell_type": "markdown",
      "metadata": {
        "id": "view-in-github",
        "colab_type": "text"
      },
      "source": [
        "<a href=\"https://colab.research.google.com/github/michael-borck/just_enough_python/blob/main/15_files.ipynb\" target=\"_parent\"><img src=\"https://colab.research.google.com/assets/colab-badge.svg\" alt=\"Open In Colab\"/></a>"
      ]
    },
    {
      "cell_type": "markdown",
      "source": [
        "<!--NAVIGATION-->\n",
        "<[Dictionaries](14_dictionaries.ipynb) | [Contents](00_contents.ipynb) | [Error and Exception](16_errors_and_exceptions.ipynb) >"
      ],
      "metadata": {
        "id": "47REG1QgT2_0"
      }
    },
    {
      "cell_type": "markdown",
      "metadata": {
        "id": "8bMeoyzZThlc"
      },
      "source": [
        "# Files\n",
        "\n"
      ]
    },
    {
      "cell_type": "markdown",
      "source": [
        "<!--NAVIGATION-->\n",
        "<[Dictionaries](14_dictionaries.ipynb) | [Contents](00_contents.ipynb) | [Error and Exception](16_errors_and_exceptions.ipynb) >"
      ],
      "metadata": {
        "id": "1Y-ZD2gxT5yb"
      }
    }
  ],
  "metadata": {
    "anaconda-cloud": {},
    "kernelspec": {
      "display_name": "Python 3",
      "language": "python",
      "name": "python3"
    },
    "language_info": {
      "codemirror_mode": {
        "name": "ipython",
        "version": 3
      },
      "file_extension": ".py",
      "mimetype": "text/x-python",
      "name": "python",
      "nbconvert_exporter": "python",
      "pygments_lexer": "ipython3",
      "version": "3.5.1"
    },
    "colab": {
      "name": "15_files.ipynb",
      "provenance": [],
      "include_colab_link": true
    }
  },
  "nbformat": 4,
  "nbformat_minor": 0
}