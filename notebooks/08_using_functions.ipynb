{
  "cells": [
    {
      "cell_type": "markdown",
      "metadata": {
        "id": "view-in-github",
        "colab_type": "text"
      },
      "source": [
        "<a href=\"https://colab.research.google.com/github/michael-borck/just_enough_python/blob/main/08_using_functions.ipynb\" target=\"_parent\"><img src=\"https://colab.research.google.com/assets/colab-badge.svg\" alt=\"Open In Colab\"/></a>"
      ]
    },
    {
      "cell_type": "markdown",
      "source": [
        "<!--NAVIGATION-->\n",
        "<[Operators](07_operators.ipynb) | [Contents](00_contents.ipynb) | [Creating Functions](09_creating_functions.ipynb) >"
      ],
      "metadata": {
        "id": "HXZiCbM4-qm2"
      }
    },
    {
      "cell_type": "markdown",
      "metadata": {
        "id": "9nAMzrmXnBw6"
      },
      "source": [
        "# Using functions\n",
        "\n",
        "To use a function, we *call* the function by using the name, supplying arguments, and using the return value in an expression or storing it in a variable. Consider the following line of code:\n",
        "\n",
        "```python\n",
        "year = input('What is the current year?')\n",
        "```\n",
        "\n",
        "* We are calling the function `input`.\n",
        "* we know it is a function because after the name, there is a left parenthesis `(` (or opening parenthesis)\n",
        "* there is one argument, `\"What is the current year? \"`. If there were more than one argument, they would be separated by a comma. \n",
        "* the calling ends when we reach the right parenthesis (or *closing parenthesis*)\n",
        "* We are saving the return value into a variable\n",
        "\n",
        "Every function has a name followed by a pair of parenthesis. Optionally the function may take arguments and return a value. How can we find out if a function needs an argument or returns a bargain? Use the `help()` function.\n",
        "\n",
        "> I always find it weird that I use a function to find out about functions.\n",
        "\n",
        "Let have a look at another buitin function `pow()`."
      ]
    },
    {
      "cell_type": "code",
      "source": [
        "help(pow)"
      ],
      "metadata": {
        "colab": {
          "base_uri": "https://localhost:8080/"
        },
        "id": "fUT3hwDc55wN",
        "outputId": "3d0236df-1414-41f2-95a6-51f0a2ac7ceb"
      },
      "execution_count": 8,
      "outputs": [
        {
          "output_type": "stream",
          "name": "stdout",
          "text": [
            "Help on built-in function pow in module builtins:\n",
            "\n",
            "pow(x, y, z=None, /)\n",
            "    Equivalent to x**y (with two arguments) or x**y % z (with three arguments)\n",
            "    \n",
            "    Some types, such as ints, are able to use a more efficient algorithm when\n",
            "    invoked using the three argument form.\n",
            "\n"
          ]
        }
      ]
    },
    {
      "cell_type": "markdown",
      "source": [
        "Let us try it, Waht is 2 raised to the power of 3 (*rwo cubed*)"
      ],
      "metadata": {
        "id": "4rGUp9in8ex9"
      }
    },
    {
      "cell_type": "code",
      "source": [
        "pow(2,3)"
      ],
      "metadata": {
        "colab": {
          "base_uri": "https://localhost:8080/"
        },
        "id": "mP8JVBBi8drW",
        "outputId": "96ae7227-9512-479f-ca60-f6018472f20b"
      },
      "execution_count": 9,
      "outputs": [
        {
          "output_type": "execute_result",
          "data": {
            "text/plain": [
              "8"
            ]
          },
          "metadata": {},
          "execution_count": 9
        }
      ]
    },
    {
      "cell_type": "markdown",
      "source": [
        "umm... we should use the `print()` function"
      ],
      "metadata": {
        "id": "8tROKrtB8pol"
      }
    },
    {
      "cell_type": "code",
      "source": [
        "print(pow(2,3))"
      ],
      "metadata": {
        "colab": {
          "base_uri": "https://localhost:8080/"
        },
        "id": "EBnE7DGx8pEB",
        "outputId": "f0a2155a-af32-4779-8742-396db4dbecfc"
      },
      "execution_count": 11,
      "outputs": [
        {
          "output_type": "stream",
          "name": "stdout",
          "text": [
            "2 raise to the power of 3 is 8\n"
          ]
        }
      ]
    },
    {
      "cell_type": "markdown",
      "source": [
        "Notice here we used the outout of `pow()` as input to `print()`. The `pow(x,y)` function will raise `x` to the power of `y`.  This might be useful in financial calculations.  "
      ],
      "metadata": {
        "id": "cjHO7w736InG"
      }
    },
    {
      "cell_type": "markdown",
      "source": [
        "# Conclusion\n",
        "\n",
        "We call a function by using its name and supply any necessary arguments.  If the function returns a value we store it in a varible or ignore it. We will see more function later in this series and learn [how to import a function](16_importing_things.ipynb).  For now here is a list of functions we have used:\n",
        "* `print()`\n",
        "* `input()`\n",
        "* `type()`\n",
        "* `help()`\n",
        "* `int()`\n",
        "* `float()` (mentioned)\n",
        "* `str()` (mentioned)\n",
        "* `pow()`"
      ],
      "metadata": {
        "id": "u-7Xt8iGtpop"
      }
    },
    {
      "cell_type": "markdown",
      "source": [
        "<!--NAVIGATION-->\n",
        "<[Operators](07_operators.ipynb) | [Contents](00_contents.ipynb) | [Creating Functions](09_creating_functions.ipynb) >"
      ],
      "metadata": {
        "id": "6yVvb2M4-9zj"
      }
    }
  ],
  "metadata": {
    "kernelspec": {
      "display_name": "Python 3",
      "language": "python",
      "name": "python3"
    },
    "language_info": {
      "codemirror_mode": {
        "name": "ipython",
        "version": 3
      },
      "file_extension": ".py",
      "mimetype": "text/x-python",
      "name": "python",
      "nbconvert_exporter": "python",
      "pygments_lexer": "ipython3",
      "version": "3.8.5"
    },
    "colab": {
      "name": "08_using_functions.ipynb",
      "provenance": [],
      "include_colab_link": true
    }
  },
  "nbformat": 4,
  "nbformat_minor": 0
}