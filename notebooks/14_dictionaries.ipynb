{
  "cells": [
    {
      "cell_type": "markdown",
      "metadata": {
        "id": "view-in-github",
        "colab_type": "text"
      },
      "source": [
        "<a href=\"https://colab.research.google.com/github/michael-borck/just_enough_python/blob/main/14_dictionaries.ipynb\" target=\"_parent\"><img src=\"https://colab.research.google.com/assets/colab-badge.svg\" alt=\"Open In Colab\"/></a>"
      ]
    },
    {
      "cell_type": "markdown",
      "source": [
        "<!--NAVIGATION-->\n",
        "<[Strings](13_strings.ipynb) | [Contents](00_contents.ipynb) | [Files](15_files.ipynb) >"
      ],
      "metadata": {
        "id": "IMd6bv5gm4AN"
      }
    },
    {
      "cell_type": "markdown",
      "metadata": {
        "id": "C8zY2j4Ai_ui"
      },
      "source": [
        "# Python Dictionary"
      ]
    },
    {
      "cell_type": "markdown",
      "metadata": {
        "id": "zCwE8lv4jIvv"
      },
      "source": [
        "Dictionary in python comprises an unordered collection of data stored in a \n",
        "key-value format. In a dictionary, the key must always be unique. Whereas \n",
        "the values can be repeated and can be of any data type. \n",
        "\n",
        "The key-value pair should be represented as \"key: value\" **(: colon is a must)**. \n",
        "\n",
        "Shown below are some most used dictionary methods. Some of the examples were \n",
        "referred from [Python Dictionary](https://www.programiz.com/python-programming/dictionary). "
      ]
    },
    {
      "cell_type": "markdown",
      "metadata": {
        "id": "vrBc0WN-jK69"
      },
      "source": [
        "**For example, declaring a dictionary in python:**"
      ]
    },
    {
      "cell_type": "code",
      "execution_count": null,
      "metadata": {
        "colab": {
          "base_uri": "https://localhost:8080/",
          "height": 35
        },
        "id": "9tX_rrR8jQIx",
        "outputId": "7eeda567-e6f9-4fed-8462-b95182f0d8ef"
      },
      "outputs": [
        {
          "name": "stdout",
          "output_type": "stream",
          "text": [
            "{'Name': 'Michael', 'Sex': 'Male', 'Age': 23}\n"
          ]
        }
      ],
      "source": [
        "# Declaring a dictionary\n",
        "\n",
        "dictionary = {}\n",
        "dictionary = {'Name': 'Michael', 'Sex': 'Male', 'Age': 23}\n",
        "print(dictionary)"
      ]
    },
    {
      "cell_type": "code",
      "execution_count": null,
      "metadata": {
        "colab": {
          "base_uri": "https://localhost:8080/",
          "height": 35
        },
        "id": "-r9P3fctjSgg",
        "outputId": "15bee850-9297-4a5b-a75c-57f57aab7e87"
      },
      "outputs": [
        {
          "name": "stdout",
          "output_type": "stream",
          "text": [
            "<class 'dict'>\n"
          ]
        }
      ],
      "source": [
        "print(type(dictionary))"
      ]
    },
    {
      "cell_type": "markdown",
      "metadata": {
        "id": "CqpWeQ3ojWyC"
      },
      "source": [
        "## Accessing the elements in a dictionary\n",
        "\n",
        "Dictionaries can be accessed by their index to get the value. To do this, all you have to do is just place the number or the name of the key inside the pair of square brackets along with the name of the dictionary.\n"
      ]
    },
    {
      "cell_type": "code",
      "execution_count": null,
      "metadata": {
        "colab": {
          "base_uri": "https://localhost:8080/",
          "height": 35
        },
        "id": "mnW2atajjV87",
        "outputId": "e154041c-97f8-41af-aee5-c6bc582d3ac2"
      },
      "outputs": [
        {
          "name": "stdout",
          "output_type": "stream",
          "text": [
            "{'Name': 'Michael', 'Sex': 'Male', 'Age': 23}\n"
          ]
        }
      ],
      "source": [
        "# Accessing the elements in a dictionary\n",
        "\n",
        "dictionary = {'Name': 'Michael', 'Sex': 'Male', 'Age': 23}\n",
        "print(dictionary)"
      ]
    },
    {
      "cell_type": "code",
      "execution_count": null,
      "metadata": {
        "colab": {
          "base_uri": "https://localhost:8080/",
          "height": 35
        },
        "id": "a_X0bjTOjcei",
        "outputId": "67e1229a-1354-4b5f-d575-3a85e48ff5b4"
      },
      "outputs": [
        {
          "name": "stdout",
          "output_type": "stream",
          "text": [
            "Michael\n"
          ]
        }
      ],
      "source": [
        "print(dictionary['Name'])"
      ]
    },
    {
      "cell_type": "code",
      "execution_count": null,
      "metadata": {
        "colab": {
          "base_uri": "https://localhost:8080/",
          "height": 35
        },
        "id": "yhlDznhqjelc",
        "outputId": "1ed76bf2-7b1a-4b8c-d6ec-a8309cc3a5ac"
      },
      "outputs": [
        {
          "name": "stdout",
          "output_type": "stream",
          "text": [
            "Male\n"
          ]
        }
      ],
      "source": [
        "print(dictionary['Sex'])"
      ]
    },
    {
      "cell_type": "markdown",
      "metadata": {
        "id": "C6t-3wqojv4e"
      },
      "source": [
        "If you try to access the key which is not declared in the dictionary then an exception would be raised indicating no results found:"
      ]
    },
    {
      "cell_type": "code",
      "execution_count": null,
      "metadata": {
        "colab": {
          "base_uri": "https://localhost:8080/",
          "height": 166
        },
        "id": "WzNJMc1yji5U",
        "outputId": "ad52059f-edff-44b1-9e45-c84c4577b7e4"
      },
      "outputs": [
        {
          "ename": "KeyError",
          "evalue": "'Height'",
          "output_type": "error",
          "traceback": [
            "\u001b[0;31m---------------------------------------------------------------------------\u001b[0m",
            "\u001b[0;31mKeyError\u001b[0m                                  Traceback (most recent call last)",
            "\u001b[0;32m/var/folders/td/0ssnsqp552zcwcntj5wy94n80000gn/T/ipykernel_92820/2874821362.py\u001b[0m in \u001b[0;36m<module>\u001b[0;34m\u001b[0m\n\u001b[0;32m----> 1\u001b[0;31m \u001b[0mdictionary\u001b[0m\u001b[0;34m[\u001b[0m\u001b[0;34m'Height'\u001b[0m\u001b[0;34m]\u001b[0m\u001b[0;34m\u001b[0m\u001b[0;34m\u001b[0m\u001b[0m\n\u001b[0m",
            "\u001b[0;31mKeyError\u001b[0m: 'Height'"
          ]
        }
      ],
      "source": [
        "dictionary['Height']"
      ]
    },
    {
      "cell_type": "markdown",
      "metadata": {
        "id": "uUDemRUzjzjj"
      },
      "source": [
        "Also, we can use the get() of the dictionary to get or access the values of the dictionary as seen below:"
      ]
    },
    {
      "cell_type": "code",
      "execution_count": null,
      "metadata": {
        "colab": {
          "base_uri": "https://localhost:8080/",
          "height": 35
        },
        "id": "1oV7TTuDj0AM",
        "outputId": "e0364d85-972e-453f-c098-3c573bb9692b"
      },
      "outputs": [
        {
          "name": "stdout",
          "output_type": "stream",
          "text": [
            "23\n"
          ]
        }
      ],
      "source": [
        "print(dictionary.get('Age'))"
      ]
    },
    {
      "cell_type": "markdown",
      "metadata": {
        "id": "ZGLoW99Mj8gJ"
      },
      "source": [
        "## Removing the elements from a dictionary.\n",
        "\n",
        "In python, there are four different ways or methods that can be used to remove an element from a dictionary. Those are pop, del, popitem and clear. The del is used to delete a key from a dictionary, the pop is used to remove a specific key from a dictionary, popitem is used to remove the key arbitrarily from a dictionary, and the clear is used to just clear or delete all the elements in the dictionary (as the name suggests)."
      ]
    },
    {
      "cell_type": "code",
      "execution_count": null,
      "metadata": {
        "colab": {
          "base_uri": "https://localhost:8080/",
          "height": 35
        },
        "id": "WVSsS_dXj2z4",
        "outputId": "b1431527-a015-45d8-f536-74e2440b6532"
      },
      "outputs": [
        {
          "name": "stdout",
          "output_type": "stream",
          "text": [
            "{'Name': 'Michael', 'Sex': 'Male', 'Age': 23, 'Height': 5.8, 'Occupation': 'Student'}\n"
          ]
        }
      ],
      "source": [
        "# Removing the elements from a dictionary\n",
        "\n",
        "dictionary = {'Name': 'Michael', 'Sex': 'Male', 'Age': 23, 'Height': 5.8, 'Occupation': 'Student'}\n",
        "print(dictionary)"
      ]
    },
    {
      "cell_type": "code",
      "execution_count": null,
      "metadata": {
        "colab": {
          "base_uri": "https://localhost:8080/",
          "height": 35
        },
        "id": "NvQAuY1NkCj-",
        "outputId": "ac29a917-91a3-44d5-d9bc-0a50fc947657"
      },
      "outputs": [
        {
          "name": "stdout",
          "output_type": "stream",
          "text": [
            "{'Sex': 'Male', 'Age': 23, 'Height': 5.8, 'Occupation': 'Student'}\n"
          ]
        }
      ],
      "source": [
        "# Deleting an element\n",
        "\n",
        "del dictionary['Name']\n",
        "print(dictionary)"
      ]
    },
    {
      "cell_type": "code",
      "execution_count": null,
      "metadata": {
        "colab": {
          "base_uri": "https://localhost:8080/",
          "height": 35
        },
        "id": "C1rKkMWWkm-p",
        "outputId": "8c44a1f4-8ae0-4bdc-be02-75044b6524d7"
      },
      "outputs": [
        {
          "name": "stdout",
          "output_type": "stream",
          "text": [
            "('Occupation', 'Student')\n"
          ]
        }
      ],
      "source": [
        "# Popping an item\n",
        "\n",
        "print(dictionary.popitem())"
      ]
    },
    {
      "cell_type": "code",
      "execution_count": null,
      "metadata": {
        "colab": {
          "base_uri": "https://localhost:8080/",
          "height": 35
        },
        "id": "thMP9vUOk5i1",
        "outputId": "dc048c74-968c-4a85-9cc2-30f76c03d4e5"
      },
      "outputs": [
        {
          "name": "stdout",
          "output_type": "stream",
          "text": [
            "Male\n"
          ]
        }
      ],
      "source": [
        "# Popping the value\n",
        "\n",
        "print(dictionary.pop('Sex'))"
      ]
    },
    {
      "cell_type": "code",
      "execution_count": null,
      "metadata": {
        "colab": {
          "base_uri": "https://localhost:8080/",
          "height": 35
        },
        "id": "BvkNptWdlMFX",
        "outputId": "21faab88-2ae4-4dca-d0de-afc0d1439603"
      },
      "outputs": [
        {
          "name": "stdout",
          "output_type": "stream",
          "text": [
            "{'Age': 23, 'Height': 5.8}\n"
          ]
        }
      ],
      "source": [
        "print(dictionary)"
      ]
    },
    {
      "cell_type": "code",
      "execution_count": null,
      "metadata": {
        "colab": {
          "base_uri": "https://localhost:8080/",
          "height": 35
        },
        "id": "D1yvCB31liJt",
        "outputId": "7c2ff369-d91f-4e94-e9a8-8f3b03cd1412"
      },
      "outputs": [
        {
          "name": "stdout",
          "output_type": "stream",
          "text": [
            "{}\n"
          ]
        }
      ],
      "source": [
        "# Clearing the entire dictionary\n",
        "\n",
        "dictionary.clear()\n",
        "print(dictionary)"
      ]
    },
    {
      "cell_type": "markdown",
      "metadata": {
        "id": "Xs1b4dQGl6wB"
      },
      "source": [
        "## Iterating Through a Dictionary\n",
        "\n",
        "Using a for loop we can iterate through each key in a dictionary as shown below:"
      ]
    },
    {
      "cell_type": "code",
      "execution_count": null,
      "metadata": {
        "colab": {
          "base_uri": "https://localhost:8080/",
          "height": 35
        },
        "id": "mgqztEpnmGNx",
        "outputId": "04dcf27c-2e41-4a21-878a-a33856f75f72"
      },
      "outputs": [
        {
          "name": "stdout",
          "output_type": "stream",
          "text": [
            "{'Name': 'Michael', 'Sex': 'Male', 'Age': 23, 'Height': 5.8, 'Occupation': 'Student'}\n"
          ]
        }
      ],
      "source": [
        "dictionary = {'Name': 'Michael', 'Sex': 'Male', 'Age': 23, 'Height': 5.8, 'Occupation': 'Student'}\n",
        "print(dictionary)"
      ]
    },
    {
      "cell_type": "code",
      "execution_count": null,
      "metadata": {
        "colab": {
          "base_uri": "https://localhost:8080/",
          "height": 104
        },
        "id": "r0kYERvMmNtc",
        "outputId": "92753acf-07e1-475e-f6ee-b8fa82cf0045"
      },
      "outputs": [
        {
          "name": "stdout",
          "output_type": "stream",
          "text": [
            "Michael\n",
            "Male\n",
            "23\n",
            "5.8\n",
            "Student\n"
          ]
        }
      ],
      "source": [
        "# Iterating through the values\n",
        "\n",
        "for i in dictionary:\n",
        "    print(dictionary[i])"
      ]
    },
    {
      "cell_type": "code",
      "execution_count": null,
      "metadata": {
        "colab": {
          "base_uri": "https://localhost:8080/",
          "height": 104
        },
        "id": "aV9J2J96mRLU",
        "outputId": "dbdc2442-e1db-447f-b283-ddc17ad3ffcb"
      },
      "outputs": [
        {
          "name": "stdout",
          "output_type": "stream",
          "text": [
            "Name\n",
            "Sex\n",
            "Age\n",
            "Height\n",
            "Occupation\n"
          ]
        }
      ],
      "source": [
        "# Iterating through the keys\n",
        "\n",
        "for i in dictionary:\n",
        "    print(i)"
      ]
    },
    {
      "cell_type": "markdown",
      "metadata": {
        "id": "dqpHHnLYmwpT"
      },
      "source": [
        "## Len method\n",
        "The length () method in the dictionary returns the number of items of the dictionary."
      ]
    },
    {
      "cell_type": "code",
      "execution_count": null,
      "metadata": {
        "colab": {
          "base_uri": "https://localhost:8080/",
          "height": 35
        },
        "id": "JhXR7ZxrmycL",
        "outputId": "298707af-2b19-4471-f093-f6d8325bda42"
      },
      "outputs": [
        {
          "name": "stdout",
          "output_type": "stream",
          "text": [
            "{'Name': 'Michael', 'Sex': 'Male', 'Age': 23, 'Height': 5.8, 'Occupation': 'Student'}\n"
          ]
        }
      ],
      "source": [
        "dictionary = {'Name': 'Michael', 'Sex': 'Male', 'Age': 23, 'Height': 5.8, 'Occupation': 'Student'}\n",
        "print(dictionary)"
      ]
    },
    {
      "cell_type": "code",
      "execution_count": null,
      "metadata": {
        "colab": {
          "base_uri": "https://localhost:8080/",
          "height": 35
        },
        "id": "60RU8jVKm4V5",
        "outputId": "fc8fdf41-1e8c-4fc3-a262-186365656ff0"
      },
      "outputs": [
        {
          "name": "stdout",
          "output_type": "stream",
          "text": [
            "5\n"
          ]
        }
      ],
      "source": [
        "print(len(dictionary))"
      ]
    },
    {
      "cell_type": "markdown",
      "metadata": {
        "id": "ciqeNRdum7nS"
      },
      "source": [
        "## Sorted\n",
        "The Sorted() method in dictionary returns a new sorted list of keys in the dictionary."
      ]
    },
    {
      "cell_type": "code",
      "execution_count": null,
      "metadata": {
        "colab": {
          "base_uri": "https://localhost:8080/",
          "height": 35
        },
        "id": "kEBy3Bp1nHfZ",
        "outputId": "36457171-1fb7-4b67-ec64-e35aac9a627d"
      },
      "outputs": [
        {
          "name": "stdout",
          "output_type": "stream",
          "text": [
            "{'Name': 'Michael', 'Sex': 'Male', 'Age': 23, 'Height': 5.8, 'Occupation': 'Student'}\n"
          ]
        }
      ],
      "source": [
        "dictionary = {'Name': 'Michael', 'Sex': 'Male', 'Age': 23, 'Height': 5.8, 'Occupation': 'Student'}\n",
        "print(dictionary)"
      ]
    },
    {
      "cell_type": "code",
      "execution_count": null,
      "metadata": {
        "colab": {
          "base_uri": "https://localhost:8080/",
          "height": 35
        },
        "id": "gDzRnbZznFkt",
        "outputId": "2e792f1d-170a-4ffc-d161-73d7cde14fac"
      },
      "outputs": [
        {
          "name": "stdout",
          "output_type": "stream",
          "text": [
            "['Age', 'Height', 'Name', 'Occupation', 'Sex']\n"
          ]
        }
      ],
      "source": [
        "# Sorting in a ascending order\n",
        "\n",
        "print(sorted(dictionary))"
      ]
    },
    {
      "cell_type": "code",
      "execution_count": null,
      "metadata": {
        "colab": {
          "base_uri": "https://localhost:8080/",
          "height": 35
        },
        "id": "6ZGg4dPhnKVV",
        "outputId": "8bc5d01c-920d-4c54-8a43-0188358f9c2d"
      },
      "outputs": [
        {
          "name": "stdout",
          "output_type": "stream",
          "text": [
            "['Sex', 'Occupation', 'Name', 'Height', 'Age']\n"
          ]
        }
      ],
      "source": [
        "# Sorting in a descending order\n",
        "\n",
        "print(sorted(dictionary, reverse = True))"
      ]
    },
    {
      "cell_type": "markdown",
      "metadata": {
        "id": "uPt_rmNBnNb-"
      },
      "source": [
        "## Copy\n",
        "As the name suggests the copy method in dictionary returns a copy of the dictionary."
      ]
    },
    {
      "cell_type": "code",
      "execution_count": null,
      "metadata": {
        "colab": {
          "base_uri": "https://localhost:8080/",
          "height": 35
        },
        "id": "udFUMrvcnXgx",
        "outputId": "cd4a8ccf-3041-4b72-af92-00abebf166f1"
      },
      "outputs": [
        {
          "name": "stdout",
          "output_type": "stream",
          "text": [
            "{'Name': 'Michael', 'Sex': 'Male', 'Age': 23, 'Height': 5.8, 'Occupation': 'Student'}\n"
          ]
        }
      ],
      "source": [
        "dictionary = {'Name': 'Michael', 'Sex': 'Male', 'Age': 23, 'Height': 5.8, 'Occupation': 'Student'}\n",
        "print(dictionary)"
      ]
    },
    {
      "cell_type": "code",
      "execution_count": null,
      "metadata": {
        "colab": {
          "base_uri": "https://localhost:8080/",
          "height": 35
        },
        "id": "KhKgB1yNnYW1",
        "outputId": "0e5573ac-0ab4-44c5-e56b-fb2394aed33b"
      },
      "outputs": [
        {
          "name": "stdout",
          "output_type": "stream",
          "text": [
            "{}\n"
          ]
        }
      ],
      "source": [
        "dictionary1 = {}\n",
        "print(dictionary1)"
      ]
    },
    {
      "cell_type": "code",
      "execution_count": null,
      "metadata": {
        "colab": {
          "base_uri": "https://localhost:8080/",
          "height": 35
        },
        "id": "YOVHVyEinaj2",
        "outputId": "2911442c-87c1-4e53-a7df-2b94696489a8"
      },
      "outputs": [
        {
          "name": "stdout",
          "output_type": "stream",
          "text": [
            "{'Name': 'Michael', 'Sex': 'Male', 'Age': 23, 'Height': 5.8, 'Occupation': 'Student'}\n"
          ]
        }
      ],
      "source": [
        "dictionary1 = dictionary.copy()\n",
        "print(dictionary1)"
      ]
    },
    {
      "cell_type": "markdown",
      "metadata": {
        "id": "lOTpUM0Enk4N"
      },
      "source": [
        "##  Keys\n",
        "Python dictionary method key() returns a list of all the available keys in the dictionary."
      ]
    },
    {
      "cell_type": "code",
      "execution_count": null,
      "metadata": {
        "colab": {
          "base_uri": "https://localhost:8080/",
          "height": 35
        },
        "id": "2U_OwjIqnknh",
        "outputId": "2fd1644b-5b46-4049-a529-0c46f0f60861"
      },
      "outputs": [
        {
          "name": "stdout",
          "output_type": "stream",
          "text": [
            "{'Name': 'Michael', 'Sex': 'Male', 'Age': 23, 'Height': 5.8, 'Occupation': 'Student'}\n"
          ]
        }
      ],
      "source": [
        "dictionary = {'Name': 'Michael', 'Sex': 'Male', 'Age': 23, 'Height': 5.8, 'Occupation': 'Student'}\n",
        "print(dictionary)"
      ]
    },
    {
      "cell_type": "code",
      "execution_count": null,
      "metadata": {
        "colab": {
          "base_uri": "https://localhost:8080/",
          "height": 35
        },
        "id": "NP7u5dy-nfN8",
        "outputId": "d59d2e64-73f5-4b9a-8cd6-6540b46ca0d2"
      },
      "outputs": [
        {
          "name": "stdout",
          "output_type": "stream",
          "text": [
            "dict_keys(['Name', 'Sex', 'Age', 'Height', 'Occupation'])\n"
          ]
        }
      ],
      "source": [
        "print(dictionary.keys())"
      ]
    },
    {
      "cell_type": "markdown",
      "metadata": {
        "id": "HAVoI3_bnuMx"
      },
      "source": [
        "## Values\n",
        "Python dictionary method values() returns a list of all the values available in a given dictionary."
      ]
    },
    {
      "cell_type": "code",
      "execution_count": null,
      "metadata": {
        "colab": {
          "base_uri": "https://localhost:8080/",
          "height": 35
        },
        "id": "qXjjhFtgny0I",
        "outputId": "5a9efc5a-d79d-4ceb-aa15-0e428f76059b"
      },
      "outputs": [
        {
          "name": "stdout",
          "output_type": "stream",
          "text": [
            "{'Name': 'Michael', 'Sex': 'Male', 'Age': 23, 'Height': 5.8, 'Occupation': 'Student'}\n"
          ]
        }
      ],
      "source": [
        "dictionary = {'Name': 'Michael', 'Sex': 'Male', 'Age': 23, 'Height': 5.8, 'Occupation': 'Student'}\n",
        "print(dictionary)"
      ]
    },
    {
      "cell_type": "code",
      "execution_count": null,
      "metadata": {
        "colab": {
          "base_uri": "https://localhost:8080/",
          "height": 35
        },
        "id": "292VDOpfn0kt",
        "outputId": "dfd04120-f03c-4aee-83d2-b9ad217a5a0e"
      },
      "outputs": [
        {
          "name": "stdout",
          "output_type": "stream",
          "text": [
            "dict_values(['Michael', 'Male', 23, 5.8, 'Student'])\n"
          ]
        }
      ],
      "source": [
        "print(dictionary.values())"
      ]
    },
    {
      "cell_type": "markdown",
      "source": [
        "<!--NAVIGATION-->\n",
        "<[Strings](13_strings.ipynb) | [Contents](00_contents.ipynb) | [Files](15_files.ipynb) >"
      ],
      "metadata": {
        "id": "m16CPE8BnKHP"
      }
    }
  ],
  "metadata": {
    "colab": {
      "name": "14_dictionaries.ipynb",
      "provenance": [],
      "include_colab_link": true
    },
    "kernelspec": {
      "display_name": "Python 3",
      "name": "python3"
    },
    "language_info": {
      "codemirror_mode": {
        "name": "ipython",
        "version": 3
      },
      "file_extension": ".py",
      "mimetype": "text/x-python",
      "name": "python",
      "nbconvert_exporter": "python",
      "pygments_lexer": "ipython3",
      "version": "3.9.6"
    }
  },
  "nbformat": 4,
  "nbformat_minor": 0
}