{
  "cells": [
    {
      "cell_type": "markdown",
      "metadata": {
        "id": "view-in-github",
        "colab_type": "text"
      },
      "source": [
        "<a href=\"https://colab.research.google.com/github/michael-borck/just_enough_python/blob/main/17_debugging.ipynb\" target=\"_parent\"><img src=\"https://colab.research.google.com/assets/colab-badge.svg\" alt=\"Open In Colab\"/></a>"
      ]
    },
    {
      "cell_type": "markdown",
      "source": [
        "<!--NAVIGATION-->\n",
        "<[Errors and Exceptions](16_errors_and_exceptions.ipynb) | [Contents](00_contents.ipynb) | [Testing](18_testing.ipynb) >"
      ],
      "metadata": {
        "id": "47REG1QgT2_0"
      }
    },
    {
      "cell_type": "markdown",
      "metadata": {
        "id": "8bMeoyzZThlc"
      },
      "source": [
        "# Debugging\n",
        "\n"
      ]
    },
    {
      "cell_type": "markdown",
      "source": [
        "<!--NAVIGATION-->\n",
        "<[Errors and Exceptions](16_errors_and_exceptions.ipynb) | [Contents](00_contents.ipynb) | [Testing](18_testing.ipynb) >"
      ],
      "metadata": {
        "id": "1Y-ZD2gxT5yb"
      }
    }
  ],
  "metadata": {
    "anaconda-cloud": {},
    "kernelspec": {
      "display_name": "Python 3",
      "language": "python",
      "name": "python3"
    },
    "language_info": {
      "codemirror_mode": {
        "name": "ipython",
        "version": 3
      },
      "file_extension": ".py",
      "mimetype": "text/x-python",
      "name": "python",
      "nbconvert_exporter": "python",
      "pygments_lexer": "ipython3",
      "version": "3.5.1"
    },
    "colab": {
      "name": "17_debugging.ipynb",
      "provenance": [],
      "include_colab_link": true
    }
  },
  "nbformat": 4,
  "nbformat_minor": 0
}