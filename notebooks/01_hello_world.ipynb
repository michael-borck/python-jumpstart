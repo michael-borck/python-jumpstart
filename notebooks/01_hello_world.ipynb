{
  "cells": [
    {
      "cell_type": "markdown",
      "metadata": {
        "id": "view-in-github",
        "colab_type": "text"
      },
      "source": [
        "<a href=\"https://colab.research.google.com/github/michael-borck/just_enough_python/blob/main/01_hello_world.ipynb\" target=\"_parent\"><img src=\"https://colab.research.google.com/assets/colab-badge.svg\" alt=\"Open In Colab\"/></a>"
      ]
    },
    {
      "cell_type": "markdown",
      "source": [
        "<!--NAVIGATION-->\n",
        "[Contents](00_contents.ipynb) | [Basic Python Syntax](02_basic_python_syntax.ipynb) >"
      ],
      "metadata": {
        "id": "HXZiCbM4-qm2"
      }
    },
    {
      "cell_type": "markdown",
      "metadata": {
        "id": "9nAMzrmXnBw6"
      },
      "source": [
        "# Hello, world!\n",
        "\n",
        "By tradition, [\"Hello, world!\"](https://en.wikipedia.org/wiki/%22Hello,_World!%22_program) is everyone's first program. The origins of the program is attributed to Brian Kernigham form the book `The C Programming Language` in 1978. Below is the Python version of *Hello, World!* in a Jupyter notebook cell. \n",
        "\n",
        "A Jupyter Notebook is a web-based interactive computing platform. Notebooks consist of cells. The cell containing this text is called a markdown cell. Markdown cells describe notebooks. The cell below is called a code cell. Code cells are for running code. The output from a code cell appear below the cell. \n",
        "\n",
        "Press the `Down` arrow key or click inside the cell to run the cell below. A drop shadow around the cell will indicate it is now in focus. Then press `Shift-Enter` or click the `Play Buton` to the side of the cell to run it."
      ]
    },
    {
      "cell_type": "code",
      "execution_count": null,
      "metadata": {
        "colab": {
          "base_uri": "https://localhost:8080/"
        },
        "id": "dxwpEiJvnBw-",
        "outputId": "a1bcab26-0036-460f-d3cd-b88a7988f648"
      },
      "outputs": [
        {
          "output_type": "stream",
          "name": "stdout",
          "text": [
            "Hello, world!\n"
          ]
        }
      ],
      "source": [
        "print('Hello, world!')"
      ]
    },
    {
      "cell_type": "markdown",
      "metadata": {
        "id": "8vH_akWJnBxA"
      },
      "source": [
        "Congratulations, you have run your first program.   \n",
        "\n",
        "This program uses a Python function called `print()` to display a `string`. We can recognise a function as it will have a name followed by `()`. We recognise a string because it is between a pair of quotes `\"`. We  discuss [functions](08_functions.ipynb) and [strings](13_strings.ipynb) later.\n",
        "\n",
        "To edit the content of a cell, select it with the `Up` and `Down` arrow keys and press `Enter`. An internal border should be visible to indicate that the cell is in edit mode. \n",
        "\n",
        "Edit the content of the cell below. Change it to `1 + 2`. Press `Esc` to switch back to command mode or press `Shift-Enter` to run the cell when you are ready to run the cell. "
      ]
    },
    {
      "cell_type": "code",
      "execution_count": null,
      "metadata": {
        "id": "ewstG0A1nBxB",
        "colab": {
          "base_uri": "https://localhost:8080/"
        },
        "outputId": "41d9bda7-5e04-430d-e626-c27bc1893a8f"
      },
      "outputs": [
        {
          "output_type": "execute_result",
          "data": {
            "text/plain": [
              "4"
            ]
          },
          "metadata": {},
          "execution_count": 4
        }
      ],
      "source": [
        "2 + 2"
      ]
    },
    {
      "cell_type": "markdown",
      "metadata": {
        "id": "o_mCoKrWnBxB"
      },
      "source": [
        "Great work!\n",
        "\n",
        "The cell above adds two numbers. We can recognise them as numbers because they use digits and NO quote characters. The `+` sign is called an operator and represents addition. We discuss [numbers](03_values.ipynb) and [operators](07_operators.ipynb) later.\n",
        "\n",
        "Now, explore the menubar and icons. How can you add and manipulate cells? Hover the mouse to the middle of the cell, toward the top, and you should see `+Code` and `+Text`. Thes will add a cell above. Similarly, the middle bottom icons will add a cell below. Hover the mouse over the icons to the right of the cell and pause, and some help text should display.   There are keyboard shortcuts that you can use for most actions.\n",
        "\n",
        "- `Up` arrow key: move to the cell above\n",
        "- `Down` arrow key: move to the cell below\n",
        "- `Esc`: Get into command mode\n",
        "- `Enter`: Get into edit mode\n",
        "- While in command mode:\n",
        "    - `A`: insert a new cell above\n",
        "    - `B`: insert a new cell below\n",
        "    - `DD`: delete the current cell\n"
      ]
    },
    {
      "cell_type": "markdown",
      "source": [
        "<!--NAVIGATION-->\n",
        "[Contents](00_contents.ipynb) | [Basic Python Syntax](02_basic_python_syntax.ipynb) >"
      ],
      "metadata": {
        "id": "6yVvb2M4-9zj"
      }
    }
  ],
  "metadata": {
    "kernelspec": {
      "display_name": "Python 3",
      "language": "python",
      "name": "python3"
    },
    "language_info": {
      "codemirror_mode": {
        "name": "ipython",
        "version": 3
      },
      "file_extension": ".py",
      "mimetype": "text/x-python",
      "name": "python",
      "nbconvert_exporter": "python",
      "pygments_lexer": "ipython3",
      "version": "3.8.5"
    },
    "colab": {
      "name": "01_hello_world.ipynb",
      "provenance": [],
      "include_colab_link": true
    }
  },
  "nbformat": 4,
  "nbformat_minor": 0
}