{
  "cells": [
    {
      "cell_type": "markdown",
      "metadata": {
        "id": "view-in-github",
        "colab_type": "text"
      },
      "source": [
        "<a href=\"https://colab.research.google.com/github/michael-borck/just_enough_python/blob/main/12_going_loopy.ipynb\" target=\"_parent\"><img src=\"https://colab.research.google.com/assets/colab-badge.svg\" alt=\"Open In Colab\"/></a>"
      ]
    },
    {
      "cell_type": "markdown",
      "source": [
        "<!--NAVIGATION-->\n",
        "<[Lists](11_lists.ipynb) | [Contents](00_contents.ipynb) | [Strings](13_strings.ipynb) >"
      ],
      "metadata": {
        "id": "47REG1QgT2_0"
      }
    },
    {
      "cell_type": "markdown",
      "metadata": {
        "id": "8bMeoyzZThlc"
      },
      "source": [
        "# Loops\n",
        "\n",
        "A loop, in programming, is a technique that allows you to repeat one or more \n",
        "instructions without having to retype the same instructions multiple times.\n",
        "\n",
        "\n",
        "Here is a motivating example, run the code in the follwoing cell."
      ]
    },
    {
      "cell_type": "code",
      "source": [
        "print(10)\n",
        "print(9)\n",
        "print(8)\n",
        "print(7)\n",
        "print(6)\n",
        "print(5)\n",
        "print(4)\n",
        "print(3)\n",
        "print(2)\n",
        "print(1)\n",
        "print(\"Blast Off!\")"
      ],
      "metadata": {
        "colab": {
          "base_uri": "https://localhost:8080/"
        },
        "id": "6i-oPzjeUdZC",
        "outputId": "a47909a3-0427-4c87-926d-2c840792614b"
      },
      "execution_count": null,
      "outputs": [
        {
          "output_type": "stream",
          "name": "stdout",
          "text": [
            "10\n",
            "9\n",
            "8\n",
            "7\n",
            "6\n",
            "5\n",
            "4\n",
            "3\n",
            "2\n",
            "1\n",
            "Blast Off!\n"
          ]
        }
      ]
    },
    {
      "cell_type": "markdown",
      "source": [
        "Notice that each line is very similar, a print statement, and just printing out a different number.  Repeating something is very common in programming and all languages provide way to do this easier.  Here is *one* easier way to do this.\n",
        "> We will expand on the concepts of the following later in this notebook."
      ],
      "metadata": {
        "id": "bMfEZlI7U3BE"
      }
    },
    {
      "cell_type": "code",
      "source": [
        "for count in [10,9,8,7,6,5,4,3,2,1]:\n",
        "  print(count)\n",
        "print('Blast Off!')"
      ],
      "metadata": {
        "colab": {
          "base_uri": "https://localhost:8080/"
        },
        "id": "X7znrQAOVaCj",
        "outputId": "0f6594d4-9e2f-4c18-dd90-28891812b58d"
      },
      "execution_count": null,
      "outputs": [
        {
          "output_type": "stream",
          "name": "stdout",
          "text": [
            "10\n",
            "9\n",
            "8\n",
            "7\n",
            "6\n",
            "5\n",
            "4\n",
            "3\n",
            "2\n",
            "1\n",
            "Blast Off!\n"
          ]
        }
      ]
    },
    {
      "cell_type": "markdown",
      "source": [
        "## ``for`` loops\n",
        "Loops in Python are a way to repeatedly execute some code statement.\n",
        "So, for example, if we'd like to print each of the items in a list, we can use a ``for`` loop:"
      ],
      "metadata": {
        "id": "9rSCadRGUbY4"
      }
    },
    {
      "cell_type": "code",
      "execution_count": null,
      "metadata": {
        "colab": {
          "base_uri": "https://localhost:8080/"
        },
        "id": "4LQ39jmIThlc",
        "outputId": "ec9484ff-8eef-45fa-97ee-4766ae2895c3"
      },
      "outputs": [
        {
          "output_type": "stream",
          "name": "stdout",
          "text": [
            "2 3 5 7 "
          ]
        }
      ],
      "source": [
        "for N in [2, 3, 5, 7]:\n",
        "    print(N, end=' ') # the 'end' argument equals a space so we print all on same line"
      ]
    },
    {
      "cell_type": "markdown",
      "metadata": {
        "id": "jUtrHYvmThld"
      },
      "source": [
        "Notice the simplicity of the ``for`` loop: we specify the variable we want to use, the sequence we want to loop over, and use the \"``in``\" operator to link them together in an intuitive and readable way.\n",
        "More precisely, the object to the right of the \"``in``\" can be any Python *iterator*.\n",
        "An iterator can be thought of as a generalized sequence, and we'll discuss them in [Iterators](10-Iterators.ipynb).\n",
        "\n",
        "For example, one of the most commonly-used iterators in Python is the ``range`` object, which generates a sequence of numbers:"
      ]
    },
    {
      "cell_type": "code",
      "execution_count": null,
      "metadata": {
        "colab": {
          "base_uri": "https://localhost:8080/"
        },
        "id": "_dUtPEpPThld",
        "outputId": "b6b471b1-7633-4685-e2a4-784ab12dc635"
      },
      "outputs": [
        {
          "output_type": "stream",
          "name": "stdout",
          "text": [
            "0 1 2 3 4 5 6 7 8 9 "
          ]
        }
      ],
      "source": [
        "for i in range(10):\n",
        "    print(i, end=' ')"
      ]
    },
    {
      "cell_type": "markdown",
      "metadata": {
        "id": "tWwsMRIPThle"
      },
      "source": [
        "Note that the range starts at zero by default, and that by convention the top of the range is not included in the output.\n",
        "Range objects can also have more complicated values:"
      ]
    },
    {
      "cell_type": "code",
      "execution_count": null,
      "metadata": {
        "colab": {
          "base_uri": "https://localhost:8080/"
        },
        "id": "lOc4f_gHThle",
        "outputId": "010dde50-2177-4674-abf8-137d7391a312"
      },
      "outputs": [
        {
          "output_type": "execute_result",
          "data": {
            "text/plain": [
              "[5, 6, 7, 8, 9]"
            ]
          },
          "metadata": {},
          "execution_count": 5
        }
      ],
      "source": [
        "# range from 5 to 10\n",
        "list(range(5, 10))"
      ]
    },
    {
      "cell_type": "code",
      "execution_count": null,
      "metadata": {
        "colab": {
          "base_uri": "https://localhost:8080/"
        },
        "id": "Y4BE0a_AThle",
        "outputId": "055f3502-fdc8-4d14-abaf-bfbc554b26b6"
      },
      "outputs": [
        {
          "output_type": "execute_result",
          "data": {
            "text/plain": [
              "[0, 2, 4, 6, 8]"
            ]
          },
          "metadata": {},
          "execution_count": 6
        }
      ],
      "source": [
        "# range from 0 to 10 by 2\n",
        "list(range(0, 10, 2))"
      ]
    },
    {
      "cell_type": "markdown",
      "metadata": {
        "id": "n7CCoBuxThlf"
      },
      "source": [
        "You might notice that the meaning of ``range`` arguments is very similar to the slicing syntax that we covered in [Lists](06-Built-in-Data-Structures.ipynb#Lists).\n",
        "\n",
        "Note that the behavior of ``range()`` is one of the differences between Python 2 and Python 3: in Python 2, ``range()`` produces a list, while in Python 3, ``range()`` produces an iterable object."
      ]
    },
    {
      "cell_type": "markdown",
      "metadata": {
        "id": "babcx7pnThlf"
      },
      "source": [
        "## ``while`` loops\n",
        "The other type of loop in Python is a ``while`` loop, which iterates until some condition is met:"
      ]
    },
    {
      "cell_type": "code",
      "execution_count": null,
      "metadata": {
        "colab": {
          "base_uri": "https://localhost:8080/"
        },
        "id": "g0-ysKcAThlf",
        "outputId": "c146dde1-fcdc-4dbe-ae44-d3264a674df7"
      },
      "outputs": [
        {
          "output_type": "stream",
          "name": "stdout",
          "text": [
            "0 1 2 3 4 5 6 7 8 9 "
          ]
        }
      ],
      "source": [
        "i = 0\n",
        "while i < 10:\n",
        "    print(i, end=' ')\n",
        "    i += 1"
      ]
    },
    {
      "cell_type": "markdown",
      "metadata": {
        "id": "6JDPdc2vThlg"
      },
      "source": [
        "The argument of the ``while`` loop is evaluated as a boolean statement, and the loop is executed until the statement evaluates to False."
      ]
    },
    {
      "cell_type": "markdown",
      "metadata": {
        "id": "dz0mSwbyThlg"
      },
      "source": [
        "## ``break`` and ``continue``: Fine-Tuning Your Loops\n",
        "There are two useful statements that can be used within loops to fine-tune how they are executed:\n",
        "\n",
        "- The ``break`` statement breaks-out of the loop entirely\n",
        "- The ``continue`` statement skips the remainder of the current loop, and goes to the next iteration\n",
        "\n",
        "These can be used in both ``for`` and ``while`` loops.\n",
        "\n",
        "Here is an example of using ``continue`` to print a string of odd numbers.\n",
        "In this case, the result could be accomplished just as well with an ``if-else`` statement, but sometimes the ``continue`` statement can be a more convenient way to express the idea you have in mind:"
      ]
    },
    {
      "cell_type": "code",
      "execution_count": null,
      "metadata": {
        "colab": {
          "base_uri": "https://localhost:8080/"
        },
        "id": "ILpqZgAOThlg",
        "outputId": "41e217ca-ad75-4616-f85f-8a8e90334f4e"
      },
      "outputs": [
        {
          "output_type": "stream",
          "name": "stdout",
          "text": [
            "1 3 5 7 9 11 13 15 17 19 "
          ]
        }
      ],
      "source": [
        "for n in range(20):\n",
        "    # if the remainder of n / 2 is 0, skip the rest of the loop\n",
        "    if n % 2 == 0:\n",
        "        continue\n",
        "    print(n, end=' ')"
      ]
    },
    {
      "cell_type": "markdown",
      "metadata": {
        "id": "Bnlzq_wLThlh"
      },
      "source": [
        "Here is an example of a ``break`` statement used for a less trivial task.\n",
        "This loop will fill a list with all Fibonacci numbers up to a certain value:"
      ]
    },
    {
      "cell_type": "code",
      "execution_count": null,
      "metadata": {
        "colab": {
          "base_uri": "https://localhost:8080/"
        },
        "id": "8B55N47zThlh",
        "outputId": "7d5aed84-c9a0-423a-d4b8-8658194c98e1"
      },
      "outputs": [
        {
          "output_type": "stream",
          "name": "stdout",
          "text": [
            "[1, 1, 2, 3, 5, 8, 13, 21, 34, 55, 89]\n"
          ]
        }
      ],
      "source": [
        "a, b = 0, 1\n",
        "amax = 100\n",
        "L = []\n",
        "\n",
        "while True:\n",
        "    (a, b) = (b, a + b)\n",
        "    if a > amax:\n",
        "        break\n",
        "    L.append(a)\n",
        "\n",
        "print(L)"
      ]
    },
    {
      "cell_type": "markdown",
      "metadata": {
        "id": "RTf_VWEeThlh"
      },
      "source": [
        "Notice that we use a ``while True`` loop, which will loop forever unless we have a break statement!"
      ]
    },
    {
      "cell_type": "markdown",
      "source": [
        "<!--NAVIGATION-->\n",
        "<[Lists](11_lists.ipynb) | [Contents](00_contents.ipynb) | [Strings](13_strings.ipynb) >"
      ],
      "metadata": {
        "id": "1Y-ZD2gxT5yb"
      }
    }
  ],
  "metadata": {
    "anaconda-cloud": {},
    "kernelspec": {
      "display_name": "Python 3",
      "language": "python",
      "name": "python3"
    },
    "language_info": {
      "codemirror_mode": {
        "name": "ipython",
        "version": 3
      },
      "file_extension": ".py",
      "mimetype": "text/x-python",
      "name": "python",
      "nbconvert_exporter": "python",
      "pygments_lexer": "ipython3",
      "version": "3.5.1"
    },
    "colab": {
      "name": "12_going_loopy.ipynb",
      "provenance": [],
      "include_colab_link": true
    }
  },
  "nbformat": 4,
  "nbformat_minor": 0
}