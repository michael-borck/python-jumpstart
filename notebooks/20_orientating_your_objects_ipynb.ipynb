{
  "cells": [
    {
      "cell_type": "markdown",
      "metadata": {
        "id": "view-in-github",
        "colab_type": "text"
      },
      "source": [
        "<a href=\"https://colab.research.google.com/github/michael-borck/just_enough_python/blob/main/20_orientating_your_objects_ipynb.ipynb\" target=\"_parent\"><img src=\"https://colab.research.google.com/assets/colab-badge.svg\" alt=\"Open In Colab\"/></a>"
      ]
    },
    {
      "cell_type": "markdown",
      "source": [
        "<!--NAVIGATION-->\n",
        "< [Modules and Packages](19_modules_and_pckages.ipynb) | [Contents](Index.ipynb) | [How to Run Python Code](21_how_to_run_python_code.ipynb) >"
      ],
      "metadata": {
        "id": "kkMmNexUr9oE"
      }
    },
    {
      "cell_type": "markdown",
      "metadata": {
        "id": "OtfqXS3ar5oS"
      },
      "source": [
        "# Objects\n",
        "\n",
        "You've probably heard the term object in a programming context before \n",
        "but what does it mean?Let's start by looking at some real-world objects \n",
        "like pens, books, smartphones, computers, and so on.\n",
        "\n",
        "Objects come in different forms and shapes, but you can classify different \n",
        "versions of the same item into a category or group. It's why you can go to a \n",
        "furniture store and recognize different items as chairs even if they look \n",
        "very different from one another.\n",
        "\n",
        "You recognize different objects as being part of the same group or type as \n",
        "well as noticing commonalities between different ones, collecting information, \n",
        "and creating a mental representation for a category.\n",
        "\n",
        "Objects in programming can be used to model objects from the real world. \n",
        "Since programs are designed to work and be used in the real world, it helps \n",
        "to be able to mirror reality. Additionally, using objects is a useful way of \n",
        "grouping together details. \n",
        "\n",
        "## Understand Abstraction\n",
        "\n",
        "Abstraction serves to hide the complex mechanisms within an object, leaving \n",
        "only the information that we need in order to interact with it.  For example, \n",
        "there are different kinds of books out there, they all have \n",
        "a title, an author, a cover, page count, hardback or softcover, fiction or \n",
        "non fiction, language, topic, publisher, year published is it \n",
        "and I am sure you can think of other information about books.\n",
        "\n",
        "But for this problem, we want to abstract the most salient details. The \n",
        "important attributes will be in the requirement or form chatting to the client. \n",
        "In this case, the client only wants to track the title, author, number of pages \n",
        "and publisher. In our program individual books all have similar \n",
        "attributes that allow you to classify them in your mind as part of the \n",
        "category: book.\n",
        "\n",
        "This list of attributes just described for a book acts as a kind of \n",
        "blueprint for that object. In programming, it's called a class. When creating \n",
        "a class, you can come up with any custom name you desire, which is why \n",
        "classes are called a named type. As you'll see, they also allow you to group \n",
        "lots of details together, which is also why they can be referred to as \n",
        "complex types. On the other hand, the simple types you are already familiar \n",
        "with, like int or double have names that are  predefined by the programming \n",
        "language and cannot be modified. \n",
        "\n",
        "## Designing classes\n",
        "\n",
        "To see how to design a class, let's continue with the book example.  Below, \n",
        "we've identified a sample of information that could describe any book:\n",
        "* Title\n",
        "* Author\n",
        "* Number of pages\n",
        "* Publisher\n",
        "\n",
        "Those are attributes of any book in real life. In Python, in the context of \n",
        "classes, they are also called attributes. They are simply a fancy name for \n",
        "something you're already familiar with: variables!\n",
        "\n",
        "## Class declaration\n",
        "\n",
        "Now that you understand the theory let's put it in writing!\n",
        "\n",
        "To declare a class in Python, use the keyword class followed by a custom name. \n",
        "After that, you end it with a colon (:).\n",
        "\n",
        "## Class Naming conventions\n",
        "\n",
        "Similar to naming variables, class names must be descriptive and spelled out \n",
        "(remember, avoid abbreviations!). A key difference is that, instead of using \n",
        "standard snake case, uppercase camel case. The first letter of each word \n",
        "should be a capital. e.g. MarvelousCreature and not marvelousCreature.\n",
        "\n"
      ]
    },
    {
      "cell_type": "code",
      "execution_count": null,
      "metadata": {
        "id": "pNbtgx9yr5oX"
      },
      "outputs": [],
      "source": [
        "class Book:\n",
        "  pass"
      ]
    },
    {
      "cell_type": "markdown",
      "metadata": {
        "id": "zT9DqoqIr5oY"
      },
      "source": [
        ">Woah!... What is **pass**?\n",
        ">\n",
        ">In Python, the pass keyword is an entire statement in itself. This statement doesn’t do anything: it’s discarded during the >byte-compile phase. But for a statement that does nothing, the Python pass statement is surprisingly useful.\n",
        ">\n",
        ">Sometimes pass is useful in the final code that runs in production. More often, pass is useful as scaffolding while developing >code. In specific cases, there are better alternatives to doing nothing"
      ]
    },
    {
      "cell_type": "code",
      "execution_count": null,
      "metadata": {
        "id": "6p-0jNnBr5oZ"
      },
      "outputs": [],
      "source": [
        "class Book:\n",
        "    def __init__(self, title, author, number_of_pages, publisher):\n",
        "        self.title = title\n",
        "        self.author = author\n",
        "        self.number_of_pages = number_of_pages\n",
        "        self.publisher = publisher"
      ]
    },
    {
      "cell_type": "markdown",
      "metadata": {
        "id": "_8YV97Ftr5oa"
      },
      "source": [
        "All classes have a function called __init__(), which is executed when the class is being initiated. That means that every time you create a Book, the __init__() function is called. The first parameter of the method should always be self, which represents the class you are working on. For example, self.title will be the title assigned to the Book class just created.\n",
        "\n",
        "Recall, Python is a block-structured language meaning that every group of statements in a program or script (called block) has to be indented. For example, after the first line, every indented code referring to the class Book: __init__ is only available in Book. The same goes for all the self. lines. They are only available in the __init__ function and only in Book.\n",
        "\n",
        "# Using Classes\n",
        "\n",
        "Now that the new type - Book is declared, what can you do with it? After all, classes are more abstract. Class fields are like an online bookstore template: searches always result in the same information such as title, author, number of pages, etc.\n",
        "\n",
        "When you're searching for something to read, you don't just type \"book,\" right? That's not useful! You need a specific instance of a book, like Alice in Wonderland. You're looking for an actual object you can page through and read. It's the same in computer programming.\n",
        "\n",
        "To work with a class, you need to create a concrete object of that class. In other words, you need a specific object, like a particular book (Alice in Wonderland). In Python, it is called an instance of a class. As its name implies, the process is called instantiating or initializing an object.  For that, you create a variable of the class.  \n",
        "\n",
        "In Python, each field of the created object must have a value which can be provided in a few ways.  You saw one earlier with the publisher example: hard-setting a value in the class definition. \n",
        "\n",
        "Another way is providing a value in the statement that creates the class. Let's look at how to do that. Here is the code for creating a book with values provided at the moment the object is created:\n",
        "\n"
      ]
    },
    {
      "cell_type": "code",
      "execution_count": null,
      "metadata": {
        "id": "HTIDmvS6r5oa"
      },
      "outputs": [],
      "source": [
        "myBook = Book(\"Python for Business\", \"Michael Borck\", 321, \"OC\")"
      ]
    },
    {
      "cell_type": "markdown",
      "metadata": {
        "id": "V5mHcZ3Tr5ob"
      },
      "source": [
        "First, you do a regular declaration of a variable, with its name myBook.\n",
        "\n",
        "Now, here comes the cool part. The variable is initialized with the object \n",
        "creation expression  Book(\"Coding is art\",\"Becky James\",425, \"OC\"). This \n",
        "expression is composed of the name of the class again (Book), and some \n",
        "parentheses() with values inside. As you can see, the value for each of the \n",
        "original fields:  title,  author, numberOfPages, and publisher has been \n",
        "specified in the parenthesis. Each one is separated with a comma. You now have \n",
        "an instance of the class Book!\n",
        "\n",
        "To instantiate an object you declare a variable of the class.  You can have \n",
        "many instances of a class, that is many objects can use the same class definition.\n",
        "\n",
        "# Working with attributes\n",
        "\n",
        "You've got your book object, but what if you change your mind about the value \n",
        "of your variables? How do you access the associated attributes? Attributes are \n",
        "the variables you define whe creating class.\n",
        "\n",
        "A common way to access attributes in many programming languages is using what's \n",
        "called a dot notation. To do this, you write the name of an instance or object \n",
        "followed by an attribute name of interest, separated by a dot."
      ]
    },
    {
      "cell_type": "code",
      "execution_count": null,
      "metadata": {
        "id": "jwFH1TYer5ob"
      },
      "outputs": [],
      "source": [
        "myBook.title = \"Coding in Python\"\n",
        "myBook.author = \"James Borck\"\n",
        "myBook.number_of_pages += 10"
      ]
    },
    {
      "cell_type": "markdown",
      "metadata": {
        "id": "XRchEPLKr5oc"
      },
      "source": [
        "Now you can set change the value of your fields within the object! Imagine that you've added 10 pages because you forgot to add the book's index. You could either type the new number directly or like you see in the third line, add 10 pages to the existing value. This is pretty handy when making small changes. \n",
        "\n",
        "Lets print out the attributes"
      ]
    },
    {
      "cell_type": "code",
      "execution_count": null,
      "metadata": {
        "id": "VxujKwAZr5oc",
        "outputId": "72612868-6f70-4ae0-fd76-2819039e4501"
      },
      "outputs": [
        {
          "name": "stdout",
          "output_type": "stream",
          "text": [
            "Coding in Python\n",
            "James Borck\n",
            "331\n"
          ]
        }
      ],
      "source": [
        "print(myBook.title)\n",
        "print(myBook.author)\n",
        "print(myBook.number_of_pages)"
      ]
    },
    {
      "cell_type": "markdown",
      "metadata": {
        "id": "z1Grjh0wr5od"
      },
      "source": [
        "## Object Behaviours\n",
        "\n",
        "The attributes describe the object.  In our example, title, author, publisher \n",
        "and number of pages.  The other part of the object is the behaviours.  For \n",
        "example you can 'drive' a car, or 'open' a door.\n",
        "\n",
        "What are some behaviours of our book?  you can 'read' a book.  So our plan needs\n",
        "is to extend the object to include behaviours.  In programming these behaviour \n",
        "are implements as methods. A method is a function specific to a class."
      ]
    },
    {
      "cell_type": "code",
      "execution_count": null,
      "metadata": {
        "id": "4bYqjGs2r5od"
      },
      "outputs": [],
      "source": [
        "class Book:\n",
        "    def __init__(self, title, author, number_of_pages, publisher):\n",
        "        self.title = title\n",
        "        self.author = author\n",
        "        self.number_of_pages = number_of_pages\n",
        "        self.publisher = publisher\n",
        "\n",
        "    def read_book(self):\n",
        "      print(\"Reading \" + self.title + \" by \" + self.author)"
      ]
    },
    {
      "cell_type": "markdown",
      "metadata": {
        "id": "w89yszWRr5oe"
      },
      "source": [
        "In Summary:\n",
        "* A plan or blueprint for an object is called a class.\n",
        "* A class defines the attributes (a description), the methods (what it does), \n",
        "  and the access level (who can use it) for an object.\n",
        "* To create an object, you have to instantiate it. An instantiated object is \n",
        "  called an instance of a class.\n",
        "* Objects from the same class can differ in the details if they have different \n",
        "  values for their attributes. They still have to follow the class plan, though! \n",
        "* The bundling together of attributes, methods is an example of \n",
        "  **encapsulation**"
      ]
    },
    {
      "cell_type": "markdown",
      "source": [
        "<!--NAVIGATION-->\n",
        "< [Modules and Packages](19_modules_and_pckages.ipynb) | [Contents](Index.ipynb) | [How to Run Python Code](21_how_to_run_python_code.ipynb) >"
      ],
      "metadata": {
        "id": "hSB-3uQgsS5R"
      }
    }
  ],
  "metadata": {
    "interpreter": {
      "hash": "4ffbd1b0996e3a79afb3d81e30644170a5904f770a23d1ec65a6a61c4dfe8e95"
    },
    "kernelspec": {
      "display_name": "Python 3.9.6 64-bit ('base': conda)",
      "language": "python",
      "name": "python3"
    },
    "language_info": {
      "codemirror_mode": {
        "name": "ipython",
        "version": 3
      },
      "file_extension": ".py",
      "mimetype": "text/x-python",
      "name": "python",
      "nbconvert_exporter": "python",
      "pygments_lexer": "ipython3",
      "version": "3.9.6"
    },
    "orig_nbformat": 4,
    "colab": {
      "name": "20_orientating_your_objects.ipynb.ipynb",
      "provenance": [],
      "include_colab_link": true
    }
  },
  "nbformat": 4,
  "nbformat_minor": 0
}