{
  "cells": [
    {
      "cell_type": "markdown",
      "metadata": {
        "id": "view-in-github",
        "colab_type": "text"
      },
      "source": [
        "<a href=\"https://colab.research.google.com/github/michael-borck/just_enough_python/blob/main/03_values.ipynb\" target=\"_parent\"><img src=\"https://colab.research.google.com/assets/colab-badge.svg\" alt=\"Open In Colab\"/></a>"
      ]
    },
    {
      "cell_type": "markdown",
      "source": [
        "<!--NAVIGATION-->\n",
        "< [Basic Python Syntax](02_basic_python_syntax.ipynb) | [Contents](00_contents.ipynb) | [Variables](04_variables.ipynb) >"
      ],
      "metadata": {
        "id": "g_tYmKieDeEt"
      }
    },
    {
      "cell_type": "markdown",
      "source": [
        "## What is a value?\n",
        "\n",
        "Programs process data. Data within a program may be a single value, such as a number or a letter.\n",
        "\n",
        "In the cell below try some different numbers, say 123, or 31.7."
      ],
      "metadata": {
        "id": "dn3ZwpT_0A6i"
      }
    },
    {
      "cell_type": "code",
      "source": [
        ""
      ],
      "metadata": {
        "id": "vA9YOTdYAQ-M"
      },
      "execution_count": null,
      "outputs": []
    },
    {
      "cell_type": "markdown",
      "source": [
        "What about letters? Most programming languages are case sensitive.  So a charater `a` is different from `A`.  Run the cell below."
      ],
      "metadata": {
        "id": "AyL5IRAA0dR7"
      }
    },
    {
      "cell_type": "code",
      "source": [
        "A"
      ],
      "metadata": {
        "colab": {
          "base_uri": "https://localhost:8080/",
          "height": 168
        },
        "id": "pPoQko2B1Yaz",
        "outputId": "2df73777-8485-47d4-fc56-91e60e83b1ba"
      },
      "execution_count": null,
      "outputs": [
        {
          "output_type": "error",
          "ename": "NameError",
          "evalue": "ignored",
          "traceback": [
            "\u001b[0;31m---------------------------------------------------------------------------\u001b[0m",
            "\u001b[0;31mNameError\u001b[0m                                 Traceback (most recent call last)",
            "\u001b[0;32m<ipython-input-1-7d157d7c000a>\u001b[0m in \u001b[0;36m<module>\u001b[0;34m()\u001b[0m\n\u001b[0;32m----> 1\u001b[0;31m \u001b[0mA\u001b[0m\u001b[0;34m\u001b[0m\u001b[0;34m\u001b[0m\u001b[0m\n\u001b[0m",
            "\u001b[0;31mNameError\u001b[0m: name 'A' is not defined"
          ]
        }
      ]
    },
    {
      "cell_type": "markdown",
      "source": [
        "Our first error, what happened? Why can I type `21.3` and I don't get an error, but typing `A` caused an error. The clue in the cryptic message is `NameError: name 'A' is not defined`. Depending on your experience, this clue may not make much sense. But if we were to guess, it seems to be something to do with a `name`. I am not sure what a `name` is, but we wanted a letter. If I want the letter `A` in Python, we must enclose the character in either single or double quotes."
      ],
      "metadata": {
        "id": "uWAcfhzg1tjr"
      }
    },
    {
      "cell_type": "code",
      "source": [
        "\"A\""
      ],
      "metadata": {
        "colab": {
          "base_uri": "https://localhost:8080/",
          "height": 35
        },
        "id": "xClAY67U1rGb",
        "outputId": "19e55e62-b1c1-43f9-cabb-49bfb7c2dc7b"
      },
      "execution_count": null,
      "outputs": [
        {
          "output_type": "execute_result",
          "data": {
            "text/plain": [
              "'A'"
            ],
            "application/vnd.google.colaboratory.intrinsic+json": {
              "type": "string"
            }
          },
          "metadata": {},
          "execution_count": 2
        }
      ]
    },
    {
      "cell_type": "markdown",
      "source": [
        "In the cell below, try a few characters your self."
      ],
      "metadata": {
        "id": "MAEML9j_4R1H"
      }
    },
    {
      "cell_type": "code",
      "source": [
        ""
      ],
      "metadata": {
        "id": "Gm2PNO3l4XWr"
      },
      "execution_count": null,
      "outputs": []
    },
    {
      "cell_type": "markdown",
      "source": [
        "Notice that when we execute a cell, Python is just repeating the contents.\n",
        "\n",
        "Sometimes we want to know if something it true or false. When something can only have one two values we call is a `boolean value`.  To represent a boolean value in Python there are two values `True` and `False`.  Notice they begin with an uppercase letter and no quotes. Try the two values in the cell below."
      ],
      "metadata": {
        "id": "3OIzzSQX4E0p"
      }
    },
    {
      "cell_type": "code",
      "source": [
        ""
      ],
      "metadata": {
        "id": "7XkpYoFL___t"
      },
      "execution_count": null,
      "outputs": []
    },
    {
      "cell_type": "markdown",
      "source": [
        "If you are still confused, try Googling `boolean value` and have a look at the first couple of pages. Being able to perform a gooles search for answers is a useful skill.  Sometimes it helps, sometimes it doesn't.  If googling `boolean value` hasn't helped, make a note to revist the concept, perhaps seek help form a peer or some other source. For now we need a represent the truthfulness of something, so we have settled on `True` and `False`\n",
        "\n",
        "> The real purpose of the last paragraph was understand there may be time you need to seek help form other sources.  In programming we often say that *your one google search away form an answer*\n",
        "\n",
        "So far we only considered single values.  In python we can group values, one common way is a lists. To represent a list we use a pair of square brackets `[]`.  Experiement in the cells below creating some lists.  List can contain the same type of values, or a mix of different type of values.  Here are some examples of lists:\n",
        "* `[1 , 2 , 3 , 4]\n",
        "* `['a' , 'A']\n",
        "* `[1 , 'a' , 2 , 'A']\n",
        "\n",
        " We discuss [lists](06_lists.ipynb) later.\n"
      ],
      "metadata": {
        "id": "FNuzex3J6had"
      }
    },
    {
      "cell_type": "code",
      "source": [
        ""
      ],
      "metadata": {
        "id": "m3bGES6X_4m5"
      },
      "execution_count": null,
      "outputs": []
    },
    {
      "cell_type": "markdown",
      "source": [
        "What if I want a group of letters?  In Python we call this a string. In case it not obvious `'Apples'` is a string and `['A' , 'p' , 'p' , 'l' , 'e' , 's']` is a list of letters. [Strings](08_strings.ipynb) are very common in programing and dissus them later.\n",
        "\n",
        "Is there a way to determine the type of an item is? In Python we have a the *type()* function. In the cell below, find out the type of  3, 3.0, '3', '3.0'  and [3, 3.0,'3', '3.0'].\n",
        "> We are going to use functions a lot, before long you will understand exactly how they work and even know how to create your own, but for now just think of them as a way to *ask* Python to do some work.  In the cell is known as **calling** the *type* function.  Functions have a name followed by left parenthesis, some data, and end with a right parenthesis.\n",
        "\n",
        "`type(3.0)` will return `float`.  Try a few in the cell below.  What is the type of:\n",
        "* `12`\n",
        "* `'Apples'`\n",
        "* `True`\n",
        "* `[1,2,3]`\n",
        "\n"
      ],
      "metadata": {
        "id": "fmQFNkE1-g33"
      }
    },
    {
      "cell_type": "code",
      "source": [
        ""
      ],
      "metadata": {
        "id": "R1y1XjuL-f_Q"
      },
      "execution_count": null,
      "outputs": []
    },
    {
      "cell_type": "markdown",
      "source": [
        "What are the different types?  Here is a table sumarising the type of values we currently know, we will expand on this later.\n",
        "\n",
        "| Data Type | Python Expressions | Description                   | Example |\n",
        "|-----------|--------------------|-------------------------------|---------|\n",
        "|integer    | int                | A whole numeber               | 143267  |\n",
        "|decimal    | float              | A floating point number       | 3.13159 |\n",
        "|string     | str                | Set of characters in quotes   | \"Hello\" |\n",
        "|boolean    | bool               | anything evaluates true/false | True    |\n",
        "|List       | list               | An ordered list of values     | [1,4,5] |\n",
        "\n",
        "\n",
        "## Conclusion\n",
        "\n",
        "The values we have typed in this notebook are known as **literals**. I like to think of it as`12.3`, which literally means the number 12.3. You may see the term *numeric literal* or *string literal* in some textbooks.\n",
        "\n",
        "The different types of values are a fundamental concept in any programming language. Mixing types is the source of many errors in programs. Knowing the different types are important, but we often need a way to store the values within a program. The following notebook looks at how we can do this using *variables*."
      ],
      "metadata": {
        "id": "8lTuwPxFCYCT"
      }
    },
    {
      "cell_type": "markdown",
      "source": [
        "<!--NAVIGATION-->\n",
        "< [Basic Python Syntax](02_basic_python_syntax.ipynb) | [Contents](00_contents.ipynb) | [Variables](04_variables.ipynb) >"
      ],
      "metadata": {
        "id": "PHcHnvkdDuGE"
      }
    },
    {
      "cell_type": "code",
      "source": [
        ""
      ],
      "metadata": {
        "id": "cLakIICgeAzM"
      },
      "execution_count": null,
      "outputs": []
    }
  ],
  "metadata": {
    "kernelspec": {
      "display_name": "Python 3",
      "language": "python",
      "name": "python3"
    },
    "language_info": {
      "codemirror_mode": {
        "name": "ipython",
        "version": 3
      },
      "file_extension": ".py",
      "mimetype": "text/x-python",
      "name": "python",
      "nbconvert_exporter": "python",
      "pygments_lexer": "ipython3",
      "version": "3.8.5"
    },
    "colab": {
      "name": "03_values.ipynb",
      "provenance": [],
      "include_colab_link": true
    }
  },
  "nbformat": 4,
  "nbformat_minor": 0
}