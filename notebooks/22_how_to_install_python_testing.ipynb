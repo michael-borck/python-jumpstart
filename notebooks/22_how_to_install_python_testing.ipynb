{
  "cells": [
    {
      "cell_type": "markdown",
      "metadata": {
        "id": "view-in-github",
        "colab_type": "text"
      },
      "source": [
        "<a href=\"https://colab.research.google.com/github/michael-borck/just_enough_python/blob/main/22_how_to_install_python_testing.ipynb\" target=\"_parent\"><img src=\"https://colab.research.google.com/assets/colab-badge.svg\" alt=\"Open In Colab\"/></a>"
      ]
    },
    {
      "cell_type": "markdown",
      "source": [
        "<!--NAVIGATION-->\n",
        "<[How to Run Python Code](21_how_to_run_python_code.ipynb) | [Contents](00_contents.ipynb) | [Getting Help](23_getting_help.ipynb) >"
      ],
      "metadata": {
        "id": "47REG1QgT2_0"
      }
    },
    {
      "cell_type": "markdown",
      "metadata": {
        "id": "8bMeoyzZThlc"
      },
      "source": [
        "# Installation and Practical Considerations\n",
        "\n",
        "Installing Python and the suite of libraries that enable scientific computing is straightforward whether you use Windows, Linux, or Mac OS X. This section will outline some of the considerations when setting up your computer.\n",
        "\n",
        "### Installation with conda\n",
        "\n",
        "Though there are various ways to install Python, the one I would suggest – particularly if you wish to eventually use the data science tools mentioned above – is via the cross-platform Anaconda distribution.\n",
        "There are two flavors of the Anaconda distribution:\n",
        "\n",
        "- [Miniconda](http://conda.pydata.org/miniconda.html) gives you Python interpreter itself, along with a command-line tool called ``conda`` which operates as a cross-platform package manager geared toward Python packages, similar in spirit to the ``apt`` or ``yum`` tools that Linux users might be familiar with.\n",
        "- [Anaconda](https://www.continuum.io/downloads) includes both Python and ``conda``, and additionally bundles a suite of other pre-installed packages geared toward scientific computing.\n",
        "\n",
        "Any of the packages included with Anaconda can also be installed manually on top of Miniconda; for this reason I suggest starting with Miniconda.\n",
        "\n",
        "To get started, download and install the Miniconda package – make sure to choose a version with Python 3 – and then install the IPython notebook package:\n",
        "```\n",
        "[~]$ conda install ipython-notebook\n",
        "```\n",
        "For more information on ``conda``, including information about creating and using conda environments, refer to the Miniconda package documentation linked at the above page.\n"
      ]
    },
    {
      "cell_type": "markdown",
      "source": [
        "<!--NAVIGATION-->\n",
        "<[How to Run Python Code](21_how_to_run_python_code.ipynb) | [Contents](00_contents.ipynb) | [Getting Help](23_getting_help.ipynb) >"
      ],
      "metadata": {
        "id": "1Y-ZD2gxT5yb"
      }
    }
  ],
  "metadata": {
    "anaconda-cloud": {},
    "kernelspec": {
      "display_name": "Python 3",
      "language": "python",
      "name": "python3"
    },
    "language_info": {
      "codemirror_mode": {
        "name": "ipython",
        "version": 3
      },
      "file_extension": ".py",
      "mimetype": "text/x-python",
      "name": "python",
      "nbconvert_exporter": "python",
      "pygments_lexer": "ipython3",
      "version": "3.5.1"
    },
    "colab": {
      "name": "22_how_to_install_python_testing.ipynb",
      "provenance": [],
      "include_colab_link": true
    }
  },
  "nbformat": 4,
  "nbformat_minor": 0
}