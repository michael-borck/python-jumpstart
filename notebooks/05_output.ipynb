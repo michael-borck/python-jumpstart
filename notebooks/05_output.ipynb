{
  "cells": [
    {
      "cell_type": "markdown",
      "metadata": {
        "id": "view-in-github",
        "colab_type": "text"
      },
      "source": [
        "<a href=\"https://colab.research.google.com/github/michael-borck/just_enough_python/blob/main/05_output.ipynb\" target=\"_parent\"><img src=\"https://colab.research.google.com/assets/colab-badge.svg\" alt=\"Open In Colab\"/></a>"
      ]
    },
    {
      "cell_type": "markdown",
      "source": [
        "<!--NAVIGATION-->\n",
        "< [Variables](04_variables.ipynb) | [Contents](00_contents.ipynb) |[Input](05_input.ipynb) >"
      ],
      "metadata": {
        "id": "g_tYmKieDeEt"
      }
    },
    {
      "cell_type": "markdown",
      "source": [
        "# Output\n",
        "\n",
        "Counterintuitively let us start with output first.  As we learn, we often want to output information to see if something has worked.  Python has a built-in function called `print()` that can output a message to the screen.Output can be displayed directly on the screen, saved to a file or committed to a database.\n",
        "\n",
        "In this notebook, we will focus on output to the screen. External sources, like [files](13_files.ipynb) are discussed later.  Python provides us with the a built-in functions called `print()`.\n",
        "\n",
        "> A *built-in* function is one that comes with the programming language. [functions](07_functions.ipynb) we see how to create our own function and in [Importing Things](14_importing_things.ipynb) we see how we can use external functions.\n",
        "\n",
        "Wait a minute, we already see some output and we didn't use the `print()` function.  We assigned a value to a variable\n"
      ],
      "metadata": {
        "id": "dn3ZwpT_0A6i"
      }
    },
    {
      "cell_type": "code",
      "source": [
        "age = 21"
      ],
      "metadata": {
        "id": "wn6AM65jL4Z9"
      },
      "execution_count": null,
      "outputs": []
    },
    {
      "cell_type": "markdown",
      "source": [
        "and then we typed the name of a variable in a cell and it displayed its value"
      ],
      "metadata": {
        "id": "fTWXOaxYWiFf"
      }
    },
    {
      "cell_type": "code",
      "source": [
        "age"
      ],
      "metadata": {
        "colab": {
          "base_uri": "https://localhost:8080/"
        },
        "id": "KVZJwY7QWro6",
        "outputId": "94ba36b2-ca66-4519-ec97-12c33f578d18"
      },
      "execution_count": null,
      "outputs": [
        {
          "output_type": "execute_result",
          "data": {
            "text/plain": [
              "21"
            ]
          },
          "metadata": {},
          "execution_count": 4
        }
      ]
    },
    {
      "cell_type": "markdown",
      "source": [
        "What is going on here?   Well this is taking advantaged of the interactive Python environment that display the result from the last line in a cell.\n",
        "> Not all statement produce output, see the cell with `age = 12` above.\n",
        "\n",
        "Run the following cell"
      ],
      "metadata": {
        "id": "tBeLyU-HWtqJ"
      }
    },
    {
      "cell_type": "code",
      "source": [
        "age = 42\n",
        "age"
      ],
      "metadata": {
        "colab": {
          "base_uri": "https://localhost:8080/"
        },
        "id": "zH_r5373XSkX",
        "outputId": "8f36d86f-4531-4810-ad3d-250cfd4dd7cd"
      },
      "execution_count": null,
      "outputs": [
        {
          "output_type": "execute_result",
          "data": {
            "text/plain": [
              "42"
            ]
          },
          "metadata": {},
          "execution_count": 5
        }
      ]
    },
    {
      "cell_type": "markdown",
      "source": [
        "Okay, so why do I need `print()`? We need a function for a few reasons, \n",
        "* it may be hard to write code so that we make sure we can put what we want on the last line of a cell\n",
        "* and using the default notebook may not be sufficient. We may want to format the output\n",
        "* our code may be reused in a different environment. The output of the last line of code is unique to the iPython environment like notebooks but not in scripts. We discuss [how to run python code](18_how_to_run_python_code.ipynb) later.\n",
        "\n",
        "Run the following cell."
      ],
      "metadata": {
        "id": "ewh-uIuCXYKy"
      }
    },
    {
      "cell_type": "code",
      "source": [
        "print('This is a message')"
      ],
      "metadata": {
        "id": "p6EoJYscZV6t"
      },
      "execution_count": null,
      "outputs": []
    },
    {
      "cell_type": "markdown",
      "source": [
        "The interpreter sees the call to the `print()` function, it takes the message text and displys it to the user.\n",
        "\n",
        "We have seen that before `print('Hello, world!')`, all we have done is change the message. Can we print variables?"
      ],
      "metadata": {
        "id": "u4TmUWlxZdlQ"
      }
    },
    {
      "cell_type": "code",
      "source": [
        "age = 21\n",
        "print(age)"
      ],
      "metadata": {
        "colab": {
          "base_uri": "https://localhost:8080/"
        },
        "id": "FAev6uWfZzYG",
        "outputId": "39d69843-850f-4b62-a00e-e82df000e493"
      },
      "execution_count": null,
      "outputs": [
        {
          "output_type": "stream",
          "name": "stdout",
          "text": [
            "21\n"
          ]
        }
      ]
    },
    {
      "cell_type": "markdown",
      "source": [
        "The `print()` function can take a **literial** or a **variable**.  "
      ],
      "metadata": {
        "id": "O0BhPdDnZ4td"
      }
    },
    {
      "cell_type": "code",
      "source": [
        "print('This is a message')\n",
        "print('A')\n",
        "print(23.7)\n",
        "print(age)"
      ],
      "metadata": {
        "colab": {
          "base_uri": "https://localhost:8080/"
        },
        "id": "kvGI19pYaYl9",
        "outputId": "4e678317-6298-4244-8478-e3ebbb1dcee7"
      },
      "execution_count": null,
      "outputs": [
        {
          "output_type": "stream",
          "name": "stdout",
          "text": [
            "This is a message\n",
            "A\n",
            "23.7\n",
            "21\n"
          ]
        }
      ]
    },
    {
      "cell_type": "markdown",
      "source": [
        "\n",
        "## Getting help\n",
        "\n",
        "The Python `help()` function invokes the interactive built-in help system. If the argument is name of a variable or functions then it will display the available information on the argument.\n",
        "\n",
        "Lets have a look at the available help information on `print()`.[link text](https://)"
      ],
      "metadata": {
        "id": "q6GWqXckaXCv"
      }
    },
    {
      "cell_type": "code",
      "source": [
        "help(print)"
      ],
      "metadata": {
        "id": "r9o1UhA-68Ry",
        "outputId": "67ea7002-2fb7-4503-fdb6-485b0b3f7bea",
        "colab": {
          "base_uri": "https://localhost:8080/"
        }
      },
      "execution_count": 1,
      "outputs": [
        {
          "output_type": "stream",
          "name": "stdout",
          "text": [
            "Help on built-in function print in module builtins:\n",
            "\n",
            "print(...)\n",
            "    print(value, ..., sep=' ', end='\\n', file=sys.stdout, flush=False)\n",
            "    \n",
            "    Prints the values to a stream, or to sys.stdout by default.\n",
            "    Optional keyword arguments:\n",
            "    file:  a file-like object (stream); defaults to the current sys.stdout.\n",
            "    sep:   string inserted between values, default a space.\n",
            "    end:   string appended after the last value, default a newline.\n",
            "    flush: whether to forcibly flush the stream.\n",
            "\n"
          ]
        }
      ]
    },
    {
      "cell_type": "markdown",
      "source": [
        "## Conclusion\n",
        "\n",
        "Output informaiton is the fundamental way determine if a program has worked. We can print *literals*, variables, numbers and strings. We will see in later notebooks that the `print()` function can do more, but this is a good start.  \n"
      ],
      "metadata": {
        "id": "8lTuwPxFCYCT"
      }
    },
    {
      "cell_type": "markdown",
      "source": [
        "<!--NAVIGATION-->\n",
        "< [Variables](04_variables.ipynb) | [Contents](00_contents.ipynb) |[Input](05_input.ipynb) >"
      ],
      "metadata": {
        "id": "PHcHnvkdDuGE"
      }
    }
  ],
  "metadata": {
    "kernelspec": {
      "display_name": "Python 3",
      "language": "python",
      "name": "python3"
    },
    "language_info": {
      "codemirror_mode": {
        "name": "ipython",
        "version": 3
      },
      "file_extension": ".py",
      "mimetype": "text/x-python",
      "name": "python",
      "nbconvert_exporter": "python",
      "pygments_lexer": "ipython3",
      "version": "3.8.5"
    },
    "colab": {
      "name": "05_output.ipynb",
      "provenance": [],
      "include_colab_link": true
    }
  },
  "nbformat": 4,
  "nbformat_minor": 0
}