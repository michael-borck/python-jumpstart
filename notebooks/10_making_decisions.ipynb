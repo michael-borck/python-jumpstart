{
  "cells": [
    {
      "cell_type": "markdown",
      "metadata": {
        "id": "view-in-github",
        "colab_type": "text"
      },
      "source": [
        "<a href=\"https://colab.research.google.com/github/michael-borck/just_enough_python/blob/main/10_making_decisions.ipynb\" target=\"_parent\"><img src=\"https://colab.research.google.com/assets/colab-badge.svg\" alt=\"Open In Colab\"/></a>"
      ]
    },
    {
      "cell_type": "markdown",
      "source": [
        "<!--NAVIGATION-->\n",
        "<[Creating Functions](09_creating_functions.ipynb) | [Contents](00_contents.ipynb) | [Lists](11_lists.ipynb) >"
      ],
      "metadata": {
        "id": "HXZiCbM4-qm2"
      }
    },
    {
      "cell_type": "markdown",
      "source": [
        "# Making decisions\n",
        "\n",
        "Now that we know how to write boolean expressions, we can start writing programs that branch.  Branching is where we execute different instructions depending on whether a condition is true or false.\n",
        "\n",
        "Recall the following code from the [comparision operators section](07_operators.ipynb).\n"
      ],
      "metadata": {
        "id": "06KzqOkE6sk1"
      }
    },
    {
      "cell_type": "code",
      "source": [
        "temperature = 38\n",
        "is_hot = temperature > 35\n",
        "print(is_hot)"
      ],
      "metadata": {
        "id": "Blpky8DYlAYF",
        "outputId": "671ce9db-b98e-4c08-e32c-3c4066c35f9c",
        "colab": {
          "base_uri": "https://localhost:8080/"
        }
      },
      "execution_count": 1,
      "outputs": [
        {
          "output_type": "stream",
          "name": "stdout",
          "text": [
            "True\n"
          ]
        }
      ]
    },
    {
      "cell_type": "markdown",
      "source": [
        "\n",
        "Do we really want to print `True`, perhaps a friendlier message would be better?\n",
        "> Note the boolean expression `temperature > 35`  is also called a condition.\n",
        "\n",
        "We can use a `if` statement to decide if we want to print a message.  The syntax fo a if-statement is:\n",
        "\n",
        "```python\n",
        "if condition is true:\n",
        "  do something\n",
        "```\n",
        "\n",
        "In our case the condition is `temperature > 35`.  Try running the following cell with differ value for temperature.  Will the message print for 34, 35 or 36?"
      ],
      "metadata": {
        "id": "KT8-6IotlIpz"
      }
    },
    {
      "cell_type": "code",
      "source": [
        "temperature = 38\n",
        "\n",
        "if temperature > 35:\n",
        "  print(\"It is hot\")\n"
      ],
      "metadata": {
        "id": "IpXvhZFJmQl1",
        "outputId": "c0f5748e-546f-435c-f560-9ab80b66f221",
        "colab": {
          "base_uri": "https://localhost:8080/"
        }
      },
      "execution_count": 10,
      "outputs": [
        {
          "output_type": "stream",
          "name": "stdout",
          "text": [
            "It is hot\n"
          ]
        }
      ]
    },
    {
      "cell_type": "markdown",
      "source": [
        "Notice the `print(\"It is hot\")` is indented.  We call this the `True` branck or block.  In Python we to create a block of code we indented.  Notice the `:` character at the end of the first line.  This tell the Python interpreter to expect an indented block.\n",
        "\n",
        "Anything that is either `True` or `False` can used as a condition, even a boolean variable."
      ],
      "metadata": {
        "id": "wOCkA990nREs"
      }
    },
    {
      "cell_type": "code",
      "source": [
        "temperature = 38\n",
        "\n",
        "# store the result of a boole expresison into a variable\n",
        "# is_hot is a boolean variable\n",
        "is_hot = temperature > 35\n",
        "\n",
        "if is_hot:\n",
        "  print(\"It is hot\")"
      ],
      "metadata": {
        "id": "CV6LYYY2oQmx",
        "outputId": "eacfe39f-639c-4656-e302-a71d1d14a796",
        "colab": {
          "base_uri": "https://localhost:8080/"
        }
      },
      "execution_count": 11,
      "outputs": [
        {
          "output_type": "stream",
          "name": "stdout",
          "text": [
            "It is hot\n"
          ]
        }
      ]
    },
    {
      "cell_type": "markdown",
      "source": [
        "If I want to run more code, just add statement to the block.  To add code to a block, make sure it starts at the same indent level."
      ],
      "metadata": {
        "id": "n94iNkuEorKW"
      }
    },
    {
      "cell_type": "code",
      "source": [
        "temperature = 38\n",
        "\n",
        "if temperature > 35:\n",
        "  print(\"It is hot\")\n",
        "  print(\"Remember to take you water bottle\")"
      ],
      "metadata": {
        "id": "fb3vWkZooqeA",
        "outputId": "702d5041-51f1-4327-f359-5fa3e74f55c4",
        "colab": {
          "base_uri": "https://localhost:8080/"
        }
      },
      "execution_count": 12,
      "outputs": [
        {
          "output_type": "stream",
          "name": "stdout",
          "text": [
            "It is hot\n",
            "Remember to take you water bottle\n"
          ]
        }
      ]
    },
    {
      "cell_type": "markdown",
      "source": [
        "What happens if temperature is less that 35, say 30"
      ],
      "metadata": {
        "id": "RIuMuGtmqO2P"
      }
    },
    {
      "cell_type": "code",
      "source": [
        "temperature = 30\n",
        "\n",
        "if temperature > 35:\n",
        "  print(\"It is hot\")\n",
        "  print(\"Remember to take you water bottle\")"
      ],
      "metadata": {
        "id": "-XfZbDU7qVgH"
      },
      "execution_count": 13,
      "outputs": []
    },
    {
      "cell_type": "markdown",
      "source": [
        "No message is displayed.  Lets add a `print()` statement to know when we have finished.  Notice how `print('Done')` is not indented.  This means it is not longer part of the if block."
      ],
      "metadata": {
        "id": "l_yuyTe_qXzm"
      }
    },
    {
      "cell_type": "code",
      "source": [
        "temperature = 30\n",
        "\n",
        "if temperature > 35:\n",
        "  print(\"It is hot\")\n",
        "  print(\"Remember to take you water bottle\")\n",
        "print('Enjoy your day')"
      ],
      "metadata": {
        "id": "FjfM1CQ4qouC",
        "outputId": "5088b74b-6483-4037-f950-16e60bbb5c21",
        "colab": {
          "base_uri": "https://localhost:8080/"
        }
      },
      "execution_count": 14,
      "outputs": [
        {
          "output_type": "stream",
          "name": "stdout",
          "text": [
            "Enjoy your day\n"
          ]
        }
      ]
    },
    {
      "cell_type": "markdown",
      "source": [
        "We can add an alternative set of statement to run, using a `else:` branch. \n",
        "\n",
        "*   List item\n",
        "*   List item\n",
        "\n",
        "The syntax is\n",
        "\n",
        "```python\n",
        "if condition is true:\n",
        "  do something\n",
        "else:\n",
        "  do something else\n",
        "```\n",
        "\n",
        "> The `else:` branch is optional."
      ],
      "metadata": {
        "id": "VLIUlqBKudpU"
      }
    },
    {
      "cell_type": "code",
      "source": [
        "temperature = 30\n",
        "\n",
        "if temperature > 35:\n",
        "  print(\"It is hot day\")\n",
        "  print(\"Remember to take you water bottle\")\n",
        "else:\n",
        "  print(\"It is a cold day\")\n",
        "  print(\"Remember to wear a jumper\")\n",
        "print('Enjoy your day')"
      ],
      "metadata": {
        "id": "Y-_U-IgZvLbo",
        "outputId": "e5865bda-939e-4b5e-87ec-f34167a2e717",
        "colab": {
          "base_uri": "https://localhost:8080/"
        }
      },
      "execution_count": 15,
      "outputs": [
        {
          "output_type": "stream",
          "name": "stdout",
          "text": [
            "It is a cold day\n",
            "Remember to wear a jumper\n",
            "Enjoy your day\n"
          ]
        }
      ]
    },
    {
      "cell_type": "markdown",
      "source": [
        "But is it really a cold day?  What is temperature would you need to wear a jumper.  For me, any temperature less than 20 degrees I like to wear a jumper.How can I express this in Python?  We can use a `elif:` branch.  A `elif:` branch allows you to join multiple conditions, but in our case we only adding a one more condition.\n",
        "\n",
        "> The `else:` block is also know as the default false branch, that is the block of code to do if no condition is true.\n",
        "\n",
        "In the followng cell we add the `elif:` branch and set the temperature to 19 test the branck."
      ],
      "metadata": {
        "id": "cT-CTR6aviXL"
      }
    },
    {
      "cell_type": "code",
      "source": [
        "temperature = 19\n",
        "\n",
        "if temperature > 35:\n",
        "  print(\"It is hot day\")\n",
        "  print(\"Remember to take you water bottle\")\n",
        "elif temperature < 20:\n",
        "  print(\"It is a cold day\")\n",
        "  print(\"Remember to wear a jumper\")\n",
        "print('Enjoy your day')"
      ],
      "metadata": {
        "id": "CVY5LT_IyBMi",
        "outputId": "6f53dd10-ddf6-4707-f618-f0b81a03f1ed",
        "colab": {
          "base_uri": "https://localhost:8080/"
        }
      },
      "execution_count": 16,
      "outputs": [
        {
          "output_type": "stream",
          "name": "stdout",
          "text": [
            "It is a cold day\n",
            "Remember to wear a jumper\n",
            "Enjoy your day\n"
          ]
        }
      ]
    },
    {
      "cell_type": "markdown",
      "source": [
        "If it is neither a hot day or a cold day does that make it a 'lovley day'?  Let us print a message for when the temeprature is between 20 and 35.  We could create a new condition `20 < temperature < 35`, but since it is the only option left, we can use the `else:` branch.\n",
        "\n",
        "Let's add the `else:` block and set the temperature to 22 to test that branch."
      ],
      "metadata": {
        "id": "1qWKnUtSyffz"
      }
    },
    {
      "cell_type": "code",
      "source": [
        "temperature = 22\n",
        "\n",
        "if temperature > 35:\n",
        "  print(\"It is hot day\")\n",
        "  print(\"Remember to take you water bottle\")\n",
        "elif temperature < 20:\n",
        "  print(\"It is a cold day\")\n",
        "  print(\"Remember to wear a jumper\")\n",
        "else:\n",
        "  print(\"It is a lovley day\")\n",
        "  \n",
        "print('Enjoy your day')"
      ],
      "metadata": {
        "id": "yiqbtufczYAi",
        "outputId": "5454e3e2-e0a0-4db2-e3b9-16616fe42136",
        "colab": {
          "base_uri": "https://localhost:8080/"
        }
      },
      "execution_count": 17,
      "outputs": [
        {
          "output_type": "stream",
          "name": "stdout",
          "text": [
            "It is a lovley day\n",
            "Enjoy your day\n"
          ]
        }
      ]
    },
    {
      "cell_type": "markdown",
      "source": [
        "Here is an alternative implementation.  Some people think this is more readable as it make the meaning of each brach more obvious."
      ],
      "metadata": {
        "id": "QnajIx75zwLZ"
      }
    },
    {
      "cell_type": "code",
      "source": [
        "temperature = 22\n",
        "\n",
        "is_hot = temperature > 35\n",
        "is_cold = temperature < 20\n",
        "\n",
        "if is_hot:\n",
        "  print(\"It is hot day\")\n",
        "  print(\"Remember to take you water bottle\")\n",
        "elif is_cold:\n",
        "  print(\"It is a cold day\")\n",
        "  print(\"Remember to wear a jumper\")\n",
        "else: # neither hot or cold\n",
        "  print(\"It is a lovley day\")\n",
        "  \n",
        "print('Enjoy your day')"
      ],
      "metadata": {
        "id": "dzM_y9rI0FRa",
        "outputId": "8d039695-8b05-4458-d9d7-c4d3cc6edf08",
        "colab": {
          "base_uri": "https://localhost:8080/"
        }
      },
      "execution_count": 18,
      "outputs": [
        {
          "output_type": "stream",
          "name": "stdout",
          "text": [
            "It is a lovley day\n",
            "Enjoy your day\n"
          ]
        }
      ]
    },
    {
      "cell_type": "markdown",
      "source": [
        "One last obversation, notice though out this notebook we used different values of temperature to check that each `if:`, `elif:`, `else:` brach executed.  Although very simple, this is know as 'testing' you code.  We discuss [testing](19_testing.ipynb) later."
      ],
      "metadata": {
        "id": "QsoUPZH80Wna"
      }
    },
    {
      "cell_type": "markdown",
      "source": [
        "# Conclusion\n",
        "\n",
        "Using boolean expression and a combination of `if:`, `elif:`, `else:` you choose which statement to execute.  We have used simple boolean expression but is it possibl to make more complex condition using `and`, `or`, `not`, `is`, `is in` etc. See [operators](07_operators.ipynb) for some examples."
      ],
      "metadata": {
        "id": "u-7Xt8iGtpop"
      }
    },
    {
      "cell_type": "markdown",
      "source": [
        "<!--NAVIGATION-->\n",
        "<[Creating Functions](09_creating_functions.ipynb) | [Contents](00_contents.ipynb) | [Lists](11_lists.ipynb) >"
      ],
      "metadata": {
        "id": "6yVvb2M4-9zj"
      }
    }
  ],
  "metadata": {
    "kernelspec": {
      "display_name": "Python 3",
      "language": "python",
      "name": "python3"
    },
    "language_info": {
      "codemirror_mode": {
        "name": "ipython",
        "version": 3
      },
      "file_extension": ".py",
      "mimetype": "text/x-python",
      "name": "python",
      "nbconvert_exporter": "python",
      "pygments_lexer": "ipython3",
      "version": "3.8.5"
    },
    "colab": {
      "name": "10_making_decisions.ipynb",
      "provenance": [],
      "include_colab_link": true
    }
  },
  "nbformat": 4,
  "nbformat_minor": 0
}