{
  "cells": [
    {
      "cell_type": "markdown",
      "metadata": {
        "id": "view-in-github",
        "colab_type": "text"
      },
      "source": [
        "<a href=\"https://colab.research.google.com/github/michael-borck/just_enough_python/blob/main/16_errors_and_exceptions.ipynb\" target=\"_parent\"><img src=\"https://colab.research.google.com/assets/colab-badge.svg\" alt=\"Open In Colab\"/></a>"
      ]
    },
    {
      "cell_type": "markdown",
      "metadata": {
        "id": "-u2iod-IWCLq"
      },
      "source": [
        "<!--NAVIGATION-->\n",
        "<[Files](15_files.ipynb) | [Contents](00_contents.ipynb) | [Debugging](17_debugging.ipynb) >"
      ]
    },
    {
      "cell_type": "markdown",
      "metadata": {
        "id": "vKoB7IyoWCLq"
      },
      "source": [
        "# Errors and Exceptions"
      ]
    },
    {
      "cell_type": "markdown",
      "metadata": {
        "id": "hCfXiyMJWCLr"
      },
      "source": [
        "No matter your skill as a programmer, you will eventually make a coding mistake.\n",
        "Such mistakes come in three basic flavors:\n",
        "\n",
        "- *Syntax errors:* Errors where the code is not valid Python (generally easy to fix)\n",
        "- *Runtime errors:* Errors where syntactically valid code fails to execute, perhaps due to invalid user input (sometimes easy to fix)\n",
        "- *Semantic errors:* Errors in logic: code executes without a problem, but the result is not what you expect (often very difficult to track-down and fix)\n",
        "\n",
        "Here we're going to focus on how to deal cleanly with *runtime errors*.\n",
        "As we'll see, Python handles runtime errors via its *exception handling* framework.\n",
        "\n",
        "See [debugging](14_debugging.ipynb) for dealing with semantic errors."
      ]
    },
    {
      "cell_type": "markdown",
      "metadata": {
        "id": "Xy60EgxSWCLr"
      },
      "source": [
        "## Runtime Errors\n",
        "\n",
        "If you've done any coding in Python, you've likely come across runtime errors.\n",
        "They can happen in a lot of ways.\n",
        "\n",
        "For example, if you try to reference an undefined variable:"
      ]
    },
    {
      "cell_type": "code",
      "source": [
        "int('twenty one')"
      ],
      "metadata": {
        "colab": {
          "base_uri": "https://localhost:8080/",
          "height": 168
        },
        "id": "ENJeJc-jX1Os",
        "outputId": "ddfd9fcb-9496-43dd-a810-7658e7924928"
      },
      "execution_count": null,
      "outputs": [
        {
          "output_type": "error",
          "ename": "ValueError",
          "evalue": "ignored",
          "traceback": [
            "\u001b[0;31m---------------------------------------------------------------------------\u001b[0m",
            "\u001b[0;31mValueError\u001b[0m                                Traceback (most recent call last)",
            "\u001b[0;32m<ipython-input-6-973b0c335ed4>\u001b[0m in \u001b[0;36m<module>\u001b[0;34m()\u001b[0m\n\u001b[0;32m----> 1\u001b[0;31m \u001b[0mint\u001b[0m\u001b[0;34m(\u001b[0m\u001b[0;34m'twenty one'\u001b[0m\u001b[0;34m)\u001b[0m\u001b[0;34m\u001b[0m\u001b[0;34m\u001b[0m\u001b[0m\n\u001b[0m",
            "\u001b[0;31mValueError\u001b[0m: invalid literal for int() with base 10: 'twenty one'"
          ]
        }
      ]
    },
    {
      "cell_type": "code",
      "execution_count": null,
      "metadata": {
        "colab": {
          "base_uri": "https://localhost:8080/",
          "height": 168
        },
        "id": "Jj9i6pAlWCLs",
        "outputId": "487060c7-8fd9-49a4-9604-c8dfb53331ab"
      },
      "outputs": [
        {
          "output_type": "error",
          "ename": "NameError",
          "evalue": "ignored",
          "traceback": [
            "\u001b[0;31m---------------------------------------------------------------------------\u001b[0m",
            "\u001b[0;31mNameError\u001b[0m                                 Traceback (most recent call last)",
            "\u001b[0;32m<ipython-input-7-5f7a7c5b2c60>\u001b[0m in \u001b[0;36m<module>\u001b[0;34m()\u001b[0m\n\u001b[0;32m----> 1\u001b[0;31m \u001b[0mprint\u001b[0m\u001b[0;34m(\u001b[0m\u001b[0mage\u001b[0m\u001b[0;34m)\u001b[0m\u001b[0;34m\u001b[0m\u001b[0;34m\u001b[0m\u001b[0m\n\u001b[0m",
            "\u001b[0;31mNameError\u001b[0m: name 'age' is not defined"
          ]
        }
      ],
      "source": [
        "print(age)"
      ]
    },
    {
      "cell_type": "markdown",
      "metadata": {
        "id": "sJlF-8nyWCLt"
      },
      "source": [
        "Or if you try an operation that's not defined:"
      ]
    },
    {
      "cell_type": "code",
      "execution_count": null,
      "metadata": {
        "colab": {
          "base_uri": "https://localhost:8080/",
          "height": 168
        },
        "id": "0t2x74-BWCLu",
        "outputId": "35444cf6-786e-4ba7-a0eb-25f582dc2302"
      },
      "outputs": [
        {
          "output_type": "error",
          "ename": "TypeError",
          "evalue": "ignored",
          "traceback": [
            "\u001b[0;31m---------------------------------------------------------------------------\u001b[0m",
            "\u001b[0;31mTypeError\u001b[0m                                 Traceback (most recent call last)",
            "\u001b[0;32m<ipython-input-8-a51a3635a212>\u001b[0m in \u001b[0;36m<module>\u001b[0;34m()\u001b[0m\n\u001b[0;32m----> 1\u001b[0;31m \u001b[0;36m1\u001b[0m \u001b[0;34m+\u001b[0m \u001b[0;34m'abc'\u001b[0m\u001b[0;34m\u001b[0m\u001b[0;34m\u001b[0m\u001b[0m\n\u001b[0m",
            "\u001b[0;31mTypeError\u001b[0m: unsupported operand type(s) for +: 'int' and 'str'"
          ]
        }
      ],
      "source": [
        "1 + 'abc'"
      ]
    },
    {
      "cell_type": "markdown",
      "metadata": {
        "id": "ygfd2TA_WCLu"
      },
      "source": [
        "Or you might be trying to compute a mathematically ill-defined result:"
      ]
    },
    {
      "cell_type": "code",
      "execution_count": null,
      "metadata": {
        "colab": {
          "base_uri": "https://localhost:8080/",
          "height": 168
        },
        "id": "4_eA6N60WCLv",
        "outputId": "af1b5cd0-0109-4824-8dba-a9a8f08bbed7"
      },
      "outputs": [
        {
          "output_type": "error",
          "ename": "ZeroDivisionError",
          "evalue": "ignored",
          "traceback": [
            "\u001b[0;31m---------------------------------------------------------------------------\u001b[0m",
            "\u001b[0;31mZeroDivisionError\u001b[0m                         Traceback (most recent call last)",
            "\u001b[0;32m<ipython-input-9-8b4ac6d3a3e1>\u001b[0m in \u001b[0;36m<module>\u001b[0;34m()\u001b[0m\n\u001b[0;32m----> 1\u001b[0;31m \u001b[0;36m2\u001b[0m \u001b[0;34m/\u001b[0m \u001b[0;36m0\u001b[0m\u001b[0;34m\u001b[0m\u001b[0;34m\u001b[0m\u001b[0m\n\u001b[0m",
            "\u001b[0;31mZeroDivisionError\u001b[0m: division by zero"
          ]
        }
      ],
      "source": [
        "2 / 0"
      ]
    },
    {
      "cell_type": "markdown",
      "metadata": {
        "id": "xO8GXjevWCLv"
      },
      "source": [
        "Or maybe you're trying to access a sequence element that doesn't exist:"
      ]
    },
    {
      "cell_type": "code",
      "execution_count": null,
      "metadata": {
        "colab": {
          "base_uri": "https://localhost:8080/",
          "height": 186
        },
        "id": "XT0x2ngOWCLw",
        "outputId": "35fe7132-7523-48d3-ba4e-99bec10c06b1"
      },
      "outputs": [
        {
          "output_type": "error",
          "ename": "IndexError",
          "evalue": "ignored",
          "traceback": [
            "\u001b[0;31m---------------------------------------------------------------------------\u001b[0m",
            "\u001b[0;31mIndexError\u001b[0m                                Traceback (most recent call last)",
            "\u001b[0;32m<ipython-input-10-cec5246818ac>\u001b[0m in \u001b[0;36m<module>\u001b[0;34m()\u001b[0m\n\u001b[1;32m      1\u001b[0m \u001b[0mmy_list\u001b[0m \u001b[0;34m=\u001b[0m \u001b[0;34m[\u001b[0m\u001b[0;36m1\u001b[0m\u001b[0;34m,\u001b[0m \u001b[0;36m2\u001b[0m\u001b[0;34m,\u001b[0m \u001b[0;36m3\u001b[0m\u001b[0;34m]\u001b[0m\u001b[0;34m\u001b[0m\u001b[0;34m\u001b[0m\u001b[0m\n\u001b[0;32m----> 2\u001b[0;31m \u001b[0mmy_list\u001b[0m\u001b[0;34m[\u001b[0m\u001b[0;36m1000\u001b[0m\u001b[0;34m]\u001b[0m\u001b[0;34m\u001b[0m\u001b[0;34m\u001b[0m\u001b[0m\n\u001b[0m",
            "\u001b[0;31mIndexError\u001b[0m: list index out of range"
          ]
        }
      ],
      "source": [
        "my_list = [1, 2, 3]\n",
        "my_list[1000]"
      ]
    },
    {
      "cell_type": "markdown",
      "metadata": {
        "id": "UZ1d8j81WCLw"
      },
      "source": [
        "Note that in each case, Python is kind enough to not simply indicate that an error happened, but to spit out a *meaningful* exception that includes information about what exactly went wrong, along with the exact line of code where the error happened.\n",
        "Having access to meaningful errors like this is immensely useful when trying to trace the root of problems in your code."
      ]
    },
    {
      "cell_type": "markdown",
      "source": [
        "# Fixing Errors\n",
        "\n",
        "We have two main wat to fix the errors.  \n",
        "* We can use our control flow sturctures to test for conditions before we execute the potentiall problem code\n",
        "*we can *catch the exception*\n",
        "\n",
        "# Using control flow statements\n",
        "\n",
        "Consider our simple calculate your age program:\n",
        "\n",
        "```python\n",
        "year = int(input('What year is it? '))\n",
        "birth_year = int(input('What year were you born? '))\n",
        "age = year - birth_year\n",
        "print(age)\n",
        "```\n",
        "\n",
        "Provide the user enters integers, then the program runs.  But what happens if the user type in `'two thousand'` for `birth_year`.  Try it in the cell below. "
      ],
      "metadata": {
        "id": "8q5H2e_vYBTH"
      }
    },
    {
      "cell_type": "code",
      "source": [
        "year = int(input('What year is it? '))\n",
        "birth_year = int(input('What year were you born? '))\n",
        "age = year - birth_year\n",
        "print(age)"
      ],
      "metadata": {
        "colab": {
          "base_uri": "https://localhost:8080/",
          "height": 258
        },
        "id": "AspxhCyBbVv_",
        "outputId": "000d5e5e-8c0c-4211-8e39-c18a89d8d559"
      },
      "execution_count": null,
      "outputs": [
        {
          "name": "stdout",
          "output_type": "stream",
          "text": [
            "What year is it? 2022\n",
            "What year were you born? two thousand\n"
          ]
        },
        {
          "output_type": "error",
          "ename": "ValueError",
          "evalue": "ignored",
          "traceback": [
            "\u001b[0;31m---------------------------------------------------------------------------\u001b[0m",
            "\u001b[0;31mValueError\u001b[0m                                Traceback (most recent call last)",
            "\u001b[0;32m<ipython-input-11-88a7d2de44f1>\u001b[0m in \u001b[0;36m<module>\u001b[0;34m()\u001b[0m\n\u001b[1;32m      1\u001b[0m \u001b[0myear\u001b[0m \u001b[0;34m=\u001b[0m \u001b[0mint\u001b[0m\u001b[0;34m(\u001b[0m\u001b[0minput\u001b[0m\u001b[0;34m(\u001b[0m\u001b[0;34m'What year is it? '\u001b[0m\u001b[0;34m)\u001b[0m\u001b[0;34m)\u001b[0m\u001b[0;34m\u001b[0m\u001b[0;34m\u001b[0m\u001b[0m\n\u001b[0;32m----> 2\u001b[0;31m \u001b[0mbirth_year\u001b[0m \u001b[0;34m=\u001b[0m \u001b[0mint\u001b[0m\u001b[0;34m(\u001b[0m\u001b[0minput\u001b[0m\u001b[0;34m(\u001b[0m\u001b[0;34m'What year were you born? '\u001b[0m\u001b[0;34m)\u001b[0m\u001b[0;34m)\u001b[0m\u001b[0;34m\u001b[0m\u001b[0;34m\u001b[0m\u001b[0m\n\u001b[0m\u001b[1;32m      3\u001b[0m \u001b[0mage\u001b[0m \u001b[0;34m=\u001b[0m \u001b[0myear\u001b[0m \u001b[0;34m-\u001b[0m \u001b[0mbirth_year\u001b[0m\u001b[0;34m\u001b[0m\u001b[0;34m\u001b[0m\u001b[0m\n\u001b[1;32m      4\u001b[0m \u001b[0mprint\u001b[0m\u001b[0;34m(\u001b[0m\u001b[0mage\u001b[0m\u001b[0;34m)\u001b[0m\u001b[0;34m\u001b[0m\u001b[0;34m\u001b[0m\u001b[0m\n",
            "\u001b[0;31mValueError\u001b[0m: invalid literal for int() with base 10: 'two thousand'"
          ]
        }
      ]
    },
    {
      "cell_type": "markdown",
      "source": [
        "We get an error.  It can't convert 'two thousand' into a integer. There is a string method we can use. The `isdigit()` method returns `True` if all characters in a string are digits. If not, it returns `False`."
      ],
      "metadata": {
        "id": "hEcqaRs8bbIE"
      }
    },
    {
      "cell_type": "code",
      "source": [
        "test_string = '1234'\n",
        "print(test_string.isdigit())\n",
        "\n",
        "test_string = 'twenty one'\n",
        "print(test_string.isdigit())"
      ],
      "metadata": {
        "colab": {
          "base_uri": "https://localhost:8080/"
        },
        "id": "TzIgkln3fJFc",
        "outputId": "e630b712-822a-4270-c1d0-0645ae203100"
      },
      "execution_count": 3,
      "outputs": [
        {
          "output_type": "stream",
          "name": "stdout",
          "text": [
            "True\n",
            "False\n"
          ]
        }
      ]
    },
    {
      "cell_type": "markdown",
      "source": [
        "Okay, waht about decimal numbers."
      ],
      "metadata": {
        "id": "8-lj4HSafl-d"
      }
    },
    {
      "cell_type": "code",
      "source": [
        "test_string = '12.2'\n",
        "print(test_string.isdigit())"
      ],
      "metadata": {
        "colab": {
          "base_uri": "https://localhost:8080/"
        },
        "id": "bIERlzT4fpfF",
        "outputId": "d4e834ef-b35a-462b-bd63-37e19e33ff7c"
      },
      "execution_count": 4,
      "outputs": [
        {
          "output_type": "stream",
          "name": "stdout",
          "text": [
            "False\n"
          ]
        }
      ]
    },
    {
      "cell_type": "markdown",
      "source": [
        "Let write a function `get_int()` that take a prompt message, and keeps looping unitl the user enters a integer."
      ],
      "metadata": {
        "id": "rDXoBzdofrBj"
      }
    },
    {
      "cell_type": "code",
      "source": [
        "def get_int(prompt):\n",
        "  while True:\n",
        "    num_str = input(prompt)\n",
        "    if num_str.isdigit():\n",
        "      return int(num_str)\n",
        "    else:\n",
        "      print(\"Please input a number using only digits\")\n",
        "\n",
        "year = get_int('What year is it? ')\n",
        "birth_year = get_int('What year were you born? ')\n",
        "age = year - birth_year\n",
        "print(age)"
      ],
      "metadata": {
        "colab": {
          "base_uri": "https://localhost:8080/"
        },
        "id": "aSA4A-UJgT9t",
        "outputId": "1a97b5f7-92d2-478a-cafe-15cb09741a84"
      },
      "execution_count": 7,
      "outputs": [
        {
          "output_type": "stream",
          "name": "stdout",
          "text": [
            "What year is it? 2022\n",
            "What year were you born? two thousand\n",
            "Please input a number using only digits\n",
            "What year were you born? 2000\n",
            "22\n"
          ]
        }
      ]
    },
    {
      "cell_type": "markdown",
      "source": [
        "In [Modules and Packages](19_modules_and_pckages.ipynb) we will look at another way to validate user input."
      ],
      "metadata": {
        "id": "laurv4PKhX6m"
      }
    },
    {
      "cell_type": "markdown",
      "metadata": {
        "id": "jZkgxsyEWCLw"
      },
      "source": [
        "## Catching Exceptions: ``try`` and ``except``\n",
        "The main tool Python gives you for handling runtime exceptions is the ``try``...``except`` clause.\n",
        "Its basic structure is this:"
      ]
    },
    {
      "cell_type": "code",
      "execution_count": null,
      "metadata": {
        "id": "S0enXE8xWCLx",
        "outputId": "f7bf3e75-d92f-4c6d-edb3-724b4cb175dd"
      },
      "outputs": [
        {
          "name": "stdout",
          "output_type": "stream",
          "text": [
            "this gets executed first\n"
          ]
        }
      ],
      "source": [
        "try:\n",
        "    print(\"this gets executed first\")\n",
        "except:\n",
        "    print(\"this gets executed only if there is an error\")"
      ]
    },
    {
      "cell_type": "markdown",
      "metadata": {
        "id": "wLu2y0arWCLx"
      },
      "source": [
        "Note that the second block here did not get executed: this is because the first block did not return an error.\n",
        "Let's put a problematic statement in the ``try`` block and see what happens:"
      ]
    },
    {
      "cell_type": "code",
      "execution_count": null,
      "metadata": {
        "id": "EC1LKdcXWCLx",
        "outputId": "135c77d7-55a2-4b10-ebab-7812c1a13811"
      },
      "outputs": [
        {
          "name": "stdout",
          "output_type": "stream",
          "text": [
            "let's try something:\n",
            "something bad happened!\n"
          ]
        }
      ],
      "source": [
        "try:\n",
        "    print(\"let's try something:\")\n",
        "    x = 1 / 0 # ZeroDivisionError\n",
        "except:\n",
        "    print(\"something bad happened!\")"
      ]
    },
    {
      "cell_type": "markdown",
      "metadata": {
        "id": "Sb6jbb4FWCLy"
      },
      "source": [
        "Here we see that when the error was raised in the ``try`` statement (in this case, a ``ZeroDivisionError``), the error was caught, and the ``except`` statement was executed.\n",
        "\n",
        "One way this is often used is to check user input within a function or another piece of code.\n",
        "For example, we might wish to have a function that catches zero-division and returns some other value, perhaps a suitably large number like $10^{100}$:"
      ]
    },
    {
      "cell_type": "code",
      "execution_count": null,
      "metadata": {
        "id": "aCWwiKN6WCLy"
      },
      "outputs": [],
      "source": [
        "def safe_divide(a, b):\n",
        "    try:\n",
        "        return a / b\n",
        "    except:\n",
        "        return 1E100"
      ]
    },
    {
      "cell_type": "code",
      "execution_count": null,
      "metadata": {
        "id": "FSavPDeSWCLy",
        "outputId": "e363ef4b-18dc-48ed-946d-c96335a0300a"
      },
      "outputs": [
        {
          "data": {
            "text/plain": [
              "0.5"
            ]
          },
          "execution_count": 10,
          "metadata": {},
          "output_type": "execute_result"
        }
      ],
      "source": [
        "safe_divide(1, 2)"
      ]
    },
    {
      "cell_type": "code",
      "execution_count": null,
      "metadata": {
        "id": "zGl1UFTkWCLz",
        "outputId": "e457f7a0-a3a0-42d9-e238-edc0ade0b4d9"
      },
      "outputs": [
        {
          "data": {
            "text/plain": [
              "1e+100"
            ]
          },
          "execution_count": 11,
          "metadata": {},
          "output_type": "execute_result"
        }
      ],
      "source": [
        "safe_divide(2, 0)"
      ]
    },
    {
      "cell_type": "markdown",
      "metadata": {
        "id": "turS_91oWCLz"
      },
      "source": [
        "There is a subtle problem with this code, though: what happens when another type of exception comes up? For example, this is probably not what we intended:"
      ]
    },
    {
      "cell_type": "code",
      "execution_count": null,
      "metadata": {
        "id": "5hmugfA0WCLz",
        "outputId": "4b4b6539-1b0a-44bd-eaf1-6667db3a8169"
      },
      "outputs": [
        {
          "data": {
            "text/plain": [
              "1e+100"
            ]
          },
          "execution_count": 12,
          "metadata": {},
          "output_type": "execute_result"
        }
      ],
      "source": [
        "safe_divide (1, '2')"
      ]
    },
    {
      "cell_type": "markdown",
      "metadata": {
        "id": "PbPSvdbhWCLz"
      },
      "source": [
        "Dividing an integer and a string raises a ``TypeError``, which our over-zealous code caught and assumed was a ``ZeroDivisionError``!\n",
        "For this reason, it's nearly always a better idea to catch exceptions *explicitly*:"
      ]
    },
    {
      "cell_type": "code",
      "execution_count": null,
      "metadata": {
        "id": "O6Knj5hXWCL0"
      },
      "outputs": [],
      "source": [
        "def safe_divide(a, b):\n",
        "    try:\n",
        "        return a / b\n",
        "    except ZeroDivisionError:\n",
        "        return 1E100"
      ]
    },
    {
      "cell_type": "code",
      "execution_count": null,
      "metadata": {
        "id": "pifeNIrqWCL0",
        "outputId": "43bba2ef-c3cd-4122-a789-84a1a137f194"
      },
      "outputs": [
        {
          "data": {
            "text/plain": [
              "1e+100"
            ]
          },
          "execution_count": 14,
          "metadata": {},
          "output_type": "execute_result"
        }
      ],
      "source": [
        "safe_divide(1, 0)"
      ]
    },
    {
      "cell_type": "code",
      "execution_count": null,
      "metadata": {
        "id": "tNK0PR2VWCL0",
        "outputId": "78719974-710b-4d4c-cffe-0aa1023224aa"
      },
      "outputs": [
        {
          "ename": "TypeError",
          "evalue": "unsupported operand type(s) for /: 'int' and 'str'",
          "output_type": "error",
          "traceback": [
            "\u001b[0;31m---------------------------------------------------------------------------\u001b[0m",
            "\u001b[0;31mTypeError\u001b[0m                                 Traceback (most recent call last)",
            "\u001b[0;32m<ipython-input-15-2331af6a0acf>\u001b[0m in \u001b[0;36m<module>\u001b[0;34m()\u001b[0m\n\u001b[0;32m----> 1\u001b[0;31m \u001b[0msafe_divide\u001b[0m\u001b[0;34m(\u001b[0m\u001b[0;36m1\u001b[0m\u001b[0;34m,\u001b[0m \u001b[0;34m'2'\u001b[0m\u001b[0;34m)\u001b[0m\u001b[0;34m\u001b[0m\u001b[0m\n\u001b[0m",
            "\u001b[0;32m<ipython-input-13-10b5f0163af8>\u001b[0m in \u001b[0;36msafe_divide\u001b[0;34m(a, b)\u001b[0m\n\u001b[1;32m      1\u001b[0m \u001b[0;32mdef\u001b[0m \u001b[0msafe_divide\u001b[0m\u001b[0;34m(\u001b[0m\u001b[0ma\u001b[0m\u001b[0;34m,\u001b[0m \u001b[0mb\u001b[0m\u001b[0;34m)\u001b[0m\u001b[0;34m:\u001b[0m\u001b[0;34m\u001b[0m\u001b[0m\n\u001b[1;32m      2\u001b[0m     \u001b[0;32mtry\u001b[0m\u001b[0;34m:\u001b[0m\u001b[0;34m\u001b[0m\u001b[0m\n\u001b[0;32m----> 3\u001b[0;31m         \u001b[0;32mreturn\u001b[0m \u001b[0ma\u001b[0m \u001b[0;34m/\u001b[0m \u001b[0mb\u001b[0m\u001b[0;34m\u001b[0m\u001b[0m\n\u001b[0m\u001b[1;32m      4\u001b[0m     \u001b[0;32mexcept\u001b[0m \u001b[0mZeroDivisionError\u001b[0m\u001b[0;34m:\u001b[0m\u001b[0;34m\u001b[0m\u001b[0m\n\u001b[1;32m      5\u001b[0m         \u001b[0;32mreturn\u001b[0m \u001b[0;36m1E100\u001b[0m\u001b[0;34m\u001b[0m\u001b[0m\n",
            "\u001b[0;31mTypeError\u001b[0m: unsupported operand type(s) for /: 'int' and 'str'"
          ]
        }
      ],
      "source": [
        "safe_divide(1, '2')"
      ]
    },
    {
      "cell_type": "markdown",
      "metadata": {
        "id": "bCuqdbVlWCL0"
      },
      "source": [
        "We're now catching zero-division errors only, and letting all other errors pass through un-modified."
      ]
    },
    {
      "cell_type": "markdown",
      "metadata": {
        "id": "JLKq6auFWCL3"
      },
      "source": [
        "## Diving Deeper into Exceptions\n",
        "\n",
        "Briefly, I want to mention here some other concepts you might run into.\n",
        "I'll not go into detail on these concepts and how and why to use them, but instead simply show you the syntax so you can explore more on your own."
      ]
    },
    {
      "cell_type": "markdown",
      "metadata": {
        "id": "S39guIIVWCL3"
      },
      "source": [
        "### Accessing the error message\n",
        "\n",
        "Sometimes in a ``try``...``except`` statement, you would like to be able to work with the error message itself.\n",
        "This can be done with the ``as`` keyword:"
      ]
    },
    {
      "cell_type": "code",
      "execution_count": null,
      "metadata": {
        "id": "kzDmJJD_WCL3",
        "outputId": "3cd7ac32-0770-4c79-a756-988237b7d22a"
      },
      "outputs": [
        {
          "name": "stdout",
          "output_type": "stream",
          "text": [
            "Error class is:   <class 'ZeroDivisionError'>\n",
            "Error message is: division by zero\n"
          ]
        }
      ],
      "source": [
        "try:\n",
        "    x = 1 / 0\n",
        "except ZeroDivisionError as err:\n",
        "    print(\"Error class is:  \", type(err))\n",
        "    print(\"Error message is:\", err)"
      ]
    },
    {
      "cell_type": "markdown",
      "metadata": {
        "id": "Zfr-2YboWCL4"
      },
      "source": [
        "<!--NAVIGATION-->\n",
        "<[Files](15_files.ipynb) | [Contents](00_contents.ipynb) | [Debugging](17_debugging.ipynb) >"
      ]
    }
  ],
  "metadata": {
    "anaconda-cloud": {},
    "kernelspec": {
      "display_name": "Python 3",
      "language": "python",
      "name": "python3"
    },
    "language_info": {
      "codemirror_mode": {
        "name": "ipython",
        "version": 3
      },
      "file_extension": ".py",
      "mimetype": "text/x-python",
      "name": "python",
      "nbconvert_exporter": "python",
      "pygments_lexer": "ipython3",
      "version": "3.5.1"
    },
    "colab": {
      "name": "16_errors_and_exceptions.ipynb",
      "provenance": [],
      "include_colab_link": true
    }
  },
  "nbformat": 4,
  "nbformat_minor": 0
}