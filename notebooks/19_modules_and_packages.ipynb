{
  "cells": [
    {
      "cell_type": "markdown",
      "metadata": {
        "id": "view-in-github",
        "colab_type": "text"
      },
      "source": [
        "<a href=\"https://colab.research.google.com/github/michael-borck/just_enough_python/blob/main/19_modules_and_packages.ipynb\" target=\"_parent\"><img src=\"https://colab.research.google.com/assets/colab-badge.svg\" alt=\"Open In Colab\"/></a>"
      ]
    },
    {
      "cell_type": "markdown",
      "metadata": {
        "id": "oLRRZsOvp4xE"
      },
      "source": [
        "<!--NAVIGATION-->\n",
        "<[Testing](18_testing.ipynb) | [Contents](00_contents.ipynb) | [Orientating your Objects](20_orientating_your_objects.ipynb) >"
      ]
    },
    {
      "cell_type": "markdown",
      "metadata": {
        "id": "f293_cRsp4xE"
      },
      "source": [
        "# Modules and Packages"
      ]
    },
    {
      "cell_type": "markdown",
      "metadata": {
        "id": "OfdDlKy5p4xF"
      },
      "source": [
        "One feature of Python that makes it useful for a wide range of tasks is the fact that it comes \"batteries included\" – that is, the Python standard library contains useful tools for a wide range of tasks.\n",
        "On top of this, there is a broad ecosystem of third-party tools and packages that offer more specialized functionality.\n",
        "Here we'll take a look at importing standard library modules, tools for installing third-party modules, and a description of how you can make your own modules."
      ]
    },
    {
      "cell_type": "markdown",
      "metadata": {
        "id": "QKlI6JMKp4xF"
      },
      "source": [
        "## Loading Modules: the ``import`` Statement\n",
        "\n",
        "For loading built-in and third-party modules, Python provides the ``import`` statement.\n",
        "There are a few ways to use the statement, which we will mention briefly here, from most recommended to least recommended."
      ]
    },
    {
      "cell_type": "markdown",
      "metadata": {
        "id": "CE2b_EQ6p4xG"
      },
      "source": [
        "### Explicit module import\n",
        "\n",
        "Explicit import of a module preserves the module's content in a namespace.\n",
        "The namespace is then used to refer to its contents with a \"``.``\" between them.\n",
        "For example, here we'll import the built-in ``math`` module and compute the cosine of pi:"
      ]
    },
    {
      "cell_type": "code",
      "execution_count": null,
      "metadata": {
        "id": "7Bf9Iu0Zp4xG",
        "outputId": "877d3200-9e7e-4978-da63-f000169e1df4"
      },
      "outputs": [
        {
          "data": {
            "text/plain": [
              "-1.0"
            ]
          },
          "execution_count": 1,
          "metadata": {},
          "output_type": "execute_result"
        }
      ],
      "source": [
        "import math\n",
        "math.cos(math.pi)"
      ]
    },
    {
      "cell_type": "markdown",
      "metadata": {
        "id": "tiuCqShUp4xK"
      },
      "source": [
        "### Explicit module import by alias\n",
        "\n",
        "For longer module names, it's not convenient to use the full module name each time you access some element.\n",
        "For this reason, we'll commonly use the \"``import ... as ...``\" pattern to create a shorter alias for the namespace.\n",
        "For example, the NumPy (Numerical Python) package, a popular third-party package useful for data science, is by convention imported under the alias ``np``:"
      ]
    },
    {
      "cell_type": "code",
      "execution_count": null,
      "metadata": {
        "id": "k27agNhfp4xL",
        "outputId": "6bb992a9-d60f-4850-98b2-57af0d6050fe"
      },
      "outputs": [
        {
          "data": {
            "text/plain": [
              "-1.0"
            ]
          },
          "execution_count": 2,
          "metadata": {},
          "output_type": "execute_result"
        }
      ],
      "source": [
        "import numpy as np\n",
        "np.cos(np.pi)"
      ]
    },
    {
      "cell_type": "markdown",
      "metadata": {
        "id": "9g18Sr3dp4xM"
      },
      "source": [
        "### Explicit import of module contents\n",
        "\n",
        "Sometimes rather than importing the module namespace, you would just like to import a few particular items from the module.\n",
        "This can be done with the \"``from ... import ...``\" pattern.\n",
        "For example, we can import just the ``cos`` function and the ``pi`` constant from the ``math`` module:"
      ]
    },
    {
      "cell_type": "code",
      "execution_count": null,
      "metadata": {
        "id": "zqKx7TEpp4xM",
        "outputId": "6f35c0f2-eb92-4943-8d9e-a664cb1666d9"
      },
      "outputs": [
        {
          "data": {
            "text/plain": [
              "-1.0"
            ]
          },
          "execution_count": 3,
          "metadata": {},
          "output_type": "execute_result"
        }
      ],
      "source": [
        "from math import cos, pi\n",
        "cos(pi)"
      ]
    },
    {
      "cell_type": "markdown",
      "metadata": {
        "id": "9iViYwQLp4xN"
      },
      "source": [
        "### Implicit import of module contents\n",
        "\n",
        "Finally, it is sometimes useful to import the entirety of the module contents into the local namespace.\n",
        "This can be done with the \"``from ... import *``\" pattern:"
      ]
    },
    {
      "cell_type": "code",
      "execution_count": null,
      "metadata": {
        "id": "D1-1aRb5p4xN",
        "outputId": "a5441085-2a80-4ac5-e18f-9eecc5f0fb64"
      },
      "outputs": [
        {
          "data": {
            "text/plain": [
              "1.0"
            ]
          },
          "execution_count": 4,
          "metadata": {},
          "output_type": "execute_result"
        }
      ],
      "source": [
        "from math import *\n",
        "sin(pi) ** 2 + cos(pi) ** 2"
      ]
    },
    {
      "cell_type": "markdown",
      "metadata": {
        "id": "konBKmYlp4xO"
      },
      "source": [
        "This pattern should be used sparingly, if at all.\n",
        "The problem is that such imports can sometimes overwrite function names that you do not intend to overwrite, and the implicitness of the statement makes it difficult to determine what has changed.\n",
        "\n",
        "For example, Python has a built-in ``sum`` function that can be used for various operations:"
      ]
    },
    {
      "cell_type": "code",
      "execution_count": null,
      "metadata": {
        "id": "jtV7Se16p4xO",
        "outputId": "4c3d7ff4-8255-4488-8eac-00a70acbc8be"
      },
      "outputs": [
        {
          "name": "stdout",
          "output_type": "stream",
          "text": [
            "Help on built-in function sum in module builtins:\n",
            "\n",
            "sum(...)\n",
            "    sum(iterable[, start]) -> value\n",
            "    \n",
            "    Return the sum of an iterable of numbers (NOT strings) plus the value\n",
            "    of parameter 'start' (which defaults to 0).  When the iterable is\n",
            "    empty, return start.\n",
            "\n"
          ]
        }
      ],
      "source": [
        "help(sum)"
      ]
    },
    {
      "cell_type": "markdown",
      "metadata": {
        "id": "hgPn1oYCp4xO"
      },
      "source": [
        "We can use this to compute the sum of a sequence, starting with a certain value (here, we'll start with ``-1``):"
      ]
    },
    {
      "cell_type": "code",
      "execution_count": null,
      "metadata": {
        "id": "h12TibF6p4xP",
        "outputId": "838b67a9-e5fb-4cea-eae9-4907392a6913"
      },
      "outputs": [
        {
          "data": {
            "text/plain": [
              "9"
            ]
          },
          "execution_count": 6,
          "metadata": {},
          "output_type": "execute_result"
        }
      ],
      "source": [
        "sum(range(5), -1)"
      ]
    },
    {
      "cell_type": "markdown",
      "metadata": {
        "id": "6dOVxTwWp4xP"
      },
      "source": [
        "Now observe what happens if we make the *exact same function call* after importing ``*`` from ``numpy``:"
      ]
    },
    {
      "cell_type": "code",
      "execution_count": null,
      "metadata": {
        "id": "jcwVZUErp4xP"
      },
      "outputs": [],
      "source": [
        "from numpy import *"
      ]
    },
    {
      "cell_type": "code",
      "execution_count": null,
      "metadata": {
        "id": "un8yS-kap4xP",
        "outputId": "7539418d-7761-41a7-a16e-d851c591712e"
      },
      "outputs": [
        {
          "data": {
            "text/plain": [
              "10"
            ]
          },
          "execution_count": 8,
          "metadata": {},
          "output_type": "execute_result"
        }
      ],
      "source": [
        "sum(range(5), -1)"
      ]
    },
    {
      "cell_type": "markdown",
      "metadata": {
        "id": "XWdwEcOMp4xQ"
      },
      "source": [
        "The result is off by one!\n",
        "The reason for this is that the ``import *`` statement *replaces* the built-in ``sum`` function with the ``numpy.sum`` function, which has a different call signature: in the former, we're summing ``range(5)`` starting at ``-1``; in the latter, we're summing ``range(5)`` along the last axis (indicated by ``-1``).\n",
        "This is the type of situation that may arise if care is not taken when using \"``import *``\" – for this reason, it is best to avoid this unless you know exactly what you are doing."
      ]
    },
    {
      "cell_type": "markdown",
      "metadata": {
        "id": "KNqkwxmpp4xQ"
      },
      "source": [
        "## Importing from Python's Standard Library\n",
        "\n",
        "Python's standard library contains many useful built-in modules, which you can read about fully in [Python's documentation](https://docs.python.org/3/library/).\n",
        "Any of these can be imported with the ``import`` statement, and then explored using the help function seen in the previous section.\n",
        "Here is an extremely incomplete list of some of the modules you might wish to explore and learn about:\n",
        "\n",
        "- ``os`` and ``sys``: Tools for interfacing with the operating system, including navigating file directory structures and executing shell commands\n",
        "- ``math`` and ``cmath``: Mathematical functions and operations on real and complex numbers\n",
        "- ``itertools``: Tools for constructing and interacting with iterators and generators\n",
        "- ``functools``: Tools that assist with functional programming\n",
        "- ``random``: Tools for generating pseudorandom numbers\n",
        "- ``pickle``: Tools for object persistence: saving objects to and loading objects from disk\n",
        "- ``json`` and ``csv``: Tools for reading JSON-formatted and CSV-formatted files.\n",
        "- ``urllib``: Tools for doing HTTP and other web requests.\n",
        "\n",
        "You can find information on these, and many more, in the Python standard library documentation: https://docs.python.org/3/library/."
      ]
    },
    {
      "cell_type": "markdown",
      "metadata": {
        "id": "Rq8ipRKLp4xQ"
      },
      "source": [
        "## Importing from Third-Party Modules\n",
        "\n",
        "One of the things that makes Python useful, especially within the world of data science, is its ecosystem of third-party modules.\n",
        "These can be imported just as the built-in modules, but first the modules must be installed on your system.\n",
        "The standard registry for such modules is the Python Package Index (*PyPI* for short), found on the Web at http://pypi.python.org/.\n",
        "For convenience, Python comes with a program called ``pip`` (a recursive acronym meaning \"pip installs packages\"), which will automatically fetch packages released and listed on PyPI (if you use Python version 2, ``pip`` must be installed separately).\n",
        "For example, if you'd like to install the ``supersmoother`` package that I wrote, all that is required is to type the following at the command line:\n",
        "```\n",
        "$ pip install supersmoother\n",
        "```\n",
        "The source code for the package will be automatically downloaded from the PyPI repository, and the package installed in the standard Python path (assuming you have permission to do so on the computer you're using).\n",
        "\n",
        "For more information about PyPI and the ``pip`` installer, refer to the documentation at http://pypi.python.org/."
      ]
    },
    {
      "cell_type": "markdown",
      "metadata": {
        "id": "-Ms9FTJBp4xR"
      },
      "source": [
        "<!--NAVIGATION-->\n",
        "<[Testing](18_testing.ipynb) | [Contents](00_contents.ipynb) | [Orientating your Objects](20_orientating_your_objects.ipynb) >"
      ]
    }
  ],
  "metadata": {
    "anaconda-cloud": {},
    "kernelspec": {
      "display_name": "Python 3",
      "language": "python",
      "name": "python3"
    },
    "language_info": {
      "codemirror_mode": {
        "name": "ipython",
        "version": 3
      },
      "file_extension": ".py",
      "mimetype": "text/x-python",
      "name": "python",
      "nbconvert_exporter": "python",
      "pygments_lexer": "ipython3",
      "version": "3.5.1"
    },
    "colab": {
      "name": "19_modules_and_packages.ipynb",
      "provenance": [],
      "include_colab_link": true
    }
  },
  "nbformat": 4,
  "nbformat_minor": 0
}