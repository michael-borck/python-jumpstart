{
  "cells": [
    {
      "cell_type": "markdown",
      "metadata": {
        "id": "view-in-github",
        "colab_type": "text"
      },
      "source": [
        "<a href=\"https://colab.research.google.com/github/michael-borck/just_enough_python/blob/main/04_variables.ipynb\" target=\"_parent\"><img src=\"https://colab.research.google.com/assets/colab-badge.svg\" alt=\"Open In Colab\"/></a>"
      ]
    },
    {
      "cell_type": "markdown",
      "source": [
        "<!--NAVIGATION-->\n",
        "< [Values](03_values.ipynb) | [Contents](00_contents.ipynb) | [Output](05_output.ipynb) >"
      ],
      "metadata": {
        "id": "g_tYmKieDeEt"
      }
    },
    {
      "cell_type": "markdown",
      "source": [
        "### How do we store values?\n",
        "\n",
        "To be useful we need a way to store values in computer's memory.  To this we need to be able to identify a location in memory.  We could use a memory address but that could get confusing, instead we given the location a name, and identifier.  In programming we call this a variable.  \n",
        "\n",
        "> A ***variable*** is the name given to a part of the computers memory, designed to store aprticular data item.  It is called a variable because the value stored may change or vary as the program executes. \n",
        "\n",
        "> A **literal** is a constant whose *name* is the written representaiton of the value.\n",
        "\n",
        "> A ***constant*** is a data item with a name and a value that will remian the same during the executation of a program.  We will use constants later.\n",
        "\n",
        "To store a value, we create a variable and then assign the value.  To assign  a value we use the equals (**=**) sign, for example: `age = 21`\n",
        "\n",
        "> Notice the spaces either side of the equals. This is best practice and a recommendation from PEP8 (discussled later).\n",
        "\n",
        "Run the next code cell."
      ],
      "metadata": {
        "id": "fXF5jT7AQUPD"
      }
    },
    {
      "cell_type": "code",
      "source": [
        "age = 21"
      ],
      "metadata": {
        "id": "Xtr2INjLUbCC"
      },
      "execution_count": null,
      "outputs": []
    },
    {
      "cell_type": "markdown",
      "source": [
        "I didn't see any output, how do we know it worked?  Type the name of the variable in a cell on its own.  Type `age` in the following cell"
      ],
      "metadata": {
        "id": "EJ9_66XOUcYE"
      }
    },
    {
      "cell_type": "code",
      "source": [
        ""
      ],
      "metadata": {
        "id": "JdYUfyUyVWtK"
      },
      "execution_count": null,
      "outputs": []
    },
    {
      "cell_type": "markdown",
      "source": [
        "The data type of a variable is the same as the value assigned.  The data type of the value `21` is `int`.  Confirm this by running the cell below"
      ],
      "metadata": {
        "id": "aMR60buoVYGY"
      }
    },
    {
      "cell_type": "code",
      "source": [
        "type(21)"
      ],
      "metadata": {
        "id": "iOkPujUDVxqF"
      },
      "execution_count": null,
      "outputs": []
    },
    {
      "cell_type": "markdown",
      "source": [
        "Now lets check the type of age."
      ],
      "metadata": {
        "id": "fPev_30MVzny"
      }
    },
    {
      "cell_type": "code",
      "source": [
        "type(age)"
      ],
      "metadata": {
        "id": "QFSGcVhtV408"
      },
      "execution_count": null,
      "outputs": []
    },
    {
      "cell_type": "markdown",
      "source": [
        "The data types are the same.  Notice in `type(age)` I was able to use the variable the same way we have bene using a value.\n",
        "\n",
        "We can change the value of a variable.  First lets check the current values."
      ],
      "metadata": {
        "id": "hA27rv8VV7Bp"
      }
    },
    {
      "cell_type": "code",
      "source": [
        "age"
      ],
      "metadata": {
        "id": "cY_dla4rWyJx"
      },
      "execution_count": null,
      "outputs": []
    },
    {
      "cell_type": "markdown",
      "source": [
        "Now lets change or update the variable `age` by assigning a new value to the variable.  To do thie we use the equals sign `=`"
      ],
      "metadata": {
        "id": "o7QTAwDmW87q"
      }
    },
    {
      "cell_type": "code",
      "source": [
        "age = 42"
      ],
      "metadata": {
        "id": "Mz-cw7CHXMqm"
      },
      "execution_count": null,
      "outputs": []
    },
    {
      "cell_type": "markdown",
      "source": [
        "Let us check if it worked"
      ],
      "metadata": {
        "id": "F9XQ3qd3XQFo"
      }
    },
    {
      "cell_type": "code",
      "source": [
        "age"
      ],
      "metadata": {
        "id": "AzB_qRIOXVKQ"
      },
      "execution_count": null,
      "outputs": []
    },
    {
      "cell_type": "markdown",
      "source": [
        "It worked. We have:\n",
        "* assigned a value of `21` to the variable `age`\n",
        "* checked that the data type of the variable was the same as the value assigned\n",
        "* change the value of the variable to `42`\n",
        "\n",
        "## Variable names\n",
        "\n",
        "Variable names \n",
        "must be unique\n",
        "case sensitive\n",
        "can use only letters, numbers, and the underscore character (_)\n",
        "No dot characters be used  `this.is.not.allowed`\n",
        "No spaces `this is not allowed`\n",
        "No quotes ` \"NotAllowed\"`\n",
        "Can't start with a number `6notAllowed`\n",
        "Can't be a keyword  `import`\n",
        "\n",
        "## Best Practice\n",
        "\n",
        "The rules allow for the possibility of strange names like `l33t` or `NaM3` or even single-letter names like `w`. These are lousy naming practices as they make your program harder to read. Readability is essential in program code.   We will learn other naming conventions, but for now\n",
        "* variable names should be meaningful `week` not `w` \n",
        "* variable names are in lowercase e.g. `day`\n",
        "* separate words with underscores `day_of_week`  (this is called snake_case)\n",
        "\n",
        "## Conclusion\n",
        "\n",
        "> *In computer programming, a variable is an abstract storage location paired with an associated symbolic name, which contains some known or unknown quantity of information referred to as a value; or in simpler terms, a variable is a container for a particular set of bits or type of data.* [Wikipedia](https://en.wikipedia.org/wiki/Variable_(computer_science))\n",
        "\n",
        "Variables allow us to store values and not worry about where or how they are located in a computer's memory. They have the same data type as the value assigned. Variable names can make your program more readable by consistently applying good naming conventions.\n",
        "\n",
        "In the next notebook, we look at the operations we can perform on variables."
      ],
      "metadata": {
        "id": "Bx9RLtbpXWQs"
      }
    },
    {
      "cell_type": "markdown",
      "source": [
        "<!--NAVIGATION-->\n",
        "< [Values](03_values.ipynb) | [Contents](00_contents.ipynb) | [Output](05_output.ipynb) >"
      ],
      "metadata": {
        "id": "PHcHnvkdDuGE"
      }
    }
  ],
  "metadata": {
    "kernelspec": {
      "display_name": "Python 3",
      "language": "python",
      "name": "python3"
    },
    "language_info": {
      "codemirror_mode": {
        "name": "ipython",
        "version": 3
      },
      "file_extension": ".py",
      "mimetype": "text/x-python",
      "name": "python",
      "nbconvert_exporter": "python",
      "pygments_lexer": "ipython3",
      "version": "3.8.5"
    },
    "colab": {
      "name": "04_variables.ipynb",
      "provenance": [],
      "include_colab_link": true
    }
  },
  "nbformat": 4,
  "nbformat_minor": 0
}